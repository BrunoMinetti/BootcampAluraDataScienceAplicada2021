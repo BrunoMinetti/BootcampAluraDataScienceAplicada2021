{
  "nbformat": 4,
  "nbformat_minor": 0,
  "metadata": {
    "colab": {
      "name": "Bruno_Sanches_ProjetoModulo3.ipynb",
      "provenance": [],
      "toc_visible": true,
      "mount_file_id": "1T97JknLRU6CnmZ2rXYHNgNWWrngFyscJ",
      "authorship_tag": "ABX9TyNB/S1TD9gWqydso9Eump5m",
      "include_colab_link": true
    },
    "kernelspec": {
      "name": "python3",
      "display_name": "Python 3"
    }
  },
  "cells": [
    {
      "cell_type": "markdown",
      "metadata": {
        "id": "view-in-github",
        "colab_type": "text"
      },
      "source": [
        "<a href=\"https://colab.research.google.com/github/BrunoMinetti/BootcampAluraDataScienceAplicada2021/blob/main/Bruno_Sanches_ProjetoModulo3.ipynb\" target=\"_parent\"><img src=\"https://colab.research.google.com/assets/colab-badge.svg\" alt=\"Open In Colab\"/></a>"
      ]
    },
    {
      "cell_type": "markdown",
      "metadata": {
        "id": "RDop1bWwAEDs"
      },
      "source": [
        "#**Escolas Acessíveis e Inclusivas - Estudo de caso utilizando os indicadores da Pesquisa Nacional de Saúde do Escolar -  PeNSE 2015 -  Amostra 2 e o Censo Escolar 2019 do INEP**\r\n",
        "---\r\n",
        "Autor: Bruno Cesar Minetti Sanches<p>\r\n",
        "GitHub: https://github.com/BrunoMinetti<p>\r\n",
        "Linkedin: https://www.linkedin.com/in/brunocmsanches/<p>\r\n",
        "\r\n",
        "---\r\n",
        "###Breve currículo:<p> \r\n",
        "Gestor de Trânsito | Tecnólogo em Microeletrônica | Estudante de Análise e Desenvolvimento de Sistemas"
      ]
    },
    {
      "cell_type": "markdown",
      "metadata": {
        "id": "IfMNpy00BCzD"
      },
      "source": [
        "## Resumo:\r\n",
        "---\r\n",
        "Nesse estudo proponho um olhar sobre o acesso das pessoas com deficiência ou mobilidade reduzida, ou algum tipo de necessidade especial.\r\n",
        "O estudo se dará sobre a percepção dos entrevistados na pesquisa quanto a quesitos relacionados a inclusão, se as escolas são adaptadas e se os alunos que necessitam dessas adaptações conseguem utilizá-las.\r\n",
        "Também quero verificar se essa sensação muda nas regiões do país.\r\n",
        "Isso deve gerar minha hipótese, para tentar comprovara minha hipótese, vou utilizar dados do Censo Escolar mais recente publicado."
      ]
    },
    {
      "cell_type": "markdown",
      "metadata": {
        "id": "AotAYV6e3jh9"
      },
      "source": [
        "## Dados utilizados:\r\n",
        "---\r\n",
        "Database: PENSE_AMOSTR2_ALUNOESCOLA.CSV <p>\r\n",
        "Indicadores selecionados: <p>\r\n",
        "- Informações gerais da escola:<p>\r\n",
        ">- REGEOGR - Região geográfica<p>\r\n",
        ">- V0006 - Situação da escola<p>\r\n",
        ">- V0007 -\tDependência Administrativa da escola<p>\r\n",
        ">- V0008 -\tEsfera Administrativa da escola<p>\r\n",
        "- Percepção dos alunos sobre a presença de alunos com necessidades especiais na escola:\r\n",
        ">- VE01P40\t- A escola possui alunos com deficiência ou com transtorno global do desenvolvimento?<p>\r\n",
        ">- VE01P410 - A escola possui alunos com deficiência intelectual?<p>\r\n",
        ">- VE01P4102 - A escola possui alunos com transtornos do espectro do autismo?<p>\r\n",
        ">- VE01P4103 - A escola possui alunos com transtornos mentais e de comportamento?<p>\r\n",
        ">- VE01P4104 - A escola possui alunos com deficiência física?<p>\r\n",
        ">- VE01P4105 - A escola possui alunos com deficiência auditiva?<p>\r\n",
        ">- VE01P4106 - A escola possui alunos com deficiência visual?<p>\r\n",
        ">- VE01P4107- A escola possui alunos com deficiência múltipla (2 ou mais deficiências ao mesmo tempo)?<p>\r\n",
        ">- VE01P4108 - A escola possui alunos com outras deficiências?<p>\r\n",
        "- Percepção dos alunos quanto a presença dos equipamentos de acessibilidade inclusiva na escola:\r\n",
        ">- VE01P42\tA escola oferece atividade física adaptada para alunos com deficiência?<p>\r\n",
        ">- VE01P43\tA escola possui estrutura para assegurar a acessibilidade dos alunos com necessidades especiais?<p>\r\n",
        ">- VE01P4401 - A escola possui rampas de acesso?<p> \r\n",
        ">- VE01P4402 - A escola possui interior adequado para locomoção?<p> \r\n",
        ">- VE01P4403 - A escola possui móveis adequados para alunos com necessidade especiais?<p> \r\n",
        ">- VE01P4404 - A escola possui sanitário adequado para alunos com necessidades especiais?<p>\r\n",
        "---\r\n",
        "Censo Escolar 2019\r\n",
        "Database: ESCOLAS.CSV <p>\r\n",
        "Indicadores selecionados: <p>\r\n",
        "- Informações gerais da escola:<p>\r\n",
        "> - CO_REGIAO - Código da região geográfica<p>\r\n",
        "> - CO_UF - Código da UF<p>\r\n",
        "> - TP_DEPENDENCIA - Dependência Administrativa<p>\r\n",
        "> - TP_LOCALIZACAO - Localização<p>\r\n",
        "> - IN_BANHEIRO_PNE - Dependências físicas existentes e utilizadas na escola - Banheiro acessível, adequado ao uso de pessoas com deficiência ou mobilidade reduzida<p>\r\n",
        "> - IN_SALA_ATENDIMENTO_ESPECIAL - Dependências físicas existentes e utilizadas na escola - Sala de recursos Multifuncionais para Atendimento Educacional Especializado (AEE)<p>\r\n",
        "> - IN_ACESSIBILIDADE_CORRIMAO - Recursos de acessibilidade para pessoas com deficiência ou mobilidade reduzida nas vias de circulação interna na escola - Corrimão e guarda corpos<p>\r\n",
        "> - IN_ACESSIBILIDADE_ELEVADOR - Recursos de acessibilidade para pessoas com deficiência ou mobilidade reduzida nas vias de circulação interna na escola - Elevador\r\n",
        "> - IN_ACESSIBILIDADE_PISOS_TATEIS - Recursos de acessibilidade para pessoas com deficiência ou mobilidade reduzida nas vias de circulação interna na escola - Pisos táteis<p>\r\n",
        "> - IN_ACESSIBILIDADE_VAO_LIVRE - Recursos de acessibilidade para pessoas com deficiência ou mobilidade reduzida nas vias de circulação interna na escola - Portas com vão livre de no mínimo 80 cm<p>\r\n",
        "> - IN_ACESSIBILIDADE_RAMPAS - Recursos de acessibilidade para pessoas com deficiência ou mobilidade reduzida nas vias de circulação interna na escola - Rampas<p>\r\n",
        "> - IN_ACESSIBILIDADE_SINAL_SONORO - Recursos de acessibilidade para pessoas com deficiência ou mobilidade reduzida nas vias de circulação interna na escola - Sinalização sonora<p>\r\n",
        "> - IN_ACESSIBILIDADE_SINAL_TATIL - Recursos de acessibilidade para pessoas com deficiência ou mobilidade reduzida nas vias de circulação interna na escola - Sinalização tátil (piso/paredes)<p>\r\n",
        "> - IN_ACESSIBILIDADE_SINAL_VISUAL - Recursos de acessibilidade para pessoas com deficiência ou mobilidade reduzida nas vias de circulação interna na escola - Sinalização visual (piso/paredes)<p>\r\n",
        "> - IN_ACESSIBILIDADE_INEXISTENTE - Recursos de acessibilidade para pessoas com deficiência ou mobilidade reduzida nas vias de circulação interna na escola - Nenhum dos recursos de acessibilidade listado<p>\r\n",
        "> - QT_SALAS_UTILIZADAS_ACESSIVEIS - Condições das salas de aula utilizadas na escola (dentro e fora do prédio escolar) - Número de salas de aula com acessibilidade para pessoas com deficiência ou mobilidade reduzida.<p>\r\n",
        "> - TP_AEE\tAtendimento Educacional Especializado (AEE)<p>\r\n",
        "> - IN_ESPECIAL_EXCLUSIVA - Escola possui classe especial exclusiva (ao menos uma turma exclusiva de alunos com deficiência, transtorno global do desenvolvimento ou altas habilidades/superdotação - Classes Especiais)<p>\r\n",
        "> - IN_ESP_EXCLUSIVA_PRE - Escola oferece Pré-escola em classes especiais exclusivas do ensino regular (TP_ETAPA_ENSINO=2 e IN_ESPECIAL_EXCLUSIVA=1)\r\n",
        "> - IN_ESP_EXCLUSIVA_CRECHE - Escola oferece Creche em classes especiais exclusivas do ensino regular (TP_ETAPA_ENSINO=1 e IN_ESPECIAL_EXCLUSIVA=1)<p>\r\n",
        "> - IN_ESP_EXCLUSIVA_PRE - Escola oferece Pré-escola em classes especiais exclusivas do ensino regular (TP_ETAPA_ENSINO=2 e IN_ESPECIAL_EXCLUSIVA=1)<p>\r\n",
        "> - IN_ESP_EXCLUSIVA_FUND_AI - Escola oferece Anos Iniciais do Ensino Fundamental (8 e 9 anos) em classes especiais exclusivas do ensino regular (TP_ETAPA_ENSINO igual a 4,5,6,7,14,15,16,17 ou 18 e  IN_ESPECIAL_EXCLUSIVA=1)<p>\r\n",
        "> - IN_ESP_EXCLUSIVA_FUND_AF - Escola oferece Anos Finais do Ensino Fundamental (8 e 9 anos) em classes especiais exclusivas do ensino regular (TP_ETAPA_ENSINO igual a 8,9,10,11,19,20,21 ou 41 e IN_ESPECIAL_EXCLUSIVA=1)<p>\r\n",
        "> - IN_ESP_EXCLUSIVA_MEDIO_MEDIO - Escola oferece Ensino Médio - Médio Propedêutico em classes especiais exclusivas do ensino regular (TP_ETAPA_ENSINO igual a 25,26,27,28 ou 29 e IN_ESPECIAL_EXCLUSIVA=1)<p>\r\n",
        "> - IN_ESP_EXCLUSIVA_MEDIO_INTEGR - Escola oferece Curso Técnico Integrado ao Ensino Médio em classes especiais exclusivas do ensino regular (TP_ETAPA_ENSINO igual a  30,31,32,33 ou 34 e IN_ESPECIAL_EXCLUSIVA=1)<p>\r\n",
        "> - IN_ESP_EXCLUSIVA_MEDIO_NORMAL - Escola oferece Ensino Médio - Normal/ Magistério em classes especiais exclusivas do ensino regular (TP_ETAPA_ENSINO igual a  35,36,37 ou 38 e IN_ESPECIAL_EXCLUSIVA=1)<p>\r\n",
        "\r\n",
        "---\r\n",
        "Database: MATRICULAS_CO.CSV, MATRICULAS_NORDESTE.CSV, MATRICULAS_NORTE.CSV, MATRICULAS_SUDESTE.CSV, MATRICULAS_SUL.CSV<p>\r\n",
        "Indicadores selecionados: <p>\r\n",
        "- Alunos Matriculados com alguma necessidade especial ou deficiência:\r\n",
        "> - IN_NECESSIDADE_ESPECIAL - Aluno (a) com deficiência, transtorno do espectro autista ou altas habilidades/superdotação<p>\r\n",
        "> - IN_BAIXA_VISAO - Tipo de deficiência, transtorno do espectro autista ou altas habilidades/superdotação - Baixa visão<p>\r\n",
        "> - IN_CEGUEIRA - Tipo de deficiência, transtorno do espectro autista ou altas habilidades/superdotação - Cegueira<p>\r\n",
        "> - IN_DEF_AUDITIVA - Tipo de deficiência, transtorno do espectro autista ou altas habilidades/superdotação (deficiência auditiva)<p>\r\n",
        "> - IN_DEF_FISICA - Tipo de deficiência, transtorno do espectro autista ou altas habilidades/superdotação  - Deficiência física<p>\r\n",
        "> - IN_DEF_INTELECTUAL - Tipo de deficiência, transtorno do espectro autista ou altas habilidades/superdotação - Deficiência intelectual<p>\r\n",
        "> - IN_SURDEZ - Tipo de deficiência, transtorno do espectro autista ou altas habilidades/superdotação - Surdez<p>\r\n",
        "> - IN_SURDOCEGUEIRA - Tipo de deficiência, transtorno do espectro autista ou altas habilidades/superdotação - Surdocegueira<p>\r\n",
        "> - IN_DEF_MULTIPLA - Tipo de deficiência, transtorno do espectro autista ou altas habilidades/superdotação - Deficiência múltipla<p>\r\n",
        "> - IN_AUTISMO - Tipo de deficiência, transtorno do espectro autista ou altas habilidades/superdotação - Transtorno do Espectro Autista<p>\r\n",
        "> - IN_SUPERDOTACAO - Tipo de deficiência, transtorno do espectro autista ou altas habilidades/superdotação  - Altas habilidades/superdotação<p>\r\n",
        "\r\n",
        "\r\n",
        "**Links:**<p>\r\n",
        "https://www.ibge.gov.br/estatisticas/sociais/educacao/9134-pesquisa-nacional-de-saude-do-escolar.html?=&t=microdados <p>\r\n",
        "\r\n",
        "https://www.gov.br/inep/pt-br/acesso-a-informacao/dados-abertos/microdados/censo-escolar <p>"
      ]
    },
    {
      "cell_type": "markdown",
      "metadata": {
        "id": "JNbBhiuXWRIa"
      },
      "source": [
        "## Base de Dados:\r\n",
        "---"
      ]
    },
    {
      "cell_type": "code",
      "metadata": {
        "id": "bD5DlBMLWzER"
      },
      "source": [
        "import pandas as pd\r\n",
        "import numpy as np\r\n",
        "import matplotlib.pyplot as plt\r\n",
        "import matplotlib.ticker as ticker\r\n",
        "import datetime\r\n",
        "from datetime import date\r\n",
        "import seaborn as sns\r\n",
        "from zipfile import ZipFile"
      ],
      "execution_count": 1,
      "outputs": []
    },
    {
      "cell_type": "code",
      "metadata": {
        "id": "ZaOqzQyJGl1T"
      },
      "source": [
        "### As peguntas relativas aos quadros \"A escola possui...\"\r\n",
        "indicadores = [\r\n",
        "               'Regiao_Geografica',\r\n",
        "               'Situacao_Escola',\r\n",
        "               'Dependencia_Administrativa', \r\n",
        "               'Esfera_Administrativa',\r\n",
        "               'Alunos_Deficiência_Transtorno_Global_Desenvolvimento',\r\n",
        "               'Alunos_Deficiencia_Intelectual',\r\n",
        "               'Alunos_Transtornos_Espectro_Autismo',\r\n",
        "               'Alunos_Transtornos_Mentais_De_Comportamento',\r\n",
        "               'Alunos_Deficiencia_Fisica',\r\n",
        "               'Alunos_Deficiencia_Auditiva',\r\n",
        "               'Alunos_Deficiencia_Visual',\r\n",
        "               'Alunos_Deficiencia_Multipla',\r\n",
        "               'Alunos_Outras_Deficiencias',\r\n",
        "               'Escola_com_Atividade_Fisica_Adaptada',\r\n",
        "               'Escola_Adaptada',\r\n",
        "               'Escola_Rampas_de_Acesso',\r\n",
        "               'Escola_Interior_Adequado_Locomocao',\r\n",
        "               'Escola_Moveis_Adequados',\r\n",
        "               \"Escola_Banheiros_Acessíveis\"\r\n",
        "               ]\r\n",
        "codigos = ['REGEOGR','V0006', 'V0007', 'V0008', 'VE01P40', 'VE01P4101',\r\n",
        "           'VE01P4102', 'VE01P4103', 'VE01P4104', 'VE01P4105', 'VE01P4106', \r\n",
        "           'VE01P4107', 'VE01P4108', 'VE01P42', 'VE01P43', 'VE01P4401', \r\n",
        "           'VE01P4402', 'VE01P4403', 'VE01P4404', \r\n",
        "           ]\r\n",
        "\r\n",
        "respostas = {\r\n",
        "    -2 : 'Dados Não Disponíveis',\r\n",
        "    -1 : 'Pulo no Questionário',\r\n",
        "     1 : 'Sim',\r\n",
        "     2 : 'Não',\r\n",
        "     9 : 'Não Informado'\r\n",
        "}\r\n",
        "\r\n",
        "necessidades_alunos = [\r\n",
        "               'Alunos_Deficiência_Transtorno_Global_Desenvolvimento',\r\n",
        "               'Alunos_Deficiencia_Intelectual',\r\n",
        "               'Alunos_Transtornos_Espectro_Autismo',\r\n",
        "               'Alunos_Transtornos_Mentais_De_Comportamento',\r\n",
        "               'Alunos_Deficiencia_Fisica',\r\n",
        "               'Alunos_Deficiencia_Auditiva',\r\n",
        "               'Alunos_Deficiencia_Visual',\r\n",
        "               'Alunos_Deficiencia_Multipla',\r\n",
        "               'Alunos_Outras_Deficiencias'\r\n",
        "]\r\n",
        "\r\n",
        "necessidades_escola = [\r\n",
        "               'Escola_com_Atividade_Fisica_Adaptada',\r\n",
        "               'Escola_Adaptada',\r\n",
        "               'Escola_Rampas_de_Acesso',\r\n",
        "               'Escola_Interior_Adequado_Locomocao',\r\n",
        "               'Escola_Moveis_Adequados',\r\n",
        "               \"Escola_Banheiros_Acessíveis\"\r\n",
        "]\r\n",
        "\r\n",
        "regiao = {\r\n",
        "    1:'Norte',\r\n",
        "    2:'Nordeste',\r\n",
        "    3:'Sudeste',\r\n",
        "    4:'Sul',\r\n",
        "    5:'Centro_Oeste'\r\n",
        "}"
      ],
      "execution_count": 2,
      "outputs": []
    },
    {
      "cell_type": "code",
      "metadata": {
        "id": "Vqh2eJZ2aNVd"
      },
      "source": [
        "# Indicadores selecionados para os dados do Censo Escolas:\r\n",
        "indicadores_escolas_acessiveis = ['CO_REGIAO',\r\n",
        "                                  'CO_UF',\r\n",
        "                                  'TP_DEPENDENCIA',\r\n",
        "                                  'TP_LOCALIZACAO',\r\n",
        "                                  'IN_BANHEIRO_PNE',\r\n",
        "                                  'IN_SALA_ATENDIMENTO_ESPECIAL',\r\n",
        "                                  'IN_ACESSIBILIDADE_CORRIMAO',\r\n",
        "                                  'IN_ACESSIBILIDADE_ELEVADOR',\r\n",
        "                                  'IN_ACESSIBILIDADE_PISOS_TATEIS',\r\n",
        "                                  'IN_ACESSIBILIDADE_VAO_LIVRE',\r\n",
        "                                  'IN_ACESSIBILIDADE_RAMPAS',\r\n",
        "                                  'IN_ACESSIBILIDADE_SINAL_SONORO',\r\n",
        "                                  'IN_ACESSIBILIDADE_SINAL_TATIL',\r\n",
        "                                  'IN_ACESSIBILIDADE_SINAL_VISUAL',\r\n",
        "                                  'IN_ACESSIBILIDADE_INEXISTENTE',\r\n",
        "                                  'QT_SALAS_UTILIZADAS_ACESSIVEIS',\r\n",
        "                                  'TP_AEE',\r\n",
        "                                  'IN_ESPECIAL_EXCLUSIVA',\r\n",
        "                                  'IN_ESP_EXCLUSIVA_CRECHE',\r\n",
        "                                  'IN_ESP_EXCLUSIVA_PRE',\r\n",
        "                                  'IN_ESP_EXCLUSIVA_FUND_AI',\r\n",
        "                                  'IN_ESP_EXCLUSIVA_FUND_AF',\r\n",
        "                                  'IN_ESP_EXCLUSIVA_MEDIO_MEDIO',\r\n",
        "                                  'IN_ESP_EXCLUSIVA_MEDIO_INTEGR',\r\n",
        "                                  'IN_ESP_EXCLUSIVA_MEDIO_NORMAL',\r\n",
        "\r\n",
        "]\r\n",
        "\r\n",
        "equipamentos_acessibilidade = [\r\n",
        "                               'IN_BANHEIRO_PNE',\r\n",
        "                               'IN_SALA_ATENDIMENTO_ESPECIAL',\r\n",
        "                               'IN_ACESSIBILIDADE_CORRIMAO',\r\n",
        "                               'IN_ACESSIBILIDADE_ELEVADOR',\r\n",
        "                               'IN_ACESSIBILIDADE_PISOS_TATEIS',\r\n",
        "                               'IN_ACESSIBILIDADE_VAO_LIVRE',\r\n",
        "                               'IN_ACESSIBILIDADE_RAMPAS',\r\n",
        "                               'IN_ACESSIBILIDADE_SINAL_SONORO',\r\n",
        "                               'IN_ACESSIBILIDADE_SINAL_TATIL',\r\n",
        "                               'IN_ACESSIBILIDADE_SINAL_VISUAL',\r\n",
        "                               'IN_ACESSIBILIDADE_INEXISTENTE',\r\n",
        "]\r\n",
        "\r\n",
        "respostas_eb = {0 : 'Não', 1 : 'Sim'}"
      ],
      "execution_count": 3,
      "outputs": []
    },
    {
      "cell_type": "code",
      "metadata": {
        "colab": {
          "base_uri": "https://localhost:8080/",
          "height": 216
        },
        "id": "beImzSth__ru",
        "outputId": "6afc2d25-4a8f-4f01-b84c-82e2da560780"
      },
      "source": [
        "caminho = \"/content/drive/MyDrive/PeNSE_2015_AMOSTRA2/PeNSE_2015_AMOSTRA2.zip\"\r\n",
        "zip = ZipFile(caminho)\r\n",
        "caminho_pasta_zipada = zip.namelist()[2]\r\n",
        "dados = pd.read_csv(zip.open(caminho_pasta_zipada), sep=';', thousands='.',\r\n",
        "                    decimal=',', usecols=codigos)\r\n",
        "dados.head()"
      ],
      "execution_count": 4,
      "outputs": [
        {
          "output_type": "execute_result",
          "data": {
            "text/html": [
              "<div>\n",
              "<style scoped>\n",
              "    .dataframe tbody tr th:only-of-type {\n",
              "        vertical-align: middle;\n",
              "    }\n",
              "\n",
              "    .dataframe tbody tr th {\n",
              "        vertical-align: top;\n",
              "    }\n",
              "\n",
              "    .dataframe thead th {\n",
              "        text-align: right;\n",
              "    }\n",
              "</style>\n",
              "<table border=\"1\" class=\"dataframe\">\n",
              "  <thead>\n",
              "    <tr style=\"text-align: right;\">\n",
              "      <th></th>\n",
              "      <th>REGEOGR</th>\n",
              "      <th>V0006</th>\n",
              "      <th>V0007</th>\n",
              "      <th>V0008</th>\n",
              "      <th>VE01P40</th>\n",
              "      <th>VE01P4101</th>\n",
              "      <th>VE01P4102</th>\n",
              "      <th>VE01P4103</th>\n",
              "      <th>VE01P4104</th>\n",
              "      <th>VE01P4105</th>\n",
              "      <th>VE01P4106</th>\n",
              "      <th>VE01P4107</th>\n",
              "      <th>VE01P4108</th>\n",
              "      <th>VE01P42</th>\n",
              "      <th>VE01P43</th>\n",
              "      <th>VE01P4401</th>\n",
              "      <th>VE01P4403</th>\n",
              "      <th>VE01P4402</th>\n",
              "      <th>VE01P4404</th>\n",
              "    </tr>\n",
              "  </thead>\n",
              "  <tbody>\n",
              "    <tr>\n",
              "      <th>0</th>\n",
              "      <td>1</td>\n",
              "      <td>1</td>\n",
              "      <td>2</td>\n",
              "      <td>4</td>\n",
              "      <td>1</td>\n",
              "      <td>2</td>\n",
              "      <td>2</td>\n",
              "      <td>2</td>\n",
              "      <td>1</td>\n",
              "      <td>2</td>\n",
              "      <td>2</td>\n",
              "      <td>2</td>\n",
              "      <td>2</td>\n",
              "      <td>1</td>\n",
              "      <td>1</td>\n",
              "      <td>1</td>\n",
              "      <td>1</td>\n",
              "      <td>1</td>\n",
              "      <td>1</td>\n",
              "    </tr>\n",
              "    <tr>\n",
              "      <th>1</th>\n",
              "      <td>1</td>\n",
              "      <td>1</td>\n",
              "      <td>2</td>\n",
              "      <td>4</td>\n",
              "      <td>1</td>\n",
              "      <td>2</td>\n",
              "      <td>2</td>\n",
              "      <td>2</td>\n",
              "      <td>1</td>\n",
              "      <td>2</td>\n",
              "      <td>2</td>\n",
              "      <td>2</td>\n",
              "      <td>2</td>\n",
              "      <td>1</td>\n",
              "      <td>1</td>\n",
              "      <td>1</td>\n",
              "      <td>1</td>\n",
              "      <td>1</td>\n",
              "      <td>1</td>\n",
              "    </tr>\n",
              "    <tr>\n",
              "      <th>2</th>\n",
              "      <td>1</td>\n",
              "      <td>1</td>\n",
              "      <td>2</td>\n",
              "      <td>4</td>\n",
              "      <td>1</td>\n",
              "      <td>2</td>\n",
              "      <td>2</td>\n",
              "      <td>2</td>\n",
              "      <td>1</td>\n",
              "      <td>2</td>\n",
              "      <td>2</td>\n",
              "      <td>2</td>\n",
              "      <td>2</td>\n",
              "      <td>1</td>\n",
              "      <td>1</td>\n",
              "      <td>1</td>\n",
              "      <td>1</td>\n",
              "      <td>1</td>\n",
              "      <td>1</td>\n",
              "    </tr>\n",
              "    <tr>\n",
              "      <th>3</th>\n",
              "      <td>1</td>\n",
              "      <td>1</td>\n",
              "      <td>2</td>\n",
              "      <td>4</td>\n",
              "      <td>1</td>\n",
              "      <td>2</td>\n",
              "      <td>2</td>\n",
              "      <td>2</td>\n",
              "      <td>1</td>\n",
              "      <td>2</td>\n",
              "      <td>2</td>\n",
              "      <td>2</td>\n",
              "      <td>2</td>\n",
              "      <td>1</td>\n",
              "      <td>1</td>\n",
              "      <td>1</td>\n",
              "      <td>1</td>\n",
              "      <td>1</td>\n",
              "      <td>1</td>\n",
              "    </tr>\n",
              "    <tr>\n",
              "      <th>4</th>\n",
              "      <td>1</td>\n",
              "      <td>1</td>\n",
              "      <td>2</td>\n",
              "      <td>4</td>\n",
              "      <td>1</td>\n",
              "      <td>2</td>\n",
              "      <td>2</td>\n",
              "      <td>2</td>\n",
              "      <td>1</td>\n",
              "      <td>2</td>\n",
              "      <td>2</td>\n",
              "      <td>2</td>\n",
              "      <td>2</td>\n",
              "      <td>1</td>\n",
              "      <td>1</td>\n",
              "      <td>1</td>\n",
              "      <td>1</td>\n",
              "      <td>1</td>\n",
              "      <td>1</td>\n",
              "    </tr>\n",
              "  </tbody>\n",
              "</table>\n",
              "</div>"
            ],
            "text/plain": [
              "   REGEOGR  V0006  V0007  V0008  ...  VE01P4401  VE01P4403  VE01P4402  VE01P4404\n",
              "0        1      1      2      4  ...          1          1          1          1\n",
              "1        1      1      2      4  ...          1          1          1          1\n",
              "2        1      1      2      4  ...          1          1          1          1\n",
              "3        1      1      2      4  ...          1          1          1          1\n",
              "4        1      1      2      4  ...          1          1          1          1\n",
              "\n",
              "[5 rows x 19 columns]"
            ]
          },
          "metadata": {
            "tags": []
          },
          "execution_count": 4
        }
      ]
    },
    {
      "cell_type": "code",
      "metadata": {
        "colab": {
          "base_uri": "https://localhost:8080/",
          "height": 216
        },
        "id": "Su4jY4MYPsA8",
        "outputId": "3042e1b8-de4d-4eb6-c2f4-6f6302546981"
      },
      "source": [
        "caminho = '/content/drive/MyDrive/DADOS/educacao_basica2019.zip'\r\n",
        "zip = ZipFile(caminho)\r\n",
        "caminho_pasta_zipada = zip.namelist()[0]\r\n",
        "colunas_escolas = [\r\n",
        "                    'CO_REGIAO',\r\n",
        "                    'CO_UF',\r\n",
        "                    'TP_DEPENDENCIA',\r\n",
        "                    'TP_LOCALIZACAO',\r\n",
        "                    'IN_BANHEIRO_PNE',\r\n",
        "                    'IN_SALA_ATENDIMENTO_ESPECIAL',\r\n",
        "                    'IN_ACESSIBILIDADE_CORRIMAO',\r\n",
        "                    'IN_ACESSIBILIDADE_ELEVADOR',\r\n",
        "                    'IN_ACESSIBILIDADE_PISOS_TATEIS',\r\n",
        "                    'IN_ACESSIBILIDADE_VAO_LIVRE',\r\n",
        "                    'IN_ACESSIBILIDADE_RAMPAS',\r\n",
        "                    'IN_ACESSIBILIDADE_SINAL_SONORO',\r\n",
        "                    'IN_ACESSIBILIDADE_SINAL_TATIL',\r\n",
        "                    'IN_ACESSIBILIDADE_SINAL_VISUAL',\r\n",
        "                    'IN_ACESSIBILIDADE_INEXISTENTE',\r\n",
        "                    'QT_SALAS_UTILIZADAS_ACESSIVEIS',\r\n",
        "                    'TP_AEE',\r\n",
        "                    'IN_ESPECIAL_EXCLUSIVA',\r\n",
        "                    'IN_ESP_EXCLUSIVA_CRECHE',\r\n",
        "                    'IN_ESP_EXCLUSIVA_PRE',\r\n",
        "                    'IN_ESP_EXCLUSIVA_FUND_AI',\r\n",
        "                    'IN_ESP_EXCLUSIVA_FUND_AF',\r\n",
        "                    'IN_ESP_EXCLUSIVA_MEDIO_MEDIO',\r\n",
        "                    'IN_ESP_EXCLUSIVA_MEDIO_INTEGR',\r\n",
        "                    'IN_ESP_EXCLUSIVA_MEDIO_NORMAL'\r\n",
        "]\r\n",
        "educacao_basica_escolas = pd.read_csv(zip.open(caminho_pasta_zipada), \r\n",
        "                                      encoding = \"ISO-8859-1\", sep='|', \r\n",
        "                                      thousands='.' ,decimal=',', \r\n",
        "                                      usecols=colunas_escolas)\r\n",
        "educacao_basica_escolas.head()"
      ],
      "execution_count": 5,
      "outputs": [
        {
          "output_type": "execute_result",
          "data": {
            "text/html": [
              "<div>\n",
              "<style scoped>\n",
              "    .dataframe tbody tr th:only-of-type {\n",
              "        vertical-align: middle;\n",
              "    }\n",
              "\n",
              "    .dataframe tbody tr th {\n",
              "        vertical-align: top;\n",
              "    }\n",
              "\n",
              "    .dataframe thead th {\n",
              "        text-align: right;\n",
              "    }\n",
              "</style>\n",
              "<table border=\"1\" class=\"dataframe\">\n",
              "  <thead>\n",
              "    <tr style=\"text-align: right;\">\n",
              "      <th></th>\n",
              "      <th>CO_REGIAO</th>\n",
              "      <th>CO_UF</th>\n",
              "      <th>TP_DEPENDENCIA</th>\n",
              "      <th>TP_LOCALIZACAO</th>\n",
              "      <th>IN_BANHEIRO_PNE</th>\n",
              "      <th>IN_SALA_ATENDIMENTO_ESPECIAL</th>\n",
              "      <th>IN_ACESSIBILIDADE_CORRIMAO</th>\n",
              "      <th>IN_ACESSIBILIDADE_ELEVADOR</th>\n",
              "      <th>IN_ACESSIBILIDADE_PISOS_TATEIS</th>\n",
              "      <th>IN_ACESSIBILIDADE_VAO_LIVRE</th>\n",
              "      <th>IN_ACESSIBILIDADE_RAMPAS</th>\n",
              "      <th>IN_ACESSIBILIDADE_SINAL_SONORO</th>\n",
              "      <th>IN_ACESSIBILIDADE_SINAL_TATIL</th>\n",
              "      <th>IN_ACESSIBILIDADE_SINAL_VISUAL</th>\n",
              "      <th>IN_ACESSIBILIDADE_INEXISTENTE</th>\n",
              "      <th>QT_SALAS_UTILIZADAS_ACESSIVEIS</th>\n",
              "      <th>TP_AEE</th>\n",
              "      <th>IN_ESPECIAL_EXCLUSIVA</th>\n",
              "      <th>IN_ESP_EXCLUSIVA_CRECHE</th>\n",
              "      <th>IN_ESP_EXCLUSIVA_PRE</th>\n",
              "      <th>IN_ESP_EXCLUSIVA_FUND_AI</th>\n",
              "      <th>IN_ESP_EXCLUSIVA_FUND_AF</th>\n",
              "      <th>IN_ESP_EXCLUSIVA_MEDIO_MEDIO</th>\n",
              "      <th>IN_ESP_EXCLUSIVA_MEDIO_INTEGR</th>\n",
              "      <th>IN_ESP_EXCLUSIVA_MEDIO_NORMAL</th>\n",
              "    </tr>\n",
              "  </thead>\n",
              "  <tbody>\n",
              "    <tr>\n",
              "      <th>0</th>\n",
              "      <td>4</td>\n",
              "      <td>43</td>\n",
              "      <td>2</td>\n",
              "      <td>1</td>\n",
              "      <td>0.0</td>\n",
              "      <td>1.0</td>\n",
              "      <td>0.0</td>\n",
              "      <td>1.0</td>\n",
              "      <td>0.0</td>\n",
              "      <td>0.0</td>\n",
              "      <td>0.0</td>\n",
              "      <td>0.0</td>\n",
              "      <td>0.0</td>\n",
              "      <td>0.0</td>\n",
              "      <td>0.0</td>\n",
              "      <td>0.0</td>\n",
              "      <td>1.0</td>\n",
              "      <td>0.0</td>\n",
              "      <td>0.0</td>\n",
              "      <td>0.0</td>\n",
              "      <td>0.0</td>\n",
              "      <td>0.0</td>\n",
              "      <td>0.0</td>\n",
              "      <td>0.0</td>\n",
              "      <td>0.0</td>\n",
              "    </tr>\n",
              "    <tr>\n",
              "      <th>1</th>\n",
              "      <td>4</td>\n",
              "      <td>43</td>\n",
              "      <td>3</td>\n",
              "      <td>1</td>\n",
              "      <td>1.0</td>\n",
              "      <td>1.0</td>\n",
              "      <td>0.0</td>\n",
              "      <td>0.0</td>\n",
              "      <td>0.0</td>\n",
              "      <td>0.0</td>\n",
              "      <td>1.0</td>\n",
              "      <td>0.0</td>\n",
              "      <td>0.0</td>\n",
              "      <td>0.0</td>\n",
              "      <td>0.0</td>\n",
              "      <td>10.0</td>\n",
              "      <td>1.0</td>\n",
              "      <td>0.0</td>\n",
              "      <td>0.0</td>\n",
              "      <td>0.0</td>\n",
              "      <td>0.0</td>\n",
              "      <td>0.0</td>\n",
              "      <td>0.0</td>\n",
              "      <td>0.0</td>\n",
              "      <td>0.0</td>\n",
              "    </tr>\n",
              "    <tr>\n",
              "      <th>2</th>\n",
              "      <td>4</td>\n",
              "      <td>43</td>\n",
              "      <td>2</td>\n",
              "      <td>1</td>\n",
              "      <td>0.0</td>\n",
              "      <td>1.0</td>\n",
              "      <td>0.0</td>\n",
              "      <td>0.0</td>\n",
              "      <td>0.0</td>\n",
              "      <td>0.0</td>\n",
              "      <td>0.0</td>\n",
              "      <td>0.0</td>\n",
              "      <td>0.0</td>\n",
              "      <td>0.0</td>\n",
              "      <td>1.0</td>\n",
              "      <td>0.0</td>\n",
              "      <td>0.0</td>\n",
              "      <td>0.0</td>\n",
              "      <td>0.0</td>\n",
              "      <td>0.0</td>\n",
              "      <td>0.0</td>\n",
              "      <td>0.0</td>\n",
              "      <td>0.0</td>\n",
              "      <td>0.0</td>\n",
              "      <td>0.0</td>\n",
              "    </tr>\n",
              "    <tr>\n",
              "      <th>3</th>\n",
              "      <td>4</td>\n",
              "      <td>43</td>\n",
              "      <td>3</td>\n",
              "      <td>2</td>\n",
              "      <td>0.0</td>\n",
              "      <td>0.0</td>\n",
              "      <td>0.0</td>\n",
              "      <td>0.0</td>\n",
              "      <td>0.0</td>\n",
              "      <td>0.0</td>\n",
              "      <td>1.0</td>\n",
              "      <td>0.0</td>\n",
              "      <td>0.0</td>\n",
              "      <td>0.0</td>\n",
              "      <td>0.0</td>\n",
              "      <td>0.0</td>\n",
              "      <td>0.0</td>\n",
              "      <td>0.0</td>\n",
              "      <td>0.0</td>\n",
              "      <td>0.0</td>\n",
              "      <td>0.0</td>\n",
              "      <td>0.0</td>\n",
              "      <td>0.0</td>\n",
              "      <td>0.0</td>\n",
              "      <td>0.0</td>\n",
              "    </tr>\n",
              "    <tr>\n",
              "      <th>4</th>\n",
              "      <td>4</td>\n",
              "      <td>43</td>\n",
              "      <td>2</td>\n",
              "      <td>1</td>\n",
              "      <td>0.0</td>\n",
              "      <td>1.0</td>\n",
              "      <td>1.0</td>\n",
              "      <td>0.0</td>\n",
              "      <td>1.0</td>\n",
              "      <td>1.0</td>\n",
              "      <td>1.0</td>\n",
              "      <td>0.0</td>\n",
              "      <td>1.0</td>\n",
              "      <td>0.0</td>\n",
              "      <td>0.0</td>\n",
              "      <td>0.0</td>\n",
              "      <td>1.0</td>\n",
              "      <td>0.0</td>\n",
              "      <td>0.0</td>\n",
              "      <td>0.0</td>\n",
              "      <td>0.0</td>\n",
              "      <td>0.0</td>\n",
              "      <td>0.0</td>\n",
              "      <td>0.0</td>\n",
              "      <td>0.0</td>\n",
              "    </tr>\n",
              "  </tbody>\n",
              "</table>\n",
              "</div>"
            ],
            "text/plain": [
              "   CO_REGIAO  ...  IN_ESP_EXCLUSIVA_MEDIO_NORMAL\n",
              "0          4  ...                            0.0\n",
              "1          4  ...                            0.0\n",
              "2          4  ...                            0.0\n",
              "3          4  ...                            0.0\n",
              "4          4  ...                            0.0\n",
              "\n",
              "[5 rows x 25 columns]"
            ]
          },
          "metadata": {
            "tags": []
          },
          "execution_count": 5
        }
      ]
    },
    {
      "cell_type": "code",
      "metadata": {
        "id": "x2s3o1iv98sp"
      },
      "source": [
        "colunas_matriculas = [\r\n",
        "                      'CO_UF_END',\r\n",
        "                      'CO_REGIAO',\r\n",
        "                      'TP_DEPENDENCIA',\r\n",
        "                      'TP_LOCALIZACAO',\r\n",
        "                      'IN_NECESSIDADE_ESPECIAL',\r\n",
        "                      'IN_BAIXA_VISAO',\r\n",
        "                      'IN_CEGUEIRA',\r\n",
        "                      'IN_DEF_AUDITIVA',\r\n",
        "                      'IN_DEF_FISICA',\r\n",
        "                      'IN_DEF_INTELECTUAL',\r\n",
        "                      'IN_SURDEZ',\r\n",
        "                      'IN_SURDOCEGUEIRA',\r\n",
        "                      'IN_DEF_MULTIPLA',\r\n",
        "                      'IN_AUTISMO',\r\n",
        "                      'IN_SUPERDOTACAO',\r\n",
        "                      'IN_ESPECIAL_EXCLUSIVA'\r\n",
        "]\r\n",
        "\r\n",
        "def criar_df (n):\r\n",
        "    caminho = '/content/drive/MyDrive/DADOS/educacao_basica2019.zip'\r\n",
        "    zip = ZipFile(caminho)\r\n",
        "    caminho_pasta_zipada = zip.namelist()[n]\r\n",
        "    return pd.read_csv(zip.open(caminho_pasta_zipada), encoding = \"ISO-8859-1\",\r\n",
        "                       sep = '|', thousands = '.' , decimal = ',', \r\n",
        "                       usecols = colunas_matriculas).replace(np.nan, 0)"
      ],
      "execution_count": 6,
      "outputs": []
    },
    {
      "cell_type": "code",
      "metadata": {
        "colab": {
          "base_uri": "https://localhost:8080/"
        },
        "id": "Arr97fVfP2Cr",
        "outputId": "6997771c-46d4-42f3-9f76-4bf4ff6e39d1"
      },
      "source": [
        "zip.infolist()"
      ],
      "execution_count": 7,
      "outputs": [
        {
          "output_type": "execute_result",
          "data": {
            "text/plain": [
              "[<ZipInfo filename='educacao_basica2019/ESCOLAS.CSV' compress_type=deflate external_attr=0x20 file_size=111195693 compress_size=16146020>,\n",
              " <ZipInfo filename='educacao_basica2019/MATRICULA_CO.CSV' compress_type=deflate external_attr=0x20 file_size=998975237 compress_size=221714360>,\n",
              " <ZipInfo filename='educacao_basica2019/MATRICULA_NORDESTE.CSV' compress_type=deflate external_attr=0x20 file_size=3881244327 compress_size=921139659>,\n",
              " <ZipInfo filename='educacao_basica2019/MATRICULA_NORTE.CSV' compress_type=deflate external_attr=0x20 file_size=1320100337 compress_size=298370308>,\n",
              " <ZipInfo filename='educacao_basica2019/MATRICULA_SUDESTE.CSV' compress_type=deflate external_attr=0x20 file_size=4918654742 compress_size=1128317928>,\n",
              " <ZipInfo filename='educacao_basica2019/MATRICULA_SUL.CSV' compress_type=deflate external_attr=0x20 file_size=1744320838 compress_size=406081765>]"
            ]
          },
          "metadata": {
            "tags": []
          },
          "execution_count": 7
        }
      ]
    },
    {
      "cell_type": "code",
      "metadata": {
        "colab": {
          "base_uri": "https://localhost:8080/",
          "height": 216
        },
        "id": "i0GAxDykJ3de",
        "outputId": "4e8883da-8ae5-438a-8f1e-f0881032a227"
      },
      "source": [
        "matriculas_centro_oeste = criar_df(1)\r\n",
        "matriculas_centro_oeste.head()"
      ],
      "execution_count": 8,
      "outputs": [
        {
          "output_type": "execute_result",
          "data": {
            "text/html": [
              "<div>\n",
              "<style scoped>\n",
              "    .dataframe tbody tr th:only-of-type {\n",
              "        vertical-align: middle;\n",
              "    }\n",
              "\n",
              "    .dataframe tbody tr th {\n",
              "        vertical-align: top;\n",
              "    }\n",
              "\n",
              "    .dataframe thead th {\n",
              "        text-align: right;\n",
              "    }\n",
              "</style>\n",
              "<table border=\"1\" class=\"dataframe\">\n",
              "  <thead>\n",
              "    <tr style=\"text-align: right;\">\n",
              "      <th></th>\n",
              "      <th>CO_UF_END</th>\n",
              "      <th>IN_NECESSIDADE_ESPECIAL</th>\n",
              "      <th>IN_BAIXA_VISAO</th>\n",
              "      <th>IN_CEGUEIRA</th>\n",
              "      <th>IN_DEF_AUDITIVA</th>\n",
              "      <th>IN_DEF_FISICA</th>\n",
              "      <th>IN_DEF_INTELECTUAL</th>\n",
              "      <th>IN_SURDEZ</th>\n",
              "      <th>IN_SURDOCEGUEIRA</th>\n",
              "      <th>IN_DEF_MULTIPLA</th>\n",
              "      <th>IN_AUTISMO</th>\n",
              "      <th>IN_SUPERDOTACAO</th>\n",
              "      <th>IN_ESPECIAL_EXCLUSIVA</th>\n",
              "      <th>CO_REGIAO</th>\n",
              "      <th>TP_DEPENDENCIA</th>\n",
              "      <th>TP_LOCALIZACAO</th>\n",
              "    </tr>\n",
              "  </thead>\n",
              "  <tbody>\n",
              "    <tr>\n",
              "      <th>0</th>\n",
              "      <td>52.0</td>\n",
              "      <td>0</td>\n",
              "      <td>0.0</td>\n",
              "      <td>0.0</td>\n",
              "      <td>0.0</td>\n",
              "      <td>0.0</td>\n",
              "      <td>0.0</td>\n",
              "      <td>0.0</td>\n",
              "      <td>0.0</td>\n",
              "      <td>0.0</td>\n",
              "      <td>0.0</td>\n",
              "      <td>0.0</td>\n",
              "      <td>0.0</td>\n",
              "      <td>5</td>\n",
              "      <td>4</td>\n",
              "      <td>1</td>\n",
              "    </tr>\n",
              "    <tr>\n",
              "      <th>1</th>\n",
              "      <td>52.0</td>\n",
              "      <td>0</td>\n",
              "      <td>0.0</td>\n",
              "      <td>0.0</td>\n",
              "      <td>0.0</td>\n",
              "      <td>0.0</td>\n",
              "      <td>0.0</td>\n",
              "      <td>0.0</td>\n",
              "      <td>0.0</td>\n",
              "      <td>0.0</td>\n",
              "      <td>0.0</td>\n",
              "      <td>0.0</td>\n",
              "      <td>0.0</td>\n",
              "      <td>5</td>\n",
              "      <td>4</td>\n",
              "      <td>1</td>\n",
              "    </tr>\n",
              "    <tr>\n",
              "      <th>2</th>\n",
              "      <td>52.0</td>\n",
              "      <td>0</td>\n",
              "      <td>0.0</td>\n",
              "      <td>0.0</td>\n",
              "      <td>0.0</td>\n",
              "      <td>0.0</td>\n",
              "      <td>0.0</td>\n",
              "      <td>0.0</td>\n",
              "      <td>0.0</td>\n",
              "      <td>0.0</td>\n",
              "      <td>0.0</td>\n",
              "      <td>0.0</td>\n",
              "      <td>0.0</td>\n",
              "      <td>5</td>\n",
              "      <td>3</td>\n",
              "      <td>1</td>\n",
              "    </tr>\n",
              "    <tr>\n",
              "      <th>3</th>\n",
              "      <td>52.0</td>\n",
              "      <td>0</td>\n",
              "      <td>0.0</td>\n",
              "      <td>0.0</td>\n",
              "      <td>0.0</td>\n",
              "      <td>0.0</td>\n",
              "      <td>0.0</td>\n",
              "      <td>0.0</td>\n",
              "      <td>0.0</td>\n",
              "      <td>0.0</td>\n",
              "      <td>0.0</td>\n",
              "      <td>0.0</td>\n",
              "      <td>0.0</td>\n",
              "      <td>5</td>\n",
              "      <td>3</td>\n",
              "      <td>1</td>\n",
              "    </tr>\n",
              "    <tr>\n",
              "      <th>4</th>\n",
              "      <td>52.0</td>\n",
              "      <td>0</td>\n",
              "      <td>0.0</td>\n",
              "      <td>0.0</td>\n",
              "      <td>0.0</td>\n",
              "      <td>0.0</td>\n",
              "      <td>0.0</td>\n",
              "      <td>0.0</td>\n",
              "      <td>0.0</td>\n",
              "      <td>0.0</td>\n",
              "      <td>0.0</td>\n",
              "      <td>0.0</td>\n",
              "      <td>0.0</td>\n",
              "      <td>5</td>\n",
              "      <td>3</td>\n",
              "      <td>1</td>\n",
              "    </tr>\n",
              "  </tbody>\n",
              "</table>\n",
              "</div>"
            ],
            "text/plain": [
              "   CO_UF_END  IN_NECESSIDADE_ESPECIAL  ...  TP_DEPENDENCIA  TP_LOCALIZACAO\n",
              "0       52.0                        0  ...               4               1\n",
              "1       52.0                        0  ...               4               1\n",
              "2       52.0                        0  ...               3               1\n",
              "3       52.0                        0  ...               3               1\n",
              "4       52.0                        0  ...               3               1\n",
              "\n",
              "[5 rows x 16 columns]"
            ]
          },
          "metadata": {
            "tags": []
          },
          "execution_count": 8
        }
      ]
    },
    {
      "cell_type": "code",
      "metadata": {
        "id": "8Z7XM1CJNeuf",
        "colab": {
          "base_uri": "https://localhost:8080/",
          "height": 216
        },
        "outputId": "0bf3d04e-d754-4196-a783-22d29f469b49"
      },
      "source": [
        "matriculas_nordeste = criar_df(2)\r\n",
        "matriculas_nordeste.head()"
      ],
      "execution_count": 9,
      "outputs": [
        {
          "output_type": "execute_result",
          "data": {
            "text/html": [
              "<div>\n",
              "<style scoped>\n",
              "    .dataframe tbody tr th:only-of-type {\n",
              "        vertical-align: middle;\n",
              "    }\n",
              "\n",
              "    .dataframe tbody tr th {\n",
              "        vertical-align: top;\n",
              "    }\n",
              "\n",
              "    .dataframe thead th {\n",
              "        text-align: right;\n",
              "    }\n",
              "</style>\n",
              "<table border=\"1\" class=\"dataframe\">\n",
              "  <thead>\n",
              "    <tr style=\"text-align: right;\">\n",
              "      <th></th>\n",
              "      <th>CO_UF_END</th>\n",
              "      <th>IN_NECESSIDADE_ESPECIAL</th>\n",
              "      <th>IN_BAIXA_VISAO</th>\n",
              "      <th>IN_CEGUEIRA</th>\n",
              "      <th>IN_DEF_AUDITIVA</th>\n",
              "      <th>IN_DEF_FISICA</th>\n",
              "      <th>IN_DEF_INTELECTUAL</th>\n",
              "      <th>IN_SURDEZ</th>\n",
              "      <th>IN_SURDOCEGUEIRA</th>\n",
              "      <th>IN_DEF_MULTIPLA</th>\n",
              "      <th>IN_AUTISMO</th>\n",
              "      <th>IN_SUPERDOTACAO</th>\n",
              "      <th>IN_ESPECIAL_EXCLUSIVA</th>\n",
              "      <th>CO_REGIAO</th>\n",
              "      <th>TP_DEPENDENCIA</th>\n",
              "      <th>TP_LOCALIZACAO</th>\n",
              "    </tr>\n",
              "  </thead>\n",
              "  <tbody>\n",
              "    <tr>\n",
              "      <th>0</th>\n",
              "      <td>25.0</td>\n",
              "      <td>0</td>\n",
              "      <td>0.0</td>\n",
              "      <td>0.0</td>\n",
              "      <td>0.0</td>\n",
              "      <td>0.0</td>\n",
              "      <td>0.0</td>\n",
              "      <td>0.0</td>\n",
              "      <td>0.0</td>\n",
              "      <td>0.0</td>\n",
              "      <td>0.0</td>\n",
              "      <td>0.0</td>\n",
              "      <td>0.0</td>\n",
              "      <td>2</td>\n",
              "      <td>1</td>\n",
              "      <td>1</td>\n",
              "    </tr>\n",
              "    <tr>\n",
              "      <th>1</th>\n",
              "      <td>25.0</td>\n",
              "      <td>0</td>\n",
              "      <td>0.0</td>\n",
              "      <td>0.0</td>\n",
              "      <td>0.0</td>\n",
              "      <td>0.0</td>\n",
              "      <td>0.0</td>\n",
              "      <td>0.0</td>\n",
              "      <td>0.0</td>\n",
              "      <td>0.0</td>\n",
              "      <td>0.0</td>\n",
              "      <td>0.0</td>\n",
              "      <td>0.0</td>\n",
              "      <td>2</td>\n",
              "      <td>3</td>\n",
              "      <td>1</td>\n",
              "    </tr>\n",
              "    <tr>\n",
              "      <th>2</th>\n",
              "      <td>0.0</td>\n",
              "      <td>0</td>\n",
              "      <td>0.0</td>\n",
              "      <td>0.0</td>\n",
              "      <td>0.0</td>\n",
              "      <td>0.0</td>\n",
              "      <td>0.0</td>\n",
              "      <td>0.0</td>\n",
              "      <td>0.0</td>\n",
              "      <td>0.0</td>\n",
              "      <td>0.0</td>\n",
              "      <td>0.0</td>\n",
              "      <td>0.0</td>\n",
              "      <td>2</td>\n",
              "      <td>2</td>\n",
              "      <td>1</td>\n",
              "    </tr>\n",
              "    <tr>\n",
              "      <th>3</th>\n",
              "      <td>25.0</td>\n",
              "      <td>0</td>\n",
              "      <td>0.0</td>\n",
              "      <td>0.0</td>\n",
              "      <td>0.0</td>\n",
              "      <td>0.0</td>\n",
              "      <td>0.0</td>\n",
              "      <td>0.0</td>\n",
              "      <td>0.0</td>\n",
              "      <td>0.0</td>\n",
              "      <td>0.0</td>\n",
              "      <td>0.0</td>\n",
              "      <td>0.0</td>\n",
              "      <td>2</td>\n",
              "      <td>4</td>\n",
              "      <td>1</td>\n",
              "    </tr>\n",
              "    <tr>\n",
              "      <th>4</th>\n",
              "      <td>25.0</td>\n",
              "      <td>0</td>\n",
              "      <td>0.0</td>\n",
              "      <td>0.0</td>\n",
              "      <td>0.0</td>\n",
              "      <td>0.0</td>\n",
              "      <td>0.0</td>\n",
              "      <td>0.0</td>\n",
              "      <td>0.0</td>\n",
              "      <td>0.0</td>\n",
              "      <td>0.0</td>\n",
              "      <td>0.0</td>\n",
              "      <td>0.0</td>\n",
              "      <td>2</td>\n",
              "      <td>3</td>\n",
              "      <td>1</td>\n",
              "    </tr>\n",
              "  </tbody>\n",
              "</table>\n",
              "</div>"
            ],
            "text/plain": [
              "   CO_UF_END  IN_NECESSIDADE_ESPECIAL  ...  TP_DEPENDENCIA  TP_LOCALIZACAO\n",
              "0       25.0                        0  ...               1               1\n",
              "1       25.0                        0  ...               3               1\n",
              "2        0.0                        0  ...               2               1\n",
              "3       25.0                        0  ...               4               1\n",
              "4       25.0                        0  ...               3               1\n",
              "\n",
              "[5 rows x 16 columns]"
            ]
          },
          "metadata": {
            "tags": []
          },
          "execution_count": 9
        }
      ]
    },
    {
      "cell_type": "code",
      "metadata": {
        "id": "ucJ5luQINiQC",
        "colab": {
          "base_uri": "https://localhost:8080/",
          "height": 216
        },
        "outputId": "921a06b6-0676-41ae-9a80-3bd7e47c4368"
      },
      "source": [
        "matriculas_norte = criar_df(3)\r\n",
        "matriculas_norte.head()"
      ],
      "execution_count": 10,
      "outputs": [
        {
          "output_type": "execute_result",
          "data": {
            "text/html": [
              "<div>\n",
              "<style scoped>\n",
              "    .dataframe tbody tr th:only-of-type {\n",
              "        vertical-align: middle;\n",
              "    }\n",
              "\n",
              "    .dataframe tbody tr th {\n",
              "        vertical-align: top;\n",
              "    }\n",
              "\n",
              "    .dataframe thead th {\n",
              "        text-align: right;\n",
              "    }\n",
              "</style>\n",
              "<table border=\"1\" class=\"dataframe\">\n",
              "  <thead>\n",
              "    <tr style=\"text-align: right;\">\n",
              "      <th></th>\n",
              "      <th>CO_UF_END</th>\n",
              "      <th>IN_NECESSIDADE_ESPECIAL</th>\n",
              "      <th>IN_BAIXA_VISAO</th>\n",
              "      <th>IN_CEGUEIRA</th>\n",
              "      <th>IN_DEF_AUDITIVA</th>\n",
              "      <th>IN_DEF_FISICA</th>\n",
              "      <th>IN_DEF_INTELECTUAL</th>\n",
              "      <th>IN_SURDEZ</th>\n",
              "      <th>IN_SURDOCEGUEIRA</th>\n",
              "      <th>IN_DEF_MULTIPLA</th>\n",
              "      <th>IN_AUTISMO</th>\n",
              "      <th>IN_SUPERDOTACAO</th>\n",
              "      <th>IN_ESPECIAL_EXCLUSIVA</th>\n",
              "      <th>CO_REGIAO</th>\n",
              "      <th>TP_DEPENDENCIA</th>\n",
              "      <th>TP_LOCALIZACAO</th>\n",
              "    </tr>\n",
              "  </thead>\n",
              "  <tbody>\n",
              "    <tr>\n",
              "      <th>0</th>\n",
              "      <td>14.0</td>\n",
              "      <td>0</td>\n",
              "      <td>0.0</td>\n",
              "      <td>0.0</td>\n",
              "      <td>0.0</td>\n",
              "      <td>0.0</td>\n",
              "      <td>0.0</td>\n",
              "      <td>0.0</td>\n",
              "      <td>0.0</td>\n",
              "      <td>0.0</td>\n",
              "      <td>0.0</td>\n",
              "      <td>0.0</td>\n",
              "      <td>0.0</td>\n",
              "      <td>1</td>\n",
              "      <td>4</td>\n",
              "      <td>1</td>\n",
              "    </tr>\n",
              "    <tr>\n",
              "      <th>1</th>\n",
              "      <td>14.0</td>\n",
              "      <td>0</td>\n",
              "      <td>0.0</td>\n",
              "      <td>0.0</td>\n",
              "      <td>0.0</td>\n",
              "      <td>0.0</td>\n",
              "      <td>0.0</td>\n",
              "      <td>0.0</td>\n",
              "      <td>0.0</td>\n",
              "      <td>0.0</td>\n",
              "      <td>0.0</td>\n",
              "      <td>0.0</td>\n",
              "      <td>0.0</td>\n",
              "      <td>1</td>\n",
              "      <td>3</td>\n",
              "      <td>1</td>\n",
              "    </tr>\n",
              "    <tr>\n",
              "      <th>2</th>\n",
              "      <td>14.0</td>\n",
              "      <td>0</td>\n",
              "      <td>0.0</td>\n",
              "      <td>0.0</td>\n",
              "      <td>0.0</td>\n",
              "      <td>0.0</td>\n",
              "      <td>0.0</td>\n",
              "      <td>0.0</td>\n",
              "      <td>0.0</td>\n",
              "      <td>0.0</td>\n",
              "      <td>0.0</td>\n",
              "      <td>0.0</td>\n",
              "      <td>0.0</td>\n",
              "      <td>1</td>\n",
              "      <td>3</td>\n",
              "      <td>1</td>\n",
              "    </tr>\n",
              "    <tr>\n",
              "      <th>3</th>\n",
              "      <td>14.0</td>\n",
              "      <td>0</td>\n",
              "      <td>0.0</td>\n",
              "      <td>0.0</td>\n",
              "      <td>0.0</td>\n",
              "      <td>0.0</td>\n",
              "      <td>0.0</td>\n",
              "      <td>0.0</td>\n",
              "      <td>0.0</td>\n",
              "      <td>0.0</td>\n",
              "      <td>0.0</td>\n",
              "      <td>0.0</td>\n",
              "      <td>0.0</td>\n",
              "      <td>1</td>\n",
              "      <td>3</td>\n",
              "      <td>1</td>\n",
              "    </tr>\n",
              "    <tr>\n",
              "      <th>4</th>\n",
              "      <td>14.0</td>\n",
              "      <td>0</td>\n",
              "      <td>0.0</td>\n",
              "      <td>0.0</td>\n",
              "      <td>0.0</td>\n",
              "      <td>0.0</td>\n",
              "      <td>0.0</td>\n",
              "      <td>0.0</td>\n",
              "      <td>0.0</td>\n",
              "      <td>0.0</td>\n",
              "      <td>0.0</td>\n",
              "      <td>0.0</td>\n",
              "      <td>0.0</td>\n",
              "      <td>1</td>\n",
              "      <td>4</td>\n",
              "      <td>1</td>\n",
              "    </tr>\n",
              "  </tbody>\n",
              "</table>\n",
              "</div>"
            ],
            "text/plain": [
              "   CO_UF_END  IN_NECESSIDADE_ESPECIAL  ...  TP_DEPENDENCIA  TP_LOCALIZACAO\n",
              "0       14.0                        0  ...               4               1\n",
              "1       14.0                        0  ...               3               1\n",
              "2       14.0                        0  ...               3               1\n",
              "3       14.0                        0  ...               3               1\n",
              "4       14.0                        0  ...               4               1\n",
              "\n",
              "[5 rows x 16 columns]"
            ]
          },
          "metadata": {
            "tags": []
          },
          "execution_count": 10
        }
      ]
    },
    {
      "cell_type": "code",
      "metadata": {
        "id": "GyE7-fGiNkvO",
        "colab": {
          "base_uri": "https://localhost:8080/",
          "height": 216
        },
        "outputId": "61d4e6c3-2e98-41ff-8e0d-8162e8a1f3ac"
      },
      "source": [
        "matriculas_sudeste = criar_df(4)\r\n",
        "matriculas_sudeste.head()"
      ],
      "execution_count": 11,
      "outputs": [
        {
          "output_type": "execute_result",
          "data": {
            "text/html": [
              "<div>\n",
              "<style scoped>\n",
              "    .dataframe tbody tr th:only-of-type {\n",
              "        vertical-align: middle;\n",
              "    }\n",
              "\n",
              "    .dataframe tbody tr th {\n",
              "        vertical-align: top;\n",
              "    }\n",
              "\n",
              "    .dataframe thead th {\n",
              "        text-align: right;\n",
              "    }\n",
              "</style>\n",
              "<table border=\"1\" class=\"dataframe\">\n",
              "  <thead>\n",
              "    <tr style=\"text-align: right;\">\n",
              "      <th></th>\n",
              "      <th>CO_UF_END</th>\n",
              "      <th>IN_NECESSIDADE_ESPECIAL</th>\n",
              "      <th>IN_BAIXA_VISAO</th>\n",
              "      <th>IN_CEGUEIRA</th>\n",
              "      <th>IN_DEF_AUDITIVA</th>\n",
              "      <th>IN_DEF_FISICA</th>\n",
              "      <th>IN_DEF_INTELECTUAL</th>\n",
              "      <th>IN_SURDEZ</th>\n",
              "      <th>IN_SURDOCEGUEIRA</th>\n",
              "      <th>IN_DEF_MULTIPLA</th>\n",
              "      <th>IN_AUTISMO</th>\n",
              "      <th>IN_SUPERDOTACAO</th>\n",
              "      <th>IN_ESPECIAL_EXCLUSIVA</th>\n",
              "      <th>CO_REGIAO</th>\n",
              "      <th>TP_DEPENDENCIA</th>\n",
              "      <th>TP_LOCALIZACAO</th>\n",
              "    </tr>\n",
              "  </thead>\n",
              "  <tbody>\n",
              "    <tr>\n",
              "      <th>0</th>\n",
              "      <td>32.0</td>\n",
              "      <td>0</td>\n",
              "      <td>0.0</td>\n",
              "      <td>0.0</td>\n",
              "      <td>0.0</td>\n",
              "      <td>0.0</td>\n",
              "      <td>0.0</td>\n",
              "      <td>0.0</td>\n",
              "      <td>0.0</td>\n",
              "      <td>0.0</td>\n",
              "      <td>0.0</td>\n",
              "      <td>0.0</td>\n",
              "      <td>0.0</td>\n",
              "      <td>3</td>\n",
              "      <td>3</td>\n",
              "      <td>1</td>\n",
              "    </tr>\n",
              "    <tr>\n",
              "      <th>1</th>\n",
              "      <td>0.0</td>\n",
              "      <td>0</td>\n",
              "      <td>0.0</td>\n",
              "      <td>0.0</td>\n",
              "      <td>0.0</td>\n",
              "      <td>0.0</td>\n",
              "      <td>0.0</td>\n",
              "      <td>0.0</td>\n",
              "      <td>0.0</td>\n",
              "      <td>0.0</td>\n",
              "      <td>0.0</td>\n",
              "      <td>0.0</td>\n",
              "      <td>0.0</td>\n",
              "      <td>3</td>\n",
              "      <td>1</td>\n",
              "      <td>1</td>\n",
              "    </tr>\n",
              "    <tr>\n",
              "      <th>2</th>\n",
              "      <td>32.0</td>\n",
              "      <td>0</td>\n",
              "      <td>0.0</td>\n",
              "      <td>0.0</td>\n",
              "      <td>0.0</td>\n",
              "      <td>0.0</td>\n",
              "      <td>0.0</td>\n",
              "      <td>0.0</td>\n",
              "      <td>0.0</td>\n",
              "      <td>0.0</td>\n",
              "      <td>0.0</td>\n",
              "      <td>0.0</td>\n",
              "      <td>0.0</td>\n",
              "      <td>3</td>\n",
              "      <td>3</td>\n",
              "      <td>1</td>\n",
              "    </tr>\n",
              "    <tr>\n",
              "      <th>3</th>\n",
              "      <td>32.0</td>\n",
              "      <td>0</td>\n",
              "      <td>0.0</td>\n",
              "      <td>0.0</td>\n",
              "      <td>0.0</td>\n",
              "      <td>0.0</td>\n",
              "      <td>0.0</td>\n",
              "      <td>0.0</td>\n",
              "      <td>0.0</td>\n",
              "      <td>0.0</td>\n",
              "      <td>0.0</td>\n",
              "      <td>0.0</td>\n",
              "      <td>0.0</td>\n",
              "      <td>3</td>\n",
              "      <td>3</td>\n",
              "      <td>1</td>\n",
              "    </tr>\n",
              "    <tr>\n",
              "      <th>4</th>\n",
              "      <td>32.0</td>\n",
              "      <td>0</td>\n",
              "      <td>0.0</td>\n",
              "      <td>0.0</td>\n",
              "      <td>0.0</td>\n",
              "      <td>0.0</td>\n",
              "      <td>0.0</td>\n",
              "      <td>0.0</td>\n",
              "      <td>0.0</td>\n",
              "      <td>0.0</td>\n",
              "      <td>0.0</td>\n",
              "      <td>0.0</td>\n",
              "      <td>0.0</td>\n",
              "      <td>3</td>\n",
              "      <td>3</td>\n",
              "      <td>1</td>\n",
              "    </tr>\n",
              "  </tbody>\n",
              "</table>\n",
              "</div>"
            ],
            "text/plain": [
              "   CO_UF_END  IN_NECESSIDADE_ESPECIAL  ...  TP_DEPENDENCIA  TP_LOCALIZACAO\n",
              "0       32.0                        0  ...               3               1\n",
              "1        0.0                        0  ...               1               1\n",
              "2       32.0                        0  ...               3               1\n",
              "3       32.0                        0  ...               3               1\n",
              "4       32.0                        0  ...               3               1\n",
              "\n",
              "[5 rows x 16 columns]"
            ]
          },
          "metadata": {
            "tags": []
          },
          "execution_count": 11
        }
      ]
    },
    {
      "cell_type": "code",
      "metadata": {
        "id": "quoSqOrKNqXr",
        "colab": {
          "base_uri": "https://localhost:8080/",
          "height": 216
        },
        "outputId": "16e824cb-0305-4548-8259-4adf252e963c"
      },
      "source": [
        "matriculas_sul = criar_df(5)\r\n",
        "matriculas_sul.head()"
      ],
      "execution_count": 12,
      "outputs": [
        {
          "output_type": "execute_result",
          "data": {
            "text/html": [
              "<div>\n",
              "<style scoped>\n",
              "    .dataframe tbody tr th:only-of-type {\n",
              "        vertical-align: middle;\n",
              "    }\n",
              "\n",
              "    .dataframe tbody tr th {\n",
              "        vertical-align: top;\n",
              "    }\n",
              "\n",
              "    .dataframe thead th {\n",
              "        text-align: right;\n",
              "    }\n",
              "</style>\n",
              "<table border=\"1\" class=\"dataframe\">\n",
              "  <thead>\n",
              "    <tr style=\"text-align: right;\">\n",
              "      <th></th>\n",
              "      <th>CO_UF_END</th>\n",
              "      <th>IN_NECESSIDADE_ESPECIAL</th>\n",
              "      <th>IN_BAIXA_VISAO</th>\n",
              "      <th>IN_CEGUEIRA</th>\n",
              "      <th>IN_DEF_AUDITIVA</th>\n",
              "      <th>IN_DEF_FISICA</th>\n",
              "      <th>IN_DEF_INTELECTUAL</th>\n",
              "      <th>IN_SURDEZ</th>\n",
              "      <th>IN_SURDOCEGUEIRA</th>\n",
              "      <th>IN_DEF_MULTIPLA</th>\n",
              "      <th>IN_AUTISMO</th>\n",
              "      <th>IN_SUPERDOTACAO</th>\n",
              "      <th>IN_ESPECIAL_EXCLUSIVA</th>\n",
              "      <th>CO_REGIAO</th>\n",
              "      <th>TP_DEPENDENCIA</th>\n",
              "      <th>TP_LOCALIZACAO</th>\n",
              "    </tr>\n",
              "  </thead>\n",
              "  <tbody>\n",
              "    <tr>\n",
              "      <th>0</th>\n",
              "      <td>0.0</td>\n",
              "      <td>0</td>\n",
              "      <td>0.0</td>\n",
              "      <td>0.0</td>\n",
              "      <td>0.0</td>\n",
              "      <td>0.0</td>\n",
              "      <td>0.0</td>\n",
              "      <td>0.0</td>\n",
              "      <td>0.0</td>\n",
              "      <td>0.0</td>\n",
              "      <td>0.0</td>\n",
              "      <td>0.0</td>\n",
              "      <td>0.0</td>\n",
              "      <td>4</td>\n",
              "      <td>3</td>\n",
              "      <td>1</td>\n",
              "    </tr>\n",
              "    <tr>\n",
              "      <th>1</th>\n",
              "      <td>0.0</td>\n",
              "      <td>0</td>\n",
              "      <td>0.0</td>\n",
              "      <td>0.0</td>\n",
              "      <td>0.0</td>\n",
              "      <td>0.0</td>\n",
              "      <td>0.0</td>\n",
              "      <td>0.0</td>\n",
              "      <td>0.0</td>\n",
              "      <td>0.0</td>\n",
              "      <td>0.0</td>\n",
              "      <td>0.0</td>\n",
              "      <td>0.0</td>\n",
              "      <td>4</td>\n",
              "      <td>2</td>\n",
              "      <td>1</td>\n",
              "    </tr>\n",
              "    <tr>\n",
              "      <th>2</th>\n",
              "      <td>0.0</td>\n",
              "      <td>0</td>\n",
              "      <td>0.0</td>\n",
              "      <td>0.0</td>\n",
              "      <td>0.0</td>\n",
              "      <td>0.0</td>\n",
              "      <td>0.0</td>\n",
              "      <td>0.0</td>\n",
              "      <td>0.0</td>\n",
              "      <td>0.0</td>\n",
              "      <td>0.0</td>\n",
              "      <td>0.0</td>\n",
              "      <td>0.0</td>\n",
              "      <td>4</td>\n",
              "      <td>3</td>\n",
              "      <td>1</td>\n",
              "    </tr>\n",
              "    <tr>\n",
              "      <th>3</th>\n",
              "      <td>0.0</td>\n",
              "      <td>0</td>\n",
              "      <td>0.0</td>\n",
              "      <td>0.0</td>\n",
              "      <td>0.0</td>\n",
              "      <td>0.0</td>\n",
              "      <td>0.0</td>\n",
              "      <td>0.0</td>\n",
              "      <td>0.0</td>\n",
              "      <td>0.0</td>\n",
              "      <td>0.0</td>\n",
              "      <td>0.0</td>\n",
              "      <td>0.0</td>\n",
              "      <td>4</td>\n",
              "      <td>3</td>\n",
              "      <td>1</td>\n",
              "    </tr>\n",
              "    <tr>\n",
              "      <th>4</th>\n",
              "      <td>0.0</td>\n",
              "      <td>0</td>\n",
              "      <td>0.0</td>\n",
              "      <td>0.0</td>\n",
              "      <td>0.0</td>\n",
              "      <td>0.0</td>\n",
              "      <td>0.0</td>\n",
              "      <td>0.0</td>\n",
              "      <td>0.0</td>\n",
              "      <td>0.0</td>\n",
              "      <td>0.0</td>\n",
              "      <td>0.0</td>\n",
              "      <td>0.0</td>\n",
              "      <td>4</td>\n",
              "      <td>3</td>\n",
              "      <td>1</td>\n",
              "    </tr>\n",
              "  </tbody>\n",
              "</table>\n",
              "</div>"
            ],
            "text/plain": [
              "   CO_UF_END  IN_NECESSIDADE_ESPECIAL  ...  TP_DEPENDENCIA  TP_LOCALIZACAO\n",
              "0        0.0                        0  ...               3               1\n",
              "1        0.0                        0  ...               2               1\n",
              "2        0.0                        0  ...               3               1\n",
              "3        0.0                        0  ...               3               1\n",
              "4        0.0                        0  ...               3               1\n",
              "\n",
              "[5 rows x 16 columns]"
            ]
          },
          "metadata": {
            "tags": []
          },
          "execution_count": 12
        }
      ]
    },
    {
      "cell_type": "code",
      "metadata": {
        "id": "OyDt1vdnEmsq"
      },
      "source": [
        "matriculas = [\r\n",
        "             matriculas_centro_oeste, \r\n",
        "             matriculas_nordeste,\r\n",
        "             matriculas_norte,\r\n",
        "             matriculas_sudeste,\r\n",
        "             matriculas_sul\r\n",
        "]"
      ],
      "execution_count": 13,
      "outputs": []
    },
    {
      "cell_type": "code",
      "metadata": {
        "id": "0sxw7bovKFiE"
      },
      "source": [
        "acessivel = pd.DataFrame()"
      ],
      "execution_count": 14,
      "outputs": []
    },
    {
      "cell_type": "code",
      "metadata": {
        "id": "zd7R7YHAN3ml",
        "colab": {
          "base_uri": "https://localhost:8080/",
          "height": 216
        },
        "outputId": "45ea31fb-7e02-4f35-ef7f-465adc292330"
      },
      "source": [
        "acessivel[indicadores] = dados[codigos]\r\n",
        "acessivel.head()"
      ],
      "execution_count": 15,
      "outputs": [
        {
          "output_type": "execute_result",
          "data": {
            "text/html": [
              "<div>\n",
              "<style scoped>\n",
              "    .dataframe tbody tr th:only-of-type {\n",
              "        vertical-align: middle;\n",
              "    }\n",
              "\n",
              "    .dataframe tbody tr th {\n",
              "        vertical-align: top;\n",
              "    }\n",
              "\n",
              "    .dataframe thead th {\n",
              "        text-align: right;\n",
              "    }\n",
              "</style>\n",
              "<table border=\"1\" class=\"dataframe\">\n",
              "  <thead>\n",
              "    <tr style=\"text-align: right;\">\n",
              "      <th></th>\n",
              "      <th>Regiao_Geografica</th>\n",
              "      <th>Situacao_Escola</th>\n",
              "      <th>Dependencia_Administrativa</th>\n",
              "      <th>Esfera_Administrativa</th>\n",
              "      <th>Alunos_Deficiência_Transtorno_Global_Desenvolvimento</th>\n",
              "      <th>Alunos_Deficiencia_Intelectual</th>\n",
              "      <th>Alunos_Transtornos_Espectro_Autismo</th>\n",
              "      <th>Alunos_Transtornos_Mentais_De_Comportamento</th>\n",
              "      <th>Alunos_Deficiencia_Fisica</th>\n",
              "      <th>Alunos_Deficiencia_Auditiva</th>\n",
              "      <th>Alunos_Deficiencia_Visual</th>\n",
              "      <th>Alunos_Deficiencia_Multipla</th>\n",
              "      <th>Alunos_Outras_Deficiencias</th>\n",
              "      <th>Escola_com_Atividade_Fisica_Adaptada</th>\n",
              "      <th>Escola_Adaptada</th>\n",
              "      <th>Escola_Rampas_de_Acesso</th>\n",
              "      <th>Escola_Interior_Adequado_Locomocao</th>\n",
              "      <th>Escola_Moveis_Adequados</th>\n",
              "      <th>Escola_Banheiros_Acessíveis</th>\n",
              "    </tr>\n",
              "  </thead>\n",
              "  <tbody>\n",
              "    <tr>\n",
              "      <th>0</th>\n",
              "      <td>1</td>\n",
              "      <td>1</td>\n",
              "      <td>2</td>\n",
              "      <td>4</td>\n",
              "      <td>1</td>\n",
              "      <td>2</td>\n",
              "      <td>2</td>\n",
              "      <td>2</td>\n",
              "      <td>1</td>\n",
              "      <td>2</td>\n",
              "      <td>2</td>\n",
              "      <td>2</td>\n",
              "      <td>2</td>\n",
              "      <td>1</td>\n",
              "      <td>1</td>\n",
              "      <td>1</td>\n",
              "      <td>1</td>\n",
              "      <td>1</td>\n",
              "      <td>1</td>\n",
              "    </tr>\n",
              "    <tr>\n",
              "      <th>1</th>\n",
              "      <td>1</td>\n",
              "      <td>1</td>\n",
              "      <td>2</td>\n",
              "      <td>4</td>\n",
              "      <td>1</td>\n",
              "      <td>2</td>\n",
              "      <td>2</td>\n",
              "      <td>2</td>\n",
              "      <td>1</td>\n",
              "      <td>2</td>\n",
              "      <td>2</td>\n",
              "      <td>2</td>\n",
              "      <td>2</td>\n",
              "      <td>1</td>\n",
              "      <td>1</td>\n",
              "      <td>1</td>\n",
              "      <td>1</td>\n",
              "      <td>1</td>\n",
              "      <td>1</td>\n",
              "    </tr>\n",
              "    <tr>\n",
              "      <th>2</th>\n",
              "      <td>1</td>\n",
              "      <td>1</td>\n",
              "      <td>2</td>\n",
              "      <td>4</td>\n",
              "      <td>1</td>\n",
              "      <td>2</td>\n",
              "      <td>2</td>\n",
              "      <td>2</td>\n",
              "      <td>1</td>\n",
              "      <td>2</td>\n",
              "      <td>2</td>\n",
              "      <td>2</td>\n",
              "      <td>2</td>\n",
              "      <td>1</td>\n",
              "      <td>1</td>\n",
              "      <td>1</td>\n",
              "      <td>1</td>\n",
              "      <td>1</td>\n",
              "      <td>1</td>\n",
              "    </tr>\n",
              "    <tr>\n",
              "      <th>3</th>\n",
              "      <td>1</td>\n",
              "      <td>1</td>\n",
              "      <td>2</td>\n",
              "      <td>4</td>\n",
              "      <td>1</td>\n",
              "      <td>2</td>\n",
              "      <td>2</td>\n",
              "      <td>2</td>\n",
              "      <td>1</td>\n",
              "      <td>2</td>\n",
              "      <td>2</td>\n",
              "      <td>2</td>\n",
              "      <td>2</td>\n",
              "      <td>1</td>\n",
              "      <td>1</td>\n",
              "      <td>1</td>\n",
              "      <td>1</td>\n",
              "      <td>1</td>\n",
              "      <td>1</td>\n",
              "    </tr>\n",
              "    <tr>\n",
              "      <th>4</th>\n",
              "      <td>1</td>\n",
              "      <td>1</td>\n",
              "      <td>2</td>\n",
              "      <td>4</td>\n",
              "      <td>1</td>\n",
              "      <td>2</td>\n",
              "      <td>2</td>\n",
              "      <td>2</td>\n",
              "      <td>1</td>\n",
              "      <td>2</td>\n",
              "      <td>2</td>\n",
              "      <td>2</td>\n",
              "      <td>2</td>\n",
              "      <td>1</td>\n",
              "      <td>1</td>\n",
              "      <td>1</td>\n",
              "      <td>1</td>\n",
              "      <td>1</td>\n",
              "      <td>1</td>\n",
              "    </tr>\n",
              "  </tbody>\n",
              "</table>\n",
              "</div>"
            ],
            "text/plain": [
              "   Regiao_Geografica  ...  Escola_Banheiros_Acessíveis\n",
              "0                  1  ...                            1\n",
              "1                  1  ...                            1\n",
              "2                  1  ...                            1\n",
              "3                  1  ...                            1\n",
              "4                  1  ...                            1\n",
              "\n",
              "[5 rows x 19 columns]"
            ]
          },
          "metadata": {
            "tags": []
          },
          "execution_count": 15
        }
      ]
    },
    {
      "cell_type": "markdown",
      "metadata": {
        "id": "5LOWuVG-WDZk"
      },
      "source": [
        "## Gerando hipóteses: cálculos e análises.\r\n",
        "---\r\n",
        "\r\n"
      ]
    },
    {
      "cell_type": "markdown",
      "metadata": {
        "id": "x8aI8BdtsTO_"
      },
      "source": [
        "## Análise sobre a percepção dos alunos selecionados na pesquisa PeNSE 2015 quanto a acessibilidade da escola em relação:"
      ]
    },
    {
      "cell_type": "markdown",
      "metadata": {
        "id": "bFw2xvGuLgtm"
      },
      "source": [
        "### - A presença de colegas que possuem alguma deficiência ou necessidade especial:"
      ]
    },
    {
      "cell_type": "code",
      "metadata": {
        "id": "tJjnK_jMSMZf"
      },
      "source": [
        "def tabela_frequencia(data,indicador :str, respostas):\r\n",
        "    perc_defic_auditiva = data[indicador].replace(np.NaN, 0).value_counts(normalize = True)*100\r\n",
        "    freq_defic_auditiva = data[indicador].replace(np.NaN, 0).value_counts()\r\n",
        "\r\n",
        "    dist_freq = pd.DataFrame({'Frequencia':freq_defic_auditiva, 'Percentual': perc_defic_auditiva.round(2)})\r\n",
        "    dist_freq.rename(index = respostas, inplace=True)\r\n",
        "    dist_freq.rename_axis(f'''{indicador}''', axis=1, inplace=True)\r\n",
        "    return dist_freq\r\n",
        "  \r\n",
        "def tabela_frequencia_lista(data, necessidades :str, respostas):\r\n",
        "    for indicador in necessidades:\r\n",
        "        display(tabela_frequencia(data, indicador, respostas))\r\n",
        "        "
      ],
      "execution_count": 16,
      "outputs": []
    },
    {
      "cell_type": "code",
      "metadata": {
        "id": "LAVOjiaJg5Ry",
        "colab": {
          "base_uri": "https://localhost:8080/",
          "height": 1000
        },
        "outputId": "bcd565f1-b8e7-45f7-ca52-9492d977207d"
      },
      "source": [
        "tabela_frequencia_lista(acessivel, necessidades_alunos, respostas)"
      ],
      "execution_count": 17,
      "outputs": [
        {
          "output_type": "display_data",
          "data": {
            "text/html": [
              "<div>\n",
              "<style scoped>\n",
              "    .dataframe tbody tr th:only-of-type {\n",
              "        vertical-align: middle;\n",
              "    }\n",
              "\n",
              "    .dataframe tbody tr th {\n",
              "        vertical-align: top;\n",
              "    }\n",
              "\n",
              "    .dataframe thead th {\n",
              "        text-align: right;\n",
              "    }\n",
              "</style>\n",
              "<table border=\"1\" class=\"dataframe\">\n",
              "  <thead>\n",
              "    <tr style=\"text-align: right;\">\n",
              "      <th>Alunos_Deficiência_Transtorno_Global_Desenvolvimento</th>\n",
              "      <th>Frequencia</th>\n",
              "      <th>Percentual</th>\n",
              "    </tr>\n",
              "  </thead>\n",
              "  <tbody>\n",
              "    <tr>\n",
              "      <th>Sim</th>\n",
              "      <td>14167</td>\n",
              "      <td>85.57</td>\n",
              "    </tr>\n",
              "    <tr>\n",
              "      <th>Não</th>\n",
              "      <td>2389</td>\n",
              "      <td>14.43</td>\n",
              "    </tr>\n",
              "  </tbody>\n",
              "</table>\n",
              "</div>"
            ],
            "text/plain": [
              "Alunos_Deficiência_Transtorno_Global_Desenvolvimento  Frequencia  Percentual\n",
              "Sim                                                        14167       85.57\n",
              "Não                                                         2389       14.43"
            ]
          },
          "metadata": {
            "tags": []
          }
        },
        {
          "output_type": "display_data",
          "data": {
            "text/html": [
              "<div>\n",
              "<style scoped>\n",
              "    .dataframe tbody tr th:only-of-type {\n",
              "        vertical-align: middle;\n",
              "    }\n",
              "\n",
              "    .dataframe tbody tr th {\n",
              "        vertical-align: top;\n",
              "    }\n",
              "\n",
              "    .dataframe thead th {\n",
              "        text-align: right;\n",
              "    }\n",
              "</style>\n",
              "<table border=\"1\" class=\"dataframe\">\n",
              "  <thead>\n",
              "    <tr style=\"text-align: right;\">\n",
              "      <th>Alunos_Deficiencia_Intelectual</th>\n",
              "      <th>Frequencia</th>\n",
              "      <th>Percentual</th>\n",
              "    </tr>\n",
              "  </thead>\n",
              "  <tbody>\n",
              "    <tr>\n",
              "      <th>Sim</th>\n",
              "      <td>10010</td>\n",
              "      <td>60.46</td>\n",
              "    </tr>\n",
              "    <tr>\n",
              "      <th>Não</th>\n",
              "      <td>4157</td>\n",
              "      <td>25.11</td>\n",
              "    </tr>\n",
              "    <tr>\n",
              "      <th>Pulo no Questionário</th>\n",
              "      <td>2389</td>\n",
              "      <td>14.43</td>\n",
              "    </tr>\n",
              "  </tbody>\n",
              "</table>\n",
              "</div>"
            ],
            "text/plain": [
              "Alunos_Deficiencia_Intelectual  Frequencia  Percentual\n",
              "Sim                                  10010       60.46\n",
              "Não                                   4157       25.11\n",
              "Pulo no Questionário                  2389       14.43"
            ]
          },
          "metadata": {
            "tags": []
          }
        },
        {
          "output_type": "display_data",
          "data": {
            "text/html": [
              "<div>\n",
              "<style scoped>\n",
              "    .dataframe tbody tr th:only-of-type {\n",
              "        vertical-align: middle;\n",
              "    }\n",
              "\n",
              "    .dataframe tbody tr th {\n",
              "        vertical-align: top;\n",
              "    }\n",
              "\n",
              "    .dataframe thead th {\n",
              "        text-align: right;\n",
              "    }\n",
              "</style>\n",
              "<table border=\"1\" class=\"dataframe\">\n",
              "  <thead>\n",
              "    <tr style=\"text-align: right;\">\n",
              "      <th>Alunos_Transtornos_Espectro_Autismo</th>\n",
              "      <th>Frequencia</th>\n",
              "      <th>Percentual</th>\n",
              "    </tr>\n",
              "  </thead>\n",
              "  <tbody>\n",
              "    <tr>\n",
              "      <th>Não</th>\n",
              "      <td>7834</td>\n",
              "      <td>47.32</td>\n",
              "    </tr>\n",
              "    <tr>\n",
              "      <th>Sim</th>\n",
              "      <td>6333</td>\n",
              "      <td>38.25</td>\n",
              "    </tr>\n",
              "    <tr>\n",
              "      <th>Pulo no Questionário</th>\n",
              "      <td>2389</td>\n",
              "      <td>14.43</td>\n",
              "    </tr>\n",
              "  </tbody>\n",
              "</table>\n",
              "</div>"
            ],
            "text/plain": [
              "Alunos_Transtornos_Espectro_Autismo  Frequencia  Percentual\n",
              "Não                                        7834       47.32\n",
              "Sim                                        6333       38.25\n",
              "Pulo no Questionário                       2389       14.43"
            ]
          },
          "metadata": {
            "tags": []
          }
        },
        {
          "output_type": "display_data",
          "data": {
            "text/html": [
              "<div>\n",
              "<style scoped>\n",
              "    .dataframe tbody tr th:only-of-type {\n",
              "        vertical-align: middle;\n",
              "    }\n",
              "\n",
              "    .dataframe tbody tr th {\n",
              "        vertical-align: top;\n",
              "    }\n",
              "\n",
              "    .dataframe thead th {\n",
              "        text-align: right;\n",
              "    }\n",
              "</style>\n",
              "<table border=\"1\" class=\"dataframe\">\n",
              "  <thead>\n",
              "    <tr style=\"text-align: right;\">\n",
              "      <th>Alunos_Transtornos_Mentais_De_Comportamento</th>\n",
              "      <th>Frequencia</th>\n",
              "      <th>Percentual</th>\n",
              "    </tr>\n",
              "  </thead>\n",
              "  <tbody>\n",
              "    <tr>\n",
              "      <th>Sim</th>\n",
              "      <td>7110</td>\n",
              "      <td>42.95</td>\n",
              "    </tr>\n",
              "    <tr>\n",
              "      <th>Não</th>\n",
              "      <td>7057</td>\n",
              "      <td>42.63</td>\n",
              "    </tr>\n",
              "    <tr>\n",
              "      <th>Pulo no Questionário</th>\n",
              "      <td>2389</td>\n",
              "      <td>14.43</td>\n",
              "    </tr>\n",
              "  </tbody>\n",
              "</table>\n",
              "</div>"
            ],
            "text/plain": [
              "Alunos_Transtornos_Mentais_De_Comportamento  Frequencia  Percentual\n",
              "Sim                                                7110       42.95\n",
              "Não                                                7057       42.63\n",
              "Pulo no Questionário                               2389       14.43"
            ]
          },
          "metadata": {
            "tags": []
          }
        },
        {
          "output_type": "display_data",
          "data": {
            "text/html": [
              "<div>\n",
              "<style scoped>\n",
              "    .dataframe tbody tr th:only-of-type {\n",
              "        vertical-align: middle;\n",
              "    }\n",
              "\n",
              "    .dataframe tbody tr th {\n",
              "        vertical-align: top;\n",
              "    }\n",
              "\n",
              "    .dataframe thead th {\n",
              "        text-align: right;\n",
              "    }\n",
              "</style>\n",
              "<table border=\"1\" class=\"dataframe\">\n",
              "  <thead>\n",
              "    <tr style=\"text-align: right;\">\n",
              "      <th>Alunos_Deficiencia_Fisica</th>\n",
              "      <th>Frequencia</th>\n",
              "      <th>Percentual</th>\n",
              "    </tr>\n",
              "  </thead>\n",
              "  <tbody>\n",
              "    <tr>\n",
              "      <th>Sim</th>\n",
              "      <td>8917</td>\n",
              "      <td>53.86</td>\n",
              "    </tr>\n",
              "    <tr>\n",
              "      <th>Não</th>\n",
              "      <td>5250</td>\n",
              "      <td>31.71</td>\n",
              "    </tr>\n",
              "    <tr>\n",
              "      <th>Pulo no Questionário</th>\n",
              "      <td>2389</td>\n",
              "      <td>14.43</td>\n",
              "    </tr>\n",
              "  </tbody>\n",
              "</table>\n",
              "</div>"
            ],
            "text/plain": [
              "Alunos_Deficiencia_Fisica  Frequencia  Percentual\n",
              "Sim                              8917       53.86\n",
              "Não                              5250       31.71\n",
              "Pulo no Questionário             2389       14.43"
            ]
          },
          "metadata": {
            "tags": []
          }
        },
        {
          "output_type": "display_data",
          "data": {
            "text/html": [
              "<div>\n",
              "<style scoped>\n",
              "    .dataframe tbody tr th:only-of-type {\n",
              "        vertical-align: middle;\n",
              "    }\n",
              "\n",
              "    .dataframe tbody tr th {\n",
              "        vertical-align: top;\n",
              "    }\n",
              "\n",
              "    .dataframe thead th {\n",
              "        text-align: right;\n",
              "    }\n",
              "</style>\n",
              "<table border=\"1\" class=\"dataframe\">\n",
              "  <thead>\n",
              "    <tr style=\"text-align: right;\">\n",
              "      <th>Alunos_Deficiencia_Auditiva</th>\n",
              "      <th>Frequencia</th>\n",
              "      <th>Percentual</th>\n",
              "    </tr>\n",
              "  </thead>\n",
              "  <tbody>\n",
              "    <tr>\n",
              "      <th>Não</th>\n",
              "      <td>8350</td>\n",
              "      <td>50.43</td>\n",
              "    </tr>\n",
              "    <tr>\n",
              "      <th>Sim</th>\n",
              "      <td>5817</td>\n",
              "      <td>35.14</td>\n",
              "    </tr>\n",
              "    <tr>\n",
              "      <th>Pulo no Questionário</th>\n",
              "      <td>2389</td>\n",
              "      <td>14.43</td>\n",
              "    </tr>\n",
              "  </tbody>\n",
              "</table>\n",
              "</div>"
            ],
            "text/plain": [
              "Alunos_Deficiencia_Auditiva  Frequencia  Percentual\n",
              "Não                                8350       50.43\n",
              "Sim                                5817       35.14\n",
              "Pulo no Questionário               2389       14.43"
            ]
          },
          "metadata": {
            "tags": []
          }
        },
        {
          "output_type": "display_data",
          "data": {
            "text/html": [
              "<div>\n",
              "<style scoped>\n",
              "    .dataframe tbody tr th:only-of-type {\n",
              "        vertical-align: middle;\n",
              "    }\n",
              "\n",
              "    .dataframe tbody tr th {\n",
              "        vertical-align: top;\n",
              "    }\n",
              "\n",
              "    .dataframe thead th {\n",
              "        text-align: right;\n",
              "    }\n",
              "</style>\n",
              "<table border=\"1\" class=\"dataframe\">\n",
              "  <thead>\n",
              "    <tr style=\"text-align: right;\">\n",
              "      <th>Alunos_Deficiencia_Visual</th>\n",
              "      <th>Frequencia</th>\n",
              "      <th>Percentual</th>\n",
              "    </tr>\n",
              "  </thead>\n",
              "  <tbody>\n",
              "    <tr>\n",
              "      <th>Não</th>\n",
              "      <td>9272</td>\n",
              "      <td>56.00</td>\n",
              "    </tr>\n",
              "    <tr>\n",
              "      <th>Sim</th>\n",
              "      <td>4895</td>\n",
              "      <td>29.57</td>\n",
              "    </tr>\n",
              "    <tr>\n",
              "      <th>Pulo no Questionário</th>\n",
              "      <td>2389</td>\n",
              "      <td>14.43</td>\n",
              "    </tr>\n",
              "  </tbody>\n",
              "</table>\n",
              "</div>"
            ],
            "text/plain": [
              "Alunos_Deficiencia_Visual  Frequencia  Percentual\n",
              "Não                              9272       56.00\n",
              "Sim                              4895       29.57\n",
              "Pulo no Questionário             2389       14.43"
            ]
          },
          "metadata": {
            "tags": []
          }
        },
        {
          "output_type": "display_data",
          "data": {
            "text/html": [
              "<div>\n",
              "<style scoped>\n",
              "    .dataframe tbody tr th:only-of-type {\n",
              "        vertical-align: middle;\n",
              "    }\n",
              "\n",
              "    .dataframe tbody tr th {\n",
              "        vertical-align: top;\n",
              "    }\n",
              "\n",
              "    .dataframe thead th {\n",
              "        text-align: right;\n",
              "    }\n",
              "</style>\n",
              "<table border=\"1\" class=\"dataframe\">\n",
              "  <thead>\n",
              "    <tr style=\"text-align: right;\">\n",
              "      <th>Alunos_Deficiencia_Multipla</th>\n",
              "      <th>Frequencia</th>\n",
              "      <th>Percentual</th>\n",
              "    </tr>\n",
              "  </thead>\n",
              "  <tbody>\n",
              "    <tr>\n",
              "      <th>Não</th>\n",
              "      <td>10089</td>\n",
              "      <td>60.94</td>\n",
              "    </tr>\n",
              "    <tr>\n",
              "      <th>Sim</th>\n",
              "      <td>4078</td>\n",
              "      <td>24.63</td>\n",
              "    </tr>\n",
              "    <tr>\n",
              "      <th>Pulo no Questionário</th>\n",
              "      <td>2389</td>\n",
              "      <td>14.43</td>\n",
              "    </tr>\n",
              "  </tbody>\n",
              "</table>\n",
              "</div>"
            ],
            "text/plain": [
              "Alunos_Deficiencia_Multipla  Frequencia  Percentual\n",
              "Não                               10089       60.94\n",
              "Sim                                4078       24.63\n",
              "Pulo no Questionário               2389       14.43"
            ]
          },
          "metadata": {
            "tags": []
          }
        },
        {
          "output_type": "display_data",
          "data": {
            "text/html": [
              "<div>\n",
              "<style scoped>\n",
              "    .dataframe tbody tr th:only-of-type {\n",
              "        vertical-align: middle;\n",
              "    }\n",
              "\n",
              "    .dataframe tbody tr th {\n",
              "        vertical-align: top;\n",
              "    }\n",
              "\n",
              "    .dataframe thead th {\n",
              "        text-align: right;\n",
              "    }\n",
              "</style>\n",
              "<table border=\"1\" class=\"dataframe\">\n",
              "  <thead>\n",
              "    <tr style=\"text-align: right;\">\n",
              "      <th>Alunos_Outras_Deficiencias</th>\n",
              "      <th>Frequencia</th>\n",
              "      <th>Percentual</th>\n",
              "    </tr>\n",
              "  </thead>\n",
              "  <tbody>\n",
              "    <tr>\n",
              "      <th>Não</th>\n",
              "      <td>11555</td>\n",
              "      <td>69.79</td>\n",
              "    </tr>\n",
              "    <tr>\n",
              "      <th>Sim</th>\n",
              "      <td>2612</td>\n",
              "      <td>15.78</td>\n",
              "    </tr>\n",
              "    <tr>\n",
              "      <th>Pulo no Questionário</th>\n",
              "      <td>2389</td>\n",
              "      <td>14.43</td>\n",
              "    </tr>\n",
              "  </tbody>\n",
              "</table>\n",
              "</div>"
            ],
            "text/plain": [
              "Alunos_Outras_Deficiencias  Frequencia  Percentual\n",
              "Não                              11555       69.79\n",
              "Sim                               2612       15.78\n",
              "Pulo no Questionário              2389       14.43"
            ]
          },
          "metadata": {
            "tags": []
          }
        }
      ]
    },
    {
      "cell_type": "markdown",
      "metadata": {
        "id": "Q6M-VBDYGQGG"
      },
      "source": [
        "<strong><font color='blue'>Análise:</font></strong> Podemos perceber que uma boa parcela dos estudantes responderam no questionário que a escola em que estudam possui alunos com algum tipo de necessidade especial.\r\n",
        "Achei bem impressionate, que 85% dos estudantes da amostra responderam que a escola possui alunos com deficiência ou com transtorno global do desenvolvimento.<p>\r\n",
        "De um modo geral, como a amostra foi aplicada a jovens, podemos perceber que as deficiências mais severas, talvez por empatia, trazem um percentual maior na percepção, como as deficiências físicas e mentais. Já as necessidades especiais, mais sutis, tendem a ser menos notadas, como é possível verificar nos dados.<p>\r\n"
      ]
    },
    {
      "cell_type": "markdown",
      "metadata": {
        "id": "7oji6nnbRVKB"
      },
      "source": [
        "### - A existência de equipamentos e condições estruturais da escola para atender os alunos com alguma deficiência ou necessidade especial:"
      ]
    },
    {
      "cell_type": "code",
      "metadata": {
        "id": "dtpl0K1lPYb1",
        "colab": {
          "base_uri": "https://localhost:8080/",
          "height": 856
        },
        "outputId": "cfa606b8-b392-4fcd-9dc2-e13487f466a3"
      },
      "source": [
        "tabela_frequencia_lista(acessivel, necessidades_escola, respostas)    "
      ],
      "execution_count": 18,
      "outputs": [
        {
          "output_type": "display_data",
          "data": {
            "text/html": [
              "<div>\n",
              "<style scoped>\n",
              "    .dataframe tbody tr th:only-of-type {\n",
              "        vertical-align: middle;\n",
              "    }\n",
              "\n",
              "    .dataframe tbody tr th {\n",
              "        vertical-align: top;\n",
              "    }\n",
              "\n",
              "    .dataframe thead th {\n",
              "        text-align: right;\n",
              "    }\n",
              "</style>\n",
              "<table border=\"1\" class=\"dataframe\">\n",
              "  <thead>\n",
              "    <tr style=\"text-align: right;\">\n",
              "      <th>Escola_com_Atividade_Fisica_Adaptada</th>\n",
              "      <th>Frequencia</th>\n",
              "      <th>Percentual</th>\n",
              "    </tr>\n",
              "  </thead>\n",
              "  <tbody>\n",
              "    <tr>\n",
              "      <th>Não</th>\n",
              "      <td>8228</td>\n",
              "      <td>49.70</td>\n",
              "    </tr>\n",
              "    <tr>\n",
              "      <th>Sim</th>\n",
              "      <td>5939</td>\n",
              "      <td>35.87</td>\n",
              "    </tr>\n",
              "    <tr>\n",
              "      <th>Pulo no Questionário</th>\n",
              "      <td>2389</td>\n",
              "      <td>14.43</td>\n",
              "    </tr>\n",
              "  </tbody>\n",
              "</table>\n",
              "</div>"
            ],
            "text/plain": [
              "Escola_com_Atividade_Fisica_Adaptada  Frequencia  Percentual\n",
              "Não                                         8228       49.70\n",
              "Sim                                         5939       35.87\n",
              "Pulo no Questionário                        2389       14.43"
            ]
          },
          "metadata": {
            "tags": []
          }
        },
        {
          "output_type": "display_data",
          "data": {
            "text/html": [
              "<div>\n",
              "<style scoped>\n",
              "    .dataframe tbody tr th:only-of-type {\n",
              "        vertical-align: middle;\n",
              "    }\n",
              "\n",
              "    .dataframe tbody tr th {\n",
              "        vertical-align: top;\n",
              "    }\n",
              "\n",
              "    .dataframe thead th {\n",
              "        text-align: right;\n",
              "    }\n",
              "</style>\n",
              "<table border=\"1\" class=\"dataframe\">\n",
              "  <thead>\n",
              "    <tr style=\"text-align: right;\">\n",
              "      <th>Escola_Adaptada</th>\n",
              "      <th>Frequencia</th>\n",
              "      <th>Percentual</th>\n",
              "    </tr>\n",
              "  </thead>\n",
              "  <tbody>\n",
              "    <tr>\n",
              "      <th>Sim</th>\n",
              "      <td>11530</td>\n",
              "      <td>69.64</td>\n",
              "    </tr>\n",
              "    <tr>\n",
              "      <th>Não</th>\n",
              "      <td>4991</td>\n",
              "      <td>30.15</td>\n",
              "    </tr>\n",
              "    <tr>\n",
              "      <th>Não Informado</th>\n",
              "      <td>35</td>\n",
              "      <td>0.21</td>\n",
              "    </tr>\n",
              "  </tbody>\n",
              "</table>\n",
              "</div>"
            ],
            "text/plain": [
              "Escola_Adaptada  Frequencia  Percentual\n",
              "Sim                   11530       69.64\n",
              "Não                    4991       30.15\n",
              "Não Informado            35        0.21"
            ]
          },
          "metadata": {
            "tags": []
          }
        },
        {
          "output_type": "display_data",
          "data": {
            "text/html": [
              "<div>\n",
              "<style scoped>\n",
              "    .dataframe tbody tr th:only-of-type {\n",
              "        vertical-align: middle;\n",
              "    }\n",
              "\n",
              "    .dataframe tbody tr th {\n",
              "        vertical-align: top;\n",
              "    }\n",
              "\n",
              "    .dataframe thead th {\n",
              "        text-align: right;\n",
              "    }\n",
              "</style>\n",
              "<table border=\"1\" class=\"dataframe\">\n",
              "  <thead>\n",
              "    <tr style=\"text-align: right;\">\n",
              "      <th>Escola_Rampas_de_Acesso</th>\n",
              "      <th>Frequencia</th>\n",
              "      <th>Percentual</th>\n",
              "    </tr>\n",
              "  </thead>\n",
              "  <tbody>\n",
              "    <tr>\n",
              "      <th>Sim</th>\n",
              "      <td>10096</td>\n",
              "      <td>60.98</td>\n",
              "    </tr>\n",
              "    <tr>\n",
              "      <th>Pulo no Questionário</th>\n",
              "      <td>5026</td>\n",
              "      <td>30.36</td>\n",
              "    </tr>\n",
              "    <tr>\n",
              "      <th>Não</th>\n",
              "      <td>1348</td>\n",
              "      <td>8.14</td>\n",
              "    </tr>\n",
              "    <tr>\n",
              "      <th>Não Informado</th>\n",
              "      <td>86</td>\n",
              "      <td>0.52</td>\n",
              "    </tr>\n",
              "  </tbody>\n",
              "</table>\n",
              "</div>"
            ],
            "text/plain": [
              "Escola_Rampas_de_Acesso  Frequencia  Percentual\n",
              "Sim                           10096       60.98\n",
              "Pulo no Questionário           5026       30.36\n",
              "Não                            1348        8.14\n",
              "Não Informado                    86        0.52"
            ]
          },
          "metadata": {
            "tags": []
          }
        },
        {
          "output_type": "display_data",
          "data": {
            "text/html": [
              "<div>\n",
              "<style scoped>\n",
              "    .dataframe tbody tr th:only-of-type {\n",
              "        vertical-align: middle;\n",
              "    }\n",
              "\n",
              "    .dataframe tbody tr th {\n",
              "        vertical-align: top;\n",
              "    }\n",
              "\n",
              "    .dataframe thead th {\n",
              "        text-align: right;\n",
              "    }\n",
              "</style>\n",
              "<table border=\"1\" class=\"dataframe\">\n",
              "  <thead>\n",
              "    <tr style=\"text-align: right;\">\n",
              "      <th>Escola_Interior_Adequado_Locomocao</th>\n",
              "      <th>Frequencia</th>\n",
              "      <th>Percentual</th>\n",
              "    </tr>\n",
              "  </thead>\n",
              "  <tbody>\n",
              "    <tr>\n",
              "      <th>Não</th>\n",
              "      <td>6596</td>\n",
              "      <td>39.84</td>\n",
              "    </tr>\n",
              "    <tr>\n",
              "      <th>Pulo no Questionário</th>\n",
              "      <td>5026</td>\n",
              "      <td>30.36</td>\n",
              "    </tr>\n",
              "    <tr>\n",
              "      <th>Sim</th>\n",
              "      <td>4848</td>\n",
              "      <td>29.28</td>\n",
              "    </tr>\n",
              "    <tr>\n",
              "      <th>Não Informado</th>\n",
              "      <td>86</td>\n",
              "      <td>0.52</td>\n",
              "    </tr>\n",
              "  </tbody>\n",
              "</table>\n",
              "</div>"
            ],
            "text/plain": [
              "Escola_Interior_Adequado_Locomocao  Frequencia  Percentual\n",
              "Não                                       6596       39.84\n",
              "Pulo no Questionário                      5026       30.36\n",
              "Sim                                       4848       29.28\n",
              "Não Informado                               86        0.52"
            ]
          },
          "metadata": {
            "tags": []
          }
        },
        {
          "output_type": "display_data",
          "data": {
            "text/html": [
              "<div>\n",
              "<style scoped>\n",
              "    .dataframe tbody tr th:only-of-type {\n",
              "        vertical-align: middle;\n",
              "    }\n",
              "\n",
              "    .dataframe tbody tr th {\n",
              "        vertical-align: top;\n",
              "    }\n",
              "\n",
              "    .dataframe thead th {\n",
              "        text-align: right;\n",
              "    }\n",
              "</style>\n",
              "<table border=\"1\" class=\"dataframe\">\n",
              "  <thead>\n",
              "    <tr style=\"text-align: right;\">\n",
              "      <th>Escola_Moveis_Adequados</th>\n",
              "      <th>Frequencia</th>\n",
              "      <th>Percentual</th>\n",
              "    </tr>\n",
              "  </thead>\n",
              "  <tbody>\n",
              "    <tr>\n",
              "      <th>Sim</th>\n",
              "      <td>7430</td>\n",
              "      <td>44.88</td>\n",
              "    </tr>\n",
              "    <tr>\n",
              "      <th>Pulo no Questionário</th>\n",
              "      <td>5026</td>\n",
              "      <td>30.36</td>\n",
              "    </tr>\n",
              "    <tr>\n",
              "      <th>Não</th>\n",
              "      <td>4014</td>\n",
              "      <td>24.24</td>\n",
              "    </tr>\n",
              "    <tr>\n",
              "      <th>Não Informado</th>\n",
              "      <td>86</td>\n",
              "      <td>0.52</td>\n",
              "    </tr>\n",
              "  </tbody>\n",
              "</table>\n",
              "</div>"
            ],
            "text/plain": [
              "Escola_Moveis_Adequados  Frequencia  Percentual\n",
              "Sim                            7430       44.88\n",
              "Pulo no Questionário           5026       30.36\n",
              "Não                            4014       24.24\n",
              "Não Informado                    86        0.52"
            ]
          },
          "metadata": {
            "tags": []
          }
        },
        {
          "output_type": "display_data",
          "data": {
            "text/html": [
              "<div>\n",
              "<style scoped>\n",
              "    .dataframe tbody tr th:only-of-type {\n",
              "        vertical-align: middle;\n",
              "    }\n",
              "\n",
              "    .dataframe tbody tr th {\n",
              "        vertical-align: top;\n",
              "    }\n",
              "\n",
              "    .dataframe thead th {\n",
              "        text-align: right;\n",
              "    }\n",
              "</style>\n",
              "<table border=\"1\" class=\"dataframe\">\n",
              "  <thead>\n",
              "    <tr style=\"text-align: right;\">\n",
              "      <th>Escola_Banheiros_Acessíveis</th>\n",
              "      <th>Frequencia</th>\n",
              "      <th>Percentual</th>\n",
              "    </tr>\n",
              "  </thead>\n",
              "  <tbody>\n",
              "    <tr>\n",
              "      <th>Sim</th>\n",
              "      <td>9540</td>\n",
              "      <td>57.62</td>\n",
              "    </tr>\n",
              "    <tr>\n",
              "      <th>Pulo no Questionário</th>\n",
              "      <td>5026</td>\n",
              "      <td>30.36</td>\n",
              "    </tr>\n",
              "    <tr>\n",
              "      <th>Não</th>\n",
              "      <td>1904</td>\n",
              "      <td>11.50</td>\n",
              "    </tr>\n",
              "    <tr>\n",
              "      <th>Não Informado</th>\n",
              "      <td>86</td>\n",
              "      <td>0.52</td>\n",
              "    </tr>\n",
              "  </tbody>\n",
              "</table>\n",
              "</div>"
            ],
            "text/plain": [
              "Escola_Banheiros_Acessíveis  Frequencia  Percentual\n",
              "Sim                                9540       57.62\n",
              "Pulo no Questionário               5026       30.36\n",
              "Não                                1904       11.50\n",
              "Não Informado                        86        0.52"
            ]
          },
          "metadata": {
            "tags": []
          }
        }
      ]
    },
    {
      "cell_type": "markdown",
      "metadata": {
        "id": "_0jSPFMHR4FO"
      },
      "source": [
        "<strong><font color='blue'>Análise:</font></strong> Eu considero esses dados bastante técnicos, uma vez que o fato de uma rampa de acesso ser instalada, não torna uma escola adaptada, se você instalar uma guia rebaixada em uma calçada, mas essa calçada tiver muitos obstáculos, desníveis, buracos, equipamentos públicos conflitando com o passeio público, ou ainda não tiver a largura mínima de 1,2 metros, ainda sim sua calçada não será acessível, só é acessível se todos puderem utilizar o equipamento.<p>\r\n",
        "Trago essas informações, porque percebo nesse conjunto de respostas, um pouco de equívoco. Por exemplo, pela percepção dos estudantes, 60% das escolas tem rampas de acesso, porém eu não acredito nisso, se você for em qualquer escola, vai encontrar áreas que não podem ser acessadas por cadeirantes, e se uma parte das pessoas não conseguem acessar plenamente as instalações do prédio, então a escola não é acessível.<p>\r\n",
        "Contudo para um estudante, se a escola pintar uma cadeira de rodas azul no chão, colocar alguns marcadores e balizadores no chão, o público alvo já tem o entendimento de que o local tem os equipamentos necessários.<p>\r\n",
        "Somente com uma boa análise, podemos verificar se os equipamentos instalados, e percebidos em nossos dados, realmente tornam as escolas acessíveis.<p>"
      ]
    },
    {
      "cell_type": "markdown",
      "metadata": {
        "id": "zuKZffraVUHS"
      },
      "source": [
        "### - Às regiões do país:"
      ]
    },
    {
      "cell_type": "code",
      "metadata": {
        "id": "sVya1_yNVwEG",
        "colab": {
          "base_uri": "https://localhost:8080/",
          "height": 226
        },
        "outputId": "e7c4e7be-d17b-4f20-c825-972c494f3620"
      },
      "source": [
        "escolas_adaptadas_regiao = pd.crosstab(index=dados['REGEOGR'], columns=dados['VE01P43'], normalize='index').round(4)*100\r\n",
        "escolas_adaptadas_regiao.rename(index=regiao, columns=respostas,inplace=True)\r\n",
        "escolas_adaptadas_regiao.rename_axis('A escola é acessível ?', axis=1, inplace=True)\r\n",
        "escolas_adaptadas_regiao.rename_axis('Região', axis=0, inplace=True)\r\n",
        "escolas_adaptadas_regiao"
      ],
      "execution_count": 19,
      "outputs": [
        {
          "output_type": "execute_result",
          "data": {
            "text/html": [
              "<div>\n",
              "<style scoped>\n",
              "    .dataframe tbody tr th:only-of-type {\n",
              "        vertical-align: middle;\n",
              "    }\n",
              "\n",
              "    .dataframe tbody tr th {\n",
              "        vertical-align: top;\n",
              "    }\n",
              "\n",
              "    .dataframe thead th {\n",
              "        text-align: right;\n",
              "    }\n",
              "</style>\n",
              "<table border=\"1\" class=\"dataframe\">\n",
              "  <thead>\n",
              "    <tr style=\"text-align: right;\">\n",
              "      <th>A escola é acessível ?</th>\n",
              "      <th>Sim</th>\n",
              "      <th>Não</th>\n",
              "      <th>Não Informado</th>\n",
              "    </tr>\n",
              "    <tr>\n",
              "      <th>Região</th>\n",
              "      <th></th>\n",
              "      <th></th>\n",
              "      <th></th>\n",
              "    </tr>\n",
              "  </thead>\n",
              "  <tbody>\n",
              "    <tr>\n",
              "      <th>Norte</th>\n",
              "      <td>63.55</td>\n",
              "      <td>36.45</td>\n",
              "      <td>0.00</td>\n",
              "    </tr>\n",
              "    <tr>\n",
              "      <th>Nordeste</th>\n",
              "      <td>77.14</td>\n",
              "      <td>22.86</td>\n",
              "      <td>0.00</td>\n",
              "    </tr>\n",
              "    <tr>\n",
              "      <th>Sudeste</th>\n",
              "      <td>60.07</td>\n",
              "      <td>38.86</td>\n",
              "      <td>1.07</td>\n",
              "    </tr>\n",
              "    <tr>\n",
              "      <th>Sul</th>\n",
              "      <td>72.28</td>\n",
              "      <td>27.72</td>\n",
              "      <td>0.00</td>\n",
              "    </tr>\n",
              "    <tr>\n",
              "      <th>Centro_Oeste</th>\n",
              "      <td>74.42</td>\n",
              "      <td>25.58</td>\n",
              "      <td>0.00</td>\n",
              "    </tr>\n",
              "  </tbody>\n",
              "</table>\n",
              "</div>"
            ],
            "text/plain": [
              "A escola é acessível ?    Sim    Não  Não Informado\n",
              "Região                                             \n",
              "Norte                   63.55  36.45           0.00\n",
              "Nordeste                77.14  22.86           0.00\n",
              "Sudeste                 60.07  38.86           1.07\n",
              "Sul                     72.28  27.72           0.00\n",
              "Centro_Oeste            74.42  25.58           0.00"
            ]
          },
          "metadata": {
            "tags": []
          },
          "execution_count": 19
        }
      ]
    },
    {
      "cell_type": "code",
      "metadata": {
        "id": "ltDm1OdFnQvV",
        "colab": {
          "base_uri": "https://localhost:8080/",
          "height": 226
        },
        "outputId": "8b3567dd-1013-48d9-d2ea-0bfcbe09d1e3"
      },
      "source": [
        "escolas_adaptadas_regiao = pd.crosstab(index=dados['REGEOGR'], columns=dados['VE01P43'])\r\n",
        "escolas_adaptadas_regiao.rename(index=regiao, columns=respostas,inplace=True)\r\n",
        "escolas_adaptadas_regiao.rename_axis('A escola é acessível ?', axis=1, inplace=True)\r\n",
        "escolas_adaptadas_regiao.rename_axis('Região', axis=0, inplace=True)\r\n",
        "escolas_adaptadas_regiao"
      ],
      "execution_count": 20,
      "outputs": [
        {
          "output_type": "execute_result",
          "data": {
            "text/html": [
              "<div>\n",
              "<style scoped>\n",
              "    .dataframe tbody tr th:only-of-type {\n",
              "        vertical-align: middle;\n",
              "    }\n",
              "\n",
              "    .dataframe tbody tr th {\n",
              "        vertical-align: top;\n",
              "    }\n",
              "\n",
              "    .dataframe thead th {\n",
              "        text-align: right;\n",
              "    }\n",
              "</style>\n",
              "<table border=\"1\" class=\"dataframe\">\n",
              "  <thead>\n",
              "    <tr style=\"text-align: right;\">\n",
              "      <th>A escola é acessível ?</th>\n",
              "      <th>Sim</th>\n",
              "      <th>Não</th>\n",
              "      <th>Não Informado</th>\n",
              "    </tr>\n",
              "    <tr>\n",
              "      <th>Região</th>\n",
              "      <th></th>\n",
              "      <th></th>\n",
              "      <th></th>\n",
              "    </tr>\n",
              "  </thead>\n",
              "  <tbody>\n",
              "    <tr>\n",
              "      <th>Norte</th>\n",
              "      <td>2026</td>\n",
              "      <td>1162</td>\n",
              "      <td>0</td>\n",
              "    </tr>\n",
              "    <tr>\n",
              "      <th>Nordeste</th>\n",
              "      <td>2673</td>\n",
              "      <td>792</td>\n",
              "      <td>0</td>\n",
              "    </tr>\n",
              "    <tr>\n",
              "      <th>Sudeste</th>\n",
              "      <td>1968</td>\n",
              "      <td>1273</td>\n",
              "      <td>35</td>\n",
              "    </tr>\n",
              "    <tr>\n",
              "      <th>Sul</th>\n",
              "      <td>2318</td>\n",
              "      <td>889</td>\n",
              "      <td>0</td>\n",
              "    </tr>\n",
              "    <tr>\n",
              "      <th>Centro_Oeste</th>\n",
              "      <td>2545</td>\n",
              "      <td>875</td>\n",
              "      <td>0</td>\n",
              "    </tr>\n",
              "  </tbody>\n",
              "</table>\n",
              "</div>"
            ],
            "text/plain": [
              "A escola é acessível ?   Sim   Não  Não Informado\n",
              "Região                                           \n",
              "Norte                   2026  1162              0\n",
              "Nordeste                2673   792              0\n",
              "Sudeste                 1968  1273             35\n",
              "Sul                     2318   889              0\n",
              "Centro_Oeste            2545   875              0"
            ]
          },
          "metadata": {
            "tags": []
          },
          "execution_count": 20
        }
      ]
    },
    {
      "cell_type": "code",
      "metadata": {
        "id": "JWMju_MqgufD",
        "colab": {
          "base_uri": "https://localhost:8080/",
          "height": 266
        },
        "outputId": "eee9daee-b7df-41c0-fda3-0898645dda93"
      },
      "source": [
        "escolas_adaptadas_regiao.T.boxplot();"
      ],
      "execution_count": 21,
      "outputs": [
        {
          "output_type": "display_data",
          "data": {
            "image/png": "[encoded data removed]",
            "text/plain": [
              "<Figure size 432x288 with 1 Axes>"
            ]
          },
          "metadata": {
            "tags": [],
            "needs_background": "light"
          }
        }
      ]
    },
    {
      "cell_type": "markdown",
      "metadata": {
        "id": "gmcxw3RCVv-x"
      },
      "source": [
        "<strong><font color='blue'>Análise:</font></strong> Devemos considerar nessa análise que a pesquisa foi feita em todas regiões do país, com uma quantidade amostral bastante parecida.<p>\r\n",
        "Analisando primeiro os diagramas de blocos, percebemos que as medianas variam bastante, mas que os blocos, estão até muito próximos.<p>\r\n",
        "Percebo que assim como os dados anteriores, o entendimento dos alunos é que a escola é acessível, girando em torno dos 70%, o que também acredito não ser verdade. Dois dados me chamaram bastante atenção, nas região Norte e Sudeste, que tiveram percentuais próximos de 60%.<p>\r\n",
        "No caso da Região Norte, a explicação se dará com a próxima análise. No Sudeste, talvez essa percepção menor se dê, não necessariamente por conta das escolas, mas por conta da mobilidade num geral, seja no entorno da escola, seja pelas periferias, acho que nessas escolas os alunos já tem a impressão de tudo ser menos acessível.<p>"
      ]
    },
    {
      "cell_type": "markdown",
      "metadata": {
        "id": "cGkDS87fZkO3"
      },
      "source": [
        "### - À situação da escola:"
      ]
    },
    {
      "cell_type": "code",
      "metadata": {
        "id": "JwhMda23lFZk",
        "colab": {
          "base_uri": "https://localhost:8080/",
          "height": 137
        },
        "outputId": "d8ba0532-e248-4bce-fba1-d0e79fe6a73b"
      },
      "source": [
        "situacao = {1:'Urbana', 2:'Rural'}\r\n",
        "escolas_adaptadas_situacao = pd.crosstab(index=dados['V0006'], columns=dados['VE01P43'], normalize='index').round(4)*100\r\n",
        "escolas_adaptadas_situacao.rename(index=situacao, columns=respostas,inplace=True)\r\n",
        "escolas_adaptadas_situacao.rename_axis('A escola é acessível ?', axis=1, inplace=True)\r\n",
        "escolas_adaptadas_situacao.rename_axis('Situação', axis=0, inplace=True)\r\n",
        "escolas_adaptadas_situacao"
      ],
      "execution_count": 22,
      "outputs": [
        {
          "output_type": "execute_result",
          "data": {
            "text/html": [
              "<div>\n",
              "<style scoped>\n",
              "    .dataframe tbody tr th:only-of-type {\n",
              "        vertical-align: middle;\n",
              "    }\n",
              "\n",
              "    .dataframe tbody tr th {\n",
              "        vertical-align: top;\n",
              "    }\n",
              "\n",
              "    .dataframe thead th {\n",
              "        text-align: right;\n",
              "    }\n",
              "</style>\n",
              "<table border=\"1\" class=\"dataframe\">\n",
              "  <thead>\n",
              "    <tr style=\"text-align: right;\">\n",
              "      <th>A escola é acessível ?</th>\n",
              "      <th>Sim</th>\n",
              "      <th>Não</th>\n",
              "      <th>Não Informado</th>\n",
              "    </tr>\n",
              "    <tr>\n",
              "      <th>Situação</th>\n",
              "      <th></th>\n",
              "      <th></th>\n",
              "      <th></th>\n",
              "    </tr>\n",
              "  </thead>\n",
              "  <tbody>\n",
              "    <tr>\n",
              "      <th>Urbana</th>\n",
              "      <td>71.03</td>\n",
              "      <td>28.75</td>\n",
              "      <td>0.22</td>\n",
              "    </tr>\n",
              "    <tr>\n",
              "      <th>Rural</th>\n",
              "      <td>44.07</td>\n",
              "      <td>55.93</td>\n",
              "      <td>0.00</td>\n",
              "    </tr>\n",
              "  </tbody>\n",
              "</table>\n",
              "</div>"
            ],
            "text/plain": [
              "A escola é acessível ?    Sim    Não  Não Informado\n",
              "Situação                                           \n",
              "Urbana                  71.03  28.75           0.22\n",
              "Rural                   44.07  55.93           0.00"
            ]
          },
          "metadata": {
            "tags": []
          },
          "execution_count": 22
        }
      ]
    },
    {
      "cell_type": "code",
      "metadata": {
        "id": "r4y40kYipPNb",
        "colab": {
          "base_uri": "https://localhost:8080/",
          "height": 137
        },
        "outputId": "c14823f1-a11d-457a-9ef9-181337eeedaf"
      },
      "source": [
        "escolas_adaptadas_situacao = pd.crosstab(index=dados['V0006'], columns=dados['VE01P43'])\r\n",
        "escolas_adaptadas_situacao.rename(index=situacao, columns=respostas,inplace=True)\r\n",
        "escolas_adaptadas_situacao.rename_axis('A escola é acessível ?', axis=1, inplace=True)\r\n",
        "escolas_adaptadas_situacao.rename_axis('Situação', axis=0, inplace=True)\r\n",
        "escolas_adaptadas_situacao"
      ],
      "execution_count": 23,
      "outputs": [
        {
          "output_type": "execute_result",
          "data": {
            "text/html": [
              "<div>\n",
              "<style scoped>\n",
              "    .dataframe tbody tr th:only-of-type {\n",
              "        vertical-align: middle;\n",
              "    }\n",
              "\n",
              "    .dataframe tbody tr th {\n",
              "        vertical-align: top;\n",
              "    }\n",
              "\n",
              "    .dataframe thead th {\n",
              "        text-align: right;\n",
              "    }\n",
              "</style>\n",
              "<table border=\"1\" class=\"dataframe\">\n",
              "  <thead>\n",
              "    <tr style=\"text-align: right;\">\n",
              "      <th>A escola é acessível ?</th>\n",
              "      <th>Sim</th>\n",
              "      <th>Não</th>\n",
              "      <th>Não Informado</th>\n",
              "    </tr>\n",
              "    <tr>\n",
              "      <th>Situação</th>\n",
              "      <th></th>\n",
              "      <th></th>\n",
              "      <th></th>\n",
              "    </tr>\n",
              "  </thead>\n",
              "  <tbody>\n",
              "    <tr>\n",
              "      <th>Urbana</th>\n",
              "      <td>11155</td>\n",
              "      <td>4515</td>\n",
              "      <td>35</td>\n",
              "    </tr>\n",
              "    <tr>\n",
              "      <th>Rural</th>\n",
              "      <td>375</td>\n",
              "      <td>476</td>\n",
              "      <td>0</td>\n",
              "    </tr>\n",
              "  </tbody>\n",
              "</table>\n",
              "</div>"
            ],
            "text/plain": [
              "A escola é acessível ?    Sim   Não  Não Informado\n",
              "Situação                                          \n",
              "Urbana                  11155  4515             35\n",
              "Rural                     375   476              0"
            ]
          },
          "metadata": {
            "tags": []
          },
          "execution_count": 23
        }
      ]
    },
    {
      "cell_type": "code",
      "metadata": {
        "colab": {
          "base_uri": "https://localhost:8080/",
          "height": 265
        },
        "id": "1p-3LMlXZ0ot",
        "outputId": "00711c15-b1cc-4f59-8383-6427da95f0b5"
      },
      "source": [
        "escolas_adaptadas_situacao.T.boxplot();"
      ],
      "execution_count": 24,
      "outputs": [
        {
          "output_type": "display_data",
          "data": {
            "image/png": "[encoded data removed]",
            "text/plain": [
              "<Figure size 432x288 with 1 Axes>"
            ]
          },
          "metadata": {
            "tags": [],
            "needs_background": "light"
          }
        }
      ]
    },
    {
      "cell_type": "markdown",
      "metadata": {
        "id": "VwHn_iTyaDzd"
      },
      "source": [
        "<strong><font color='blue'>Análise:</font></strong> Analisando o diagrama de blocos, podemos percebem num primeiro momento que a pesquisa foi realizada na esmagadora maioria em regiões urbanas, o que já demonstra uma provável falha na coleta, se considerarmos que a amostra conta com cerca de 5% de estudantes de regiões rurais.<p>\r\n",
        "Devemos levar em conta que <a href='https://educa.ibge.gov.br/jovens/conheca-o-brasil/populacao/18313-populacao-rural-e-urbana.html#:~:text=De%20acordo%20com%20dados%20da,brasileiros%20vivem%20em%20%C3%A1reas%20rurais.'>\"De acordo com dados da Pesquisa Nacional por Amostra de Domicílios (PNAD) 2015 a maior parte da população brasileira, 84,72%, vive em áreas urbanas. Já 15,28% dos brasileiros vivem em áreas rurais.\"</a>. Logo essa análise pode trazer vícios.<p>\r\n",
        "Mesmo assim, podemos perceber que a maior parcela de estudante da área urbana, tem o entendimento de que suas escolas são acessíveis. Já na área rural, essa tendência se inverte, indicando que a maior parte dos estudantes percebem suas escolas como não acessíveis.<p>\r\n",
        "Essa explicação, pode se dar pela percepção do entorno, regiões rurais, em grande maioria, já não possuem os equipamentos de acessibilidade. como vias pavimentadas com o calçamento instalado.<p>\r\n",
        "O estudante já chega na escola com o entendimento de que as escolas não são acessíveis. O estudo anterior pode corroborar com essa hipótese, uma vez que a região norte possui menos regiões urbana que as demais.<p>"
      ]
    },
    {
      "cell_type": "markdown",
      "metadata": {
        "id": "sIRo4EwIfC7Z"
      },
      "source": [
        "### - À dependência administrativa:"
      ]
    },
    {
      "cell_type": "code",
      "metadata": {
        "id": "mhyx--b1pYQl",
        "colab": {
          "base_uri": "https://localhost:8080/",
          "height": 137
        },
        "outputId": "10a4664f-aac2-473c-c411-a5cedd8ba1c7"
      },
      "source": [
        "dep_adm = {1:'Pública', 2:'Privada'}\r\n",
        "escolas_adaptadas_dep_adm = pd.crosstab(index=dados['V0007'], columns=dados['VE01P43'], normalize='index').round(4)*100\r\n",
        "escolas_adaptadas_dep_adm.rename(index=dep_adm, columns=respostas,inplace=True)\r\n",
        "escolas_adaptadas_dep_adm.rename_axis('A escola é acessível ?', axis=1, inplace=True)\r\n",
        "escolas_adaptadas_dep_adm.rename_axis('Dependência Administrativa', axis=0, inplace=True)\r\n",
        "escolas_adaptadas_dep_adm"
      ],
      "execution_count": 25,
      "outputs": [
        {
          "output_type": "execute_result",
          "data": {
            "text/html": [
              "<div>\n",
              "<style scoped>\n",
              "    .dataframe tbody tr th:only-of-type {\n",
              "        vertical-align: middle;\n",
              "    }\n",
              "\n",
              "    .dataframe tbody tr th {\n",
              "        vertical-align: top;\n",
              "    }\n",
              "\n",
              "    .dataframe thead th {\n",
              "        text-align: right;\n",
              "    }\n",
              "</style>\n",
              "<table border=\"1\" class=\"dataframe\">\n",
              "  <thead>\n",
              "    <tr style=\"text-align: right;\">\n",
              "      <th>A escola é acessível ?</th>\n",
              "      <th>Sim</th>\n",
              "      <th>Não</th>\n",
              "      <th>Não Informado</th>\n",
              "    </tr>\n",
              "    <tr>\n",
              "      <th>Dependência Administrativa</th>\n",
              "      <th></th>\n",
              "      <th></th>\n",
              "      <th></th>\n",
              "    </tr>\n",
              "  </thead>\n",
              "  <tbody>\n",
              "    <tr>\n",
              "      <th>Pública</th>\n",
              "      <td>64.08</td>\n",
              "      <td>35.92</td>\n",
              "      <td>0.00</td>\n",
              "    </tr>\n",
              "    <tr>\n",
              "      <th>Privada</th>\n",
              "      <td>86.13</td>\n",
              "      <td>13.03</td>\n",
              "      <td>0.84</td>\n",
              "    </tr>\n",
              "  </tbody>\n",
              "</table>\n",
              "</div>"
            ],
            "text/plain": [
              "A escola é acessível ?        Sim    Não  Não Informado\n",
              "Dependência Administrativa                             \n",
              "Pública                     64.08  35.92           0.00\n",
              "Privada                     86.13  13.03           0.84"
            ]
          },
          "metadata": {
            "tags": []
          },
          "execution_count": 25
        }
      ]
    },
    {
      "cell_type": "code",
      "metadata": {
        "id": "o65BupY0qGu0",
        "colab": {
          "base_uri": "https://localhost:8080/",
          "height": 137
        },
        "outputId": "6991ddcb-5d88-4d3e-c210-4fbe44f47cdf"
      },
      "source": [
        "escolas_adaptadas_dep_adm = pd.crosstab(index=dados['V0007'], columns=dados['VE01P43'])\r\n",
        "escolas_adaptadas_dep_adm.rename(index=dep_adm, columns=respostas,inplace=True)\r\n",
        "escolas_adaptadas_dep_adm.rename_axis('A escola é acessível ?', axis=1, inplace=True)\r\n",
        "escolas_adaptadas_dep_adm.rename_axis('Dependência Administrativa', axis=0, inplace=True)\r\n",
        "escolas_adaptadas_dep_adm"
      ],
      "execution_count": 26,
      "outputs": [
        {
          "output_type": "execute_result",
          "data": {
            "text/html": [
              "<div>\n",
              "<style scoped>\n",
              "    .dataframe tbody tr th:only-of-type {\n",
              "        vertical-align: middle;\n",
              "    }\n",
              "\n",
              "    .dataframe tbody tr th {\n",
              "        vertical-align: top;\n",
              "    }\n",
              "\n",
              "    .dataframe thead th {\n",
              "        text-align: right;\n",
              "    }\n",
              "</style>\n",
              "<table border=\"1\" class=\"dataframe\">\n",
              "  <thead>\n",
              "    <tr style=\"text-align: right;\">\n",
              "      <th>A escola é acessível ?</th>\n",
              "      <th>Sim</th>\n",
              "      <th>Não</th>\n",
              "      <th>Não Informado</th>\n",
              "    </tr>\n",
              "    <tr>\n",
              "      <th>Dependência Administrativa</th>\n",
              "      <th></th>\n",
              "      <th></th>\n",
              "      <th></th>\n",
              "    </tr>\n",
              "  </thead>\n",
              "  <tbody>\n",
              "    <tr>\n",
              "      <th>Pública</th>\n",
              "      <td>7934</td>\n",
              "      <td>4447</td>\n",
              "      <td>0</td>\n",
              "    </tr>\n",
              "    <tr>\n",
              "      <th>Privada</th>\n",
              "      <td>3596</td>\n",
              "      <td>544</td>\n",
              "      <td>35</td>\n",
              "    </tr>\n",
              "  </tbody>\n",
              "</table>\n",
              "</div>"
            ],
            "text/plain": [
              "A escola é acessível ?       Sim   Não  Não Informado\n",
              "Dependência Administrativa                           \n",
              "Pública                     7934  4447              0\n",
              "Privada                     3596   544             35"
            ]
          },
          "metadata": {
            "tags": []
          },
          "execution_count": 26
        }
      ]
    },
    {
      "cell_type": "code",
      "metadata": {
        "colab": {
          "base_uri": "https://localhost:8080/",
          "height": 265
        },
        "id": "jiDK3ATafNFq",
        "outputId": "3cd57379-705c-4ff5-9b2b-8d0b5b9ddcea"
      },
      "source": [
        "escolas_adaptadas_dep_adm.T.boxplot();"
      ],
      "execution_count": 27,
      "outputs": [
        {
          "output_type": "display_data",
          "data": {
            "image/png": "[encoded data removed]",
            "text/plain": [
              "<Figure size 432x288 with 1 Axes>"
            ]
          },
          "metadata": {
            "tags": [],
            "needs_background": "light"
          }
        }
      ]
    },
    {
      "cell_type": "markdown",
      "metadata": {
        "id": "a4VQKlMRkGud"
      },
      "source": [
        "<strong><font color = 'blue'>Análise:</font></strong> Analisando os dados em relação a dependência administrativa, podemos verificar uma discrepância bastante acentuada, onde as escolas privadas transmitem aos alunos a impressão de serem bem mais acessíveis, com 86 %, equanto as escolas públiza atingem 64 %, o que para mim faz sentido, as escolas privadas tem mecanismos reguladores sem os quais não conseguiriam os alvarás e documentos necessário para o funcionamento, e as escolas públicas dependem de orçamentos públicos e passam por processos licitatórios para implantação de melhorias."
      ]
    },
    {
      "cell_type": "markdown",
      "metadata": {
        "id": "_kI3RAmTnIix"
      },
      "source": [
        "### - À esfera administrativa:"
      ]
    },
    {
      "cell_type": "code",
      "metadata": {
        "id": "dk25tfCkLjpg",
        "colab": {
          "base_uri": "https://localhost:8080/",
          "height": 196
        },
        "outputId": "ed21336c-ede9-494d-891b-598e098252fe"
      },
      "source": [
        "esf_adm = {1:'Federal', 2:'Estadual', 3:'Municipal', 4:'Privada'}\r\n",
        "escolas_adaptadas_esf_adm = pd.crosstab(index=dados['V0008'], columns=dados['VE01P43'], normalize='index').round(4)*100\r\n",
        "escolas_adaptadas_esf_adm.rename(index=esf_adm, columns=respostas,inplace=True)\r\n",
        "escolas_adaptadas_esf_adm.rename_axis('A escola é acessível ?', axis=1, inplace=True)\r\n",
        "escolas_adaptadas_esf_adm.rename_axis('Esfera Administrativa', axis=0, inplace=True)\r\n",
        "escolas_adaptadas_esf_adm"
      ],
      "execution_count": 28,
      "outputs": [
        {
          "output_type": "execute_result",
          "data": {
            "text/html": [
              "<div>\n",
              "<style scoped>\n",
              "    .dataframe tbody tr th:only-of-type {\n",
              "        vertical-align: middle;\n",
              "    }\n",
              "\n",
              "    .dataframe tbody tr th {\n",
              "        vertical-align: top;\n",
              "    }\n",
              "\n",
              "    .dataframe thead th {\n",
              "        text-align: right;\n",
              "    }\n",
              "</style>\n",
              "<table border=\"1\" class=\"dataframe\">\n",
              "  <thead>\n",
              "    <tr style=\"text-align: right;\">\n",
              "      <th>A escola é acessível ?</th>\n",
              "      <th>Sim</th>\n",
              "      <th>Não</th>\n",
              "      <th>Não Informado</th>\n",
              "    </tr>\n",
              "    <tr>\n",
              "      <th>Esfera Administrativa</th>\n",
              "      <th></th>\n",
              "      <th></th>\n",
              "      <th></th>\n",
              "    </tr>\n",
              "  </thead>\n",
              "  <tbody>\n",
              "    <tr>\n",
              "      <th>Federal</th>\n",
              "      <td>63.00</td>\n",
              "      <td>37.00</td>\n",
              "      <td>0.00</td>\n",
              "    </tr>\n",
              "    <tr>\n",
              "      <th>Estadual</th>\n",
              "      <td>65.81</td>\n",
              "      <td>34.19</td>\n",
              "      <td>0.00</td>\n",
              "    </tr>\n",
              "    <tr>\n",
              "      <th>Municipal</th>\n",
              "      <td>59.11</td>\n",
              "      <td>40.89</td>\n",
              "      <td>0.00</td>\n",
              "    </tr>\n",
              "    <tr>\n",
              "      <th>Privada</th>\n",
              "      <td>86.13</td>\n",
              "      <td>13.03</td>\n",
              "      <td>0.84</td>\n",
              "    </tr>\n",
              "  </tbody>\n",
              "</table>\n",
              "</div>"
            ],
            "text/plain": [
              "A escola é acessível ?    Sim    Não  Não Informado\n",
              "Esfera Administrativa                              \n",
              "Federal                 63.00  37.00           0.00\n",
              "Estadual                65.81  34.19           0.00\n",
              "Municipal               59.11  40.89           0.00\n",
              "Privada                 86.13  13.03           0.84"
            ]
          },
          "metadata": {
            "tags": []
          },
          "execution_count": 28
        }
      ]
    },
    {
      "cell_type": "code",
      "metadata": {
        "id": "o0kddUMONA9F",
        "colab": {
          "base_uri": "https://localhost:8080/",
          "height": 196
        },
        "outputId": "178b6a56-cc81-4ecd-e143-8a367dbc9089"
      },
      "source": [
        "escolas_adaptadas_esf_adm = pd.crosstab(index=dados['V0008'], columns=dados['VE01P43'])\r\n",
        "escolas_adaptadas_esf_adm.rename(index=esf_adm, columns=respostas,inplace=True)\r\n",
        "escolas_adaptadas_esf_adm.rename_axis('A escola é acessível ?', axis=1, inplace=True)\r\n",
        "escolas_adaptadas_esf_adm.rename_axis('Esfera Administrativa', axis=0, inplace=True)\r\n",
        "escolas_adaptadas_esf_adm"
      ],
      "execution_count": 29,
      "outputs": [
        {
          "output_type": "execute_result",
          "data": {
            "text/html": [
              "<div>\n",
              "<style scoped>\n",
              "    .dataframe tbody tr th:only-of-type {\n",
              "        vertical-align: middle;\n",
              "    }\n",
              "\n",
              "    .dataframe tbody tr th {\n",
              "        vertical-align: top;\n",
              "    }\n",
              "\n",
              "    .dataframe thead th {\n",
              "        text-align: right;\n",
              "    }\n",
              "</style>\n",
              "<table border=\"1\" class=\"dataframe\">\n",
              "  <thead>\n",
              "    <tr style=\"text-align: right;\">\n",
              "      <th>A escola é acessível ?</th>\n",
              "      <th>Sim</th>\n",
              "      <th>Não</th>\n",
              "      <th>Não Informado</th>\n",
              "    </tr>\n",
              "    <tr>\n",
              "      <th>Esfera Administrativa</th>\n",
              "      <th></th>\n",
              "      <th></th>\n",
              "      <th></th>\n",
              "    </tr>\n",
              "  </thead>\n",
              "  <tbody>\n",
              "    <tr>\n",
              "      <th>Federal</th>\n",
              "      <td>189</td>\n",
              "      <td>111</td>\n",
              "      <td>0</td>\n",
              "    </tr>\n",
              "    <tr>\n",
              "      <th>Estadual</th>\n",
              "      <td>5929</td>\n",
              "      <td>3080</td>\n",
              "      <td>0</td>\n",
              "    </tr>\n",
              "    <tr>\n",
              "      <th>Municipal</th>\n",
              "      <td>1816</td>\n",
              "      <td>1256</td>\n",
              "      <td>0</td>\n",
              "    </tr>\n",
              "    <tr>\n",
              "      <th>Privada</th>\n",
              "      <td>3596</td>\n",
              "      <td>544</td>\n",
              "      <td>35</td>\n",
              "    </tr>\n",
              "  </tbody>\n",
              "</table>\n",
              "</div>"
            ],
            "text/plain": [
              "A escola é acessível ?   Sim   Não  Não Informado\n",
              "Esfera Administrativa                            \n",
              "Federal                  189   111              0\n",
              "Estadual                5929  3080              0\n",
              "Municipal               1816  1256              0\n",
              "Privada                 3596   544             35"
            ]
          },
          "metadata": {
            "tags": []
          },
          "execution_count": 29
        }
      ]
    },
    {
      "cell_type": "code",
      "metadata": {
        "id": "f5GoSAmbNRlF",
        "colab": {
          "base_uri": "https://localhost:8080/",
          "height": 265
        },
        "outputId": "a8cb7436-f316-46ba-b821-bb3ae582dc1f"
      },
      "source": [
        "escolas_adaptadas_esf_adm.T.boxplot();"
      ],
      "execution_count": 30,
      "outputs": [
        {
          "output_type": "display_data",
          "data": {
            "image/png": "[encoded data removed]",
            "text/plain": [
              "<Figure size 432x288 with 1 Axes>"
            ]
          },
          "metadata": {
            "tags": [],
            "needs_background": "light"
          }
        }
      ]
    },
    {
      "cell_type": "markdown",
      "metadata": {
        "id": "fdC8brOMnUYM"
      },
      "source": [
        "<strong><font color='blue'>Análise:</font><strong> Considerando a percepção dos estudantes em cada esfera administrativa, percebemos que as escolas federais e estaduais e municipais tem um desempenho parecido em torno dos 63%, as escolas particulares realmente passam a impressão de serem mais acessíveis.<p>\r\n",
        "O diagrama de blocos demonstra o que já era possível perceber na segunda tabela, que a amosta das escolas federais são muito pequenas em relação as demais."
      ]
    },
    {
      "cell_type": "markdown",
      "metadata": {
        "id": "G5KAe4EkqZMS"
      },
      "source": [
        "### Um programinha com RegEx só porque eu achei muito legal:"
      ]
    },
    {
      "cell_type": "code",
      "metadata": {
        "id": "C3VxlFHeNXxa",
        "colab": {
          "base_uri": "https://localhost:8080/",
          "height": 35
        },
        "outputId": "8365b08a-30e3-4d67-ded2-4e1e8363b944"
      },
      "source": [
        "import re\r\n",
        "\r\n",
        "a = 'SjktoPe34590oO09-23sdFghijGgnT9087UvxZ'\r\n",
        "a = re.findall(\"[0-9,A-Z]\", a)\r\n",
        "''.join(a)"
      ],
      "execution_count": 31,
      "outputs": [
        {
          "output_type": "execute_result",
          "data": {
            "application/vnd.google.colaboratory.intrinsic+json": {
              "type": "string"
            },
            "text/plain": [
              "'SP34590O0923FGT9087UZ'"
            ]
          },
          "metadata": {
            "tags": []
          },
          "execution_count": 31
        }
      ]
    },
    {
      "cell_type": "markdown",
      "metadata": {
        "id": "j6-TfcOcqok-"
      },
      "source": [
        "## Análise dos dados considerando o Censo Escolar 2019 do INEP"
      ]
    },
    {
      "cell_type": "code",
      "metadata": {
        "id": "QTzcXz4yEQwK",
        "colab": {
          "base_uri": "https://localhost:8080/"
        },
        "outputId": "2fc074f0-b0d8-42c2-a2d1-11ce8113f964"
      },
      "source": [
        "'''\r\n",
        "F1) Classe Exclusiva: Alunos com deficiência, transtornos globais do \r\n",
        "desenvolvimento e/ou altas habilidades/superdotação em escolas exclusivamente\r\n",
        " especializadas e/ou classes exclusivas de ensino regular e/ou educação de \r\n",
        " jovens e adultos (EJA).\r\n",
        "'''\r\n",
        "x = educacao_basica_escolas['IN_ESPECIAL_EXCLUSIVA'].replace(np.NaN, 0)\r\n",
        "print(x.sum())\r\n",
        "(x.sum()/len(x)*100).round(2)"
      ],
      "execution_count": 64,
      "outputs": [
        {
          "output_type": "stream",
          "text": [
            "3237.0\n"
          ],
          "name": "stdout"
        },
        {
          "output_type": "execute_result",
          "data": {
            "text/plain": [
              "1.42"
            ]
          },
          "metadata": {
            "tags": []
          },
          "execution_count": 64
        }
      ]
    },
    {
      "cell_type": "markdown",
      "metadata": {
        "id": "n6ZfgxiKP4Ac"
      },
      "source": [
        "De acordo com o Censo escolar, 3237 escolas indicaram possuir classe exclusiva para Alunos com deficiência, transtornos globais do desenvolvimento e/ou altas habilidades/superdotação em escolas exclusivamente especializadas e/ou classes exclusivas de ensino regular e/ou educação de jovens e adultos (EJA), 1,42% do total."
      ]
    },
    {
      "cell_type": "code",
      "metadata": {
        "id": "kuaA7264ZBpn"
      },
      "source": [
        "colunas = educacao_basica_escolas.columns"
      ],
      "execution_count": 33,
      "outputs": []
    },
    {
      "cell_type": "code",
      "metadata": {
        "id": "Hz3q3y29nBGV",
        "colab": {
          "base_uri": "https://localhost:8080/",
          "height": 216
        },
        "outputId": "88bb3241-2519-42fe-a199-1c3cebafe155"
      },
      "source": [
        "acessivel_educacao_basica = pd.DataFrame(educacao_basica_escolas[indicadores_escolas_acessiveis])\r\n",
        "\r\n",
        "acessivel_educacao_basica.replace(np.NaN, 0, inplace=True)\r\n",
        "\r\n",
        "acessivel_educacao_basica.head()"
      ],
      "execution_count": 76,
      "outputs": [
        {
          "output_type": "execute_result",
          "data": {
            "text/html": [
              "<div>\n",
              "<style scoped>\n",
              "    .dataframe tbody tr th:only-of-type {\n",
              "        vertical-align: middle;\n",
              "    }\n",
              "\n",
              "    .dataframe tbody tr th {\n",
              "        vertical-align: top;\n",
              "    }\n",
              "\n",
              "    .dataframe thead th {\n",
              "        text-align: right;\n",
              "    }\n",
              "</style>\n",
              "<table border=\"1\" class=\"dataframe\">\n",
              "  <thead>\n",
              "    <tr style=\"text-align: right;\">\n",
              "      <th></th>\n",
              "      <th>CO_REGIAO</th>\n",
              "      <th>CO_UF</th>\n",
              "      <th>TP_DEPENDENCIA</th>\n",
              "      <th>TP_LOCALIZACAO</th>\n",
              "      <th>IN_BANHEIRO_PNE</th>\n",
              "      <th>IN_SALA_ATENDIMENTO_ESPECIAL</th>\n",
              "      <th>IN_ACESSIBILIDADE_CORRIMAO</th>\n",
              "      <th>IN_ACESSIBILIDADE_ELEVADOR</th>\n",
              "      <th>IN_ACESSIBILIDADE_PISOS_TATEIS</th>\n",
              "      <th>IN_ACESSIBILIDADE_VAO_LIVRE</th>\n",
              "      <th>IN_ACESSIBILIDADE_RAMPAS</th>\n",
              "      <th>IN_ACESSIBILIDADE_SINAL_SONORO</th>\n",
              "      <th>IN_ACESSIBILIDADE_SINAL_TATIL</th>\n",
              "      <th>IN_ACESSIBILIDADE_SINAL_VISUAL</th>\n",
              "      <th>IN_ACESSIBILIDADE_INEXISTENTE</th>\n",
              "      <th>QT_SALAS_UTILIZADAS_ACESSIVEIS</th>\n",
              "      <th>TP_AEE</th>\n",
              "      <th>IN_ESPECIAL_EXCLUSIVA</th>\n",
              "      <th>IN_ESP_EXCLUSIVA_CRECHE</th>\n",
              "      <th>IN_ESP_EXCLUSIVA_PRE</th>\n",
              "      <th>IN_ESP_EXCLUSIVA_FUND_AI</th>\n",
              "      <th>IN_ESP_EXCLUSIVA_FUND_AF</th>\n",
              "      <th>IN_ESP_EXCLUSIVA_MEDIO_MEDIO</th>\n",
              "      <th>IN_ESP_EXCLUSIVA_MEDIO_INTEGR</th>\n",
              "      <th>IN_ESP_EXCLUSIVA_MEDIO_NORMAL</th>\n",
              "    </tr>\n",
              "  </thead>\n",
              "  <tbody>\n",
              "    <tr>\n",
              "      <th>0</th>\n",
              "      <td>4</td>\n",
              "      <td>43</td>\n",
              "      <td>2</td>\n",
              "      <td>1</td>\n",
              "      <td>0.0</td>\n",
              "      <td>1.0</td>\n",
              "      <td>0.0</td>\n",
              "      <td>1.0</td>\n",
              "      <td>0.0</td>\n",
              "      <td>0.0</td>\n",
              "      <td>0.0</td>\n",
              "      <td>0.0</td>\n",
              "      <td>0.0</td>\n",
              "      <td>0.0</td>\n",
              "      <td>0.0</td>\n",
              "      <td>0.0</td>\n",
              "      <td>1.0</td>\n",
              "      <td>0.0</td>\n",
              "      <td>0.0</td>\n",
              "      <td>0.0</td>\n",
              "      <td>0.0</td>\n",
              "      <td>0.0</td>\n",
              "      <td>0.0</td>\n",
              "      <td>0.0</td>\n",
              "      <td>0.0</td>\n",
              "    </tr>\n",
              "    <tr>\n",
              "      <th>1</th>\n",
              "      <td>4</td>\n",
              "      <td>43</td>\n",
              "      <td>3</td>\n",
              "      <td>1</td>\n",
              "      <td>1.0</td>\n",
              "      <td>1.0</td>\n",
              "      <td>0.0</td>\n",
              "      <td>0.0</td>\n",
              "      <td>0.0</td>\n",
              "      <td>0.0</td>\n",
              "      <td>1.0</td>\n",
              "      <td>0.0</td>\n",
              "      <td>0.0</td>\n",
              "      <td>0.0</td>\n",
              "      <td>0.0</td>\n",
              "      <td>10.0</td>\n",
              "      <td>1.0</td>\n",
              "      <td>0.0</td>\n",
              "      <td>0.0</td>\n",
              "      <td>0.0</td>\n",
              "      <td>0.0</td>\n",
              "      <td>0.0</td>\n",
              "      <td>0.0</td>\n",
              "      <td>0.0</td>\n",
              "      <td>0.0</td>\n",
              "    </tr>\n",
              "    <tr>\n",
              "      <th>2</th>\n",
              "      <td>4</td>\n",
              "      <td>43</td>\n",
              "      <td>2</td>\n",
              "      <td>1</td>\n",
              "      <td>0.0</td>\n",
              "      <td>1.0</td>\n",
              "      <td>0.0</td>\n",
              "      <td>0.0</td>\n",
              "      <td>0.0</td>\n",
              "      <td>0.0</td>\n",
              "      <td>0.0</td>\n",
              "      <td>0.0</td>\n",
              "      <td>0.0</td>\n",
              "      <td>0.0</td>\n",
              "      <td>1.0</td>\n",
              "      <td>0.0</td>\n",
              "      <td>0.0</td>\n",
              "      <td>0.0</td>\n",
              "      <td>0.0</td>\n",
              "      <td>0.0</td>\n",
              "      <td>0.0</td>\n",
              "      <td>0.0</td>\n",
              "      <td>0.0</td>\n",
              "      <td>0.0</td>\n",
              "      <td>0.0</td>\n",
              "    </tr>\n",
              "    <tr>\n",
              "      <th>3</th>\n",
              "      <td>4</td>\n",
              "      <td>43</td>\n",
              "      <td>3</td>\n",
              "      <td>2</td>\n",
              "      <td>0.0</td>\n",
              "      <td>0.0</td>\n",
              "      <td>0.0</td>\n",
              "      <td>0.0</td>\n",
              "      <td>0.0</td>\n",
              "      <td>0.0</td>\n",
              "      <td>1.0</td>\n",
              "      <td>0.0</td>\n",
              "      <td>0.0</td>\n",
              "      <td>0.0</td>\n",
              "      <td>0.0</td>\n",
              "      <td>0.0</td>\n",
              "      <td>0.0</td>\n",
              "      <td>0.0</td>\n",
              "      <td>0.0</td>\n",
              "      <td>0.0</td>\n",
              "      <td>0.0</td>\n",
              "      <td>0.0</td>\n",
              "      <td>0.0</td>\n",
              "      <td>0.0</td>\n",
              "      <td>0.0</td>\n",
              "    </tr>\n",
              "    <tr>\n",
              "      <th>4</th>\n",
              "      <td>4</td>\n",
              "      <td>43</td>\n",
              "      <td>2</td>\n",
              "      <td>1</td>\n",
              "      <td>0.0</td>\n",
              "      <td>1.0</td>\n",
              "      <td>1.0</td>\n",
              "      <td>0.0</td>\n",
              "      <td>1.0</td>\n",
              "      <td>1.0</td>\n",
              "      <td>1.0</td>\n",
              "      <td>0.0</td>\n",
              "      <td>1.0</td>\n",
              "      <td>0.0</td>\n",
              "      <td>0.0</td>\n",
              "      <td>0.0</td>\n",
              "      <td>1.0</td>\n",
              "      <td>0.0</td>\n",
              "      <td>0.0</td>\n",
              "      <td>0.0</td>\n",
              "      <td>0.0</td>\n",
              "      <td>0.0</td>\n",
              "      <td>0.0</td>\n",
              "      <td>0.0</td>\n",
              "      <td>0.0</td>\n",
              "    </tr>\n",
              "  </tbody>\n",
              "</table>\n",
              "</div>"
            ],
            "text/plain": [
              "   CO_REGIAO  ...  IN_ESP_EXCLUSIVA_MEDIO_NORMAL\n",
              "0          4  ...                            0.0\n",
              "1          4  ...                            0.0\n",
              "2          4  ...                            0.0\n",
              "3          4  ...                            0.0\n",
              "4          4  ...                            0.0\n",
              "\n",
              "[5 rows x 25 columns]"
            ]
          },
          "metadata": {
            "tags": []
          },
          "execution_count": 76
        }
      ]
    },
    {
      "cell_type": "markdown",
      "metadata": {
        "id": "zACxX1-iVL7U"
      },
      "source": [
        "### Análise da presença dos equipamentos de acessibilidade nas escolas: "
      ]
    },
    {
      "cell_type": "code",
      "metadata": {
        "id": "uyrvng2AwTqv",
        "colab": {
          "base_uri": "https://localhost:8080/",
          "height": 1000
        },
        "outputId": "46b0c5d7-2b37-46cd-8e1e-9b9d3cb03e68"
      },
      "source": [
        "tabela_frequencia_lista(acessivel_educacao_basica, equipamentos_acessibilidade, respostas_eb)"
      ],
      "execution_count": 77,
      "outputs": [
        {
          "output_type": "display_data",
          "data": {
            "text/html": [
              "<div>\n",
              "<style scoped>\n",
              "    .dataframe tbody tr th:only-of-type {\n",
              "        vertical-align: middle;\n",
              "    }\n",
              "\n",
              "    .dataframe tbody tr th {\n",
              "        vertical-align: top;\n",
              "    }\n",
              "\n",
              "    .dataframe thead th {\n",
              "        text-align: right;\n",
              "    }\n",
              "</style>\n",
              "<table border=\"1\" class=\"dataframe\">\n",
              "  <thead>\n",
              "    <tr style=\"text-align: right;\">\n",
              "      <th>IN_BANHEIRO_PNE</th>\n",
              "      <th>Frequencia</th>\n",
              "      <th>Percentual</th>\n",
              "    </tr>\n",
              "  </thead>\n",
              "  <tbody>\n",
              "    <tr>\n",
              "      <th>Não</th>\n",
              "      <td>147041</td>\n",
              "      <td>64.34</td>\n",
              "    </tr>\n",
              "    <tr>\n",
              "      <th>Sim</th>\n",
              "      <td>81480</td>\n",
              "      <td>35.66</td>\n",
              "    </tr>\n",
              "  </tbody>\n",
              "</table>\n",
              "</div>"
            ],
            "text/plain": [
              "IN_BANHEIRO_PNE  Frequencia  Percentual\n",
              "Não                  147041       64.34\n",
              "Sim                   81480       35.66"
            ]
          },
          "metadata": {
            "tags": []
          }
        },
        {
          "output_type": "display_data",
          "data": {
            "text/html": [
              "<div>\n",
              "<style scoped>\n",
              "    .dataframe tbody tr th:only-of-type {\n",
              "        vertical-align: middle;\n",
              "    }\n",
              "\n",
              "    .dataframe tbody tr th {\n",
              "        vertical-align: top;\n",
              "    }\n",
              "\n",
              "    .dataframe thead th {\n",
              "        text-align: right;\n",
              "    }\n",
              "</style>\n",
              "<table border=\"1\" class=\"dataframe\">\n",
              "  <thead>\n",
              "    <tr style=\"text-align: right;\">\n",
              "      <th>IN_SALA_ATENDIMENTO_ESPECIAL</th>\n",
              "      <th>Frequencia</th>\n",
              "      <th>Percentual</th>\n",
              "    </tr>\n",
              "  </thead>\n",
              "  <tbody>\n",
              "    <tr>\n",
              "      <th>Não</th>\n",
              "      <td>192518</td>\n",
              "      <td>84.25</td>\n",
              "    </tr>\n",
              "    <tr>\n",
              "      <th>Sim</th>\n",
              "      <td>36003</td>\n",
              "      <td>15.75</td>\n",
              "    </tr>\n",
              "  </tbody>\n",
              "</table>\n",
              "</div>"
            ],
            "text/plain": [
              "IN_SALA_ATENDIMENTO_ESPECIAL  Frequencia  Percentual\n",
              "Não                               192518       84.25\n",
              "Sim                                36003       15.75"
            ]
          },
          "metadata": {
            "tags": []
          }
        },
        {
          "output_type": "display_data",
          "data": {
            "text/html": [
              "<div>\n",
              "<style scoped>\n",
              "    .dataframe tbody tr th:only-of-type {\n",
              "        vertical-align: middle;\n",
              "    }\n",
              "\n",
              "    .dataframe tbody tr th {\n",
              "        vertical-align: top;\n",
              "    }\n",
              "\n",
              "    .dataframe thead th {\n",
              "        text-align: right;\n",
              "    }\n",
              "</style>\n",
              "<table border=\"1\" class=\"dataframe\">\n",
              "  <thead>\n",
              "    <tr style=\"text-align: right;\">\n",
              "      <th>IN_ACESSIBILIDADE_CORRIMAO</th>\n",
              "      <th>Frequencia</th>\n",
              "      <th>Percentual</th>\n",
              "    </tr>\n",
              "  </thead>\n",
              "  <tbody>\n",
              "    <tr>\n",
              "      <th>Não</th>\n",
              "      <td>187074</td>\n",
              "      <td>81.86</td>\n",
              "    </tr>\n",
              "    <tr>\n",
              "      <th>Sim</th>\n",
              "      <td>41447</td>\n",
              "      <td>18.14</td>\n",
              "    </tr>\n",
              "  </tbody>\n",
              "</table>\n",
              "</div>"
            ],
            "text/plain": [
              "IN_ACESSIBILIDADE_CORRIMAO  Frequencia  Percentual\n",
              "Não                             187074       81.86\n",
              "Sim                              41447       18.14"
            ]
          },
          "metadata": {
            "tags": []
          }
        },
        {
          "output_type": "display_data",
          "data": {
            "text/html": [
              "<div>\n",
              "<style scoped>\n",
              "    .dataframe tbody tr th:only-of-type {\n",
              "        vertical-align: middle;\n",
              "    }\n",
              "\n",
              "    .dataframe tbody tr th {\n",
              "        vertical-align: top;\n",
              "    }\n",
              "\n",
              "    .dataframe thead th {\n",
              "        text-align: right;\n",
              "    }\n",
              "</style>\n",
              "<table border=\"1\" class=\"dataframe\">\n",
              "  <thead>\n",
              "    <tr style=\"text-align: right;\">\n",
              "      <th>IN_ACESSIBILIDADE_ELEVADOR</th>\n",
              "      <th>Frequencia</th>\n",
              "      <th>Percentual</th>\n",
              "    </tr>\n",
              "  </thead>\n",
              "  <tbody>\n",
              "    <tr>\n",
              "      <th>Não</th>\n",
              "      <td>222323</td>\n",
              "      <td>97.29</td>\n",
              "    </tr>\n",
              "    <tr>\n",
              "      <th>Sim</th>\n",
              "      <td>6198</td>\n",
              "      <td>2.71</td>\n",
              "    </tr>\n",
              "  </tbody>\n",
              "</table>\n",
              "</div>"
            ],
            "text/plain": [
              "IN_ACESSIBILIDADE_ELEVADOR  Frequencia  Percentual\n",
              "Não                             222323       97.29\n",
              "Sim                               6198        2.71"
            ]
          },
          "metadata": {
            "tags": []
          }
        },
        {
          "output_type": "display_data",
          "data": {
            "text/html": [
              "<div>\n",
              "<style scoped>\n",
              "    .dataframe tbody tr th:only-of-type {\n",
              "        vertical-align: middle;\n",
              "    }\n",
              "\n",
              "    .dataframe tbody tr th {\n",
              "        vertical-align: top;\n",
              "    }\n",
              "\n",
              "    .dataframe thead th {\n",
              "        text-align: right;\n",
              "    }\n",
              "</style>\n",
              "<table border=\"1\" class=\"dataframe\">\n",
              "  <thead>\n",
              "    <tr style=\"text-align: right;\">\n",
              "      <th>IN_ACESSIBILIDADE_PISOS_TATEIS</th>\n",
              "      <th>Frequencia</th>\n",
              "      <th>Percentual</th>\n",
              "    </tr>\n",
              "  </thead>\n",
              "  <tbody>\n",
              "    <tr>\n",
              "      <th>Não</th>\n",
              "      <td>215805</td>\n",
              "      <td>94.44</td>\n",
              "    </tr>\n",
              "    <tr>\n",
              "      <th>Sim</th>\n",
              "      <td>12716</td>\n",
              "      <td>5.56</td>\n",
              "    </tr>\n",
              "  </tbody>\n",
              "</table>\n",
              "</div>"
            ],
            "text/plain": [
              "IN_ACESSIBILIDADE_PISOS_TATEIS  Frequencia  Percentual\n",
              "Não                                 215805       94.44\n",
              "Sim                                  12716        5.56"
            ]
          },
          "metadata": {
            "tags": []
          }
        },
        {
          "output_type": "display_data",
          "data": {
            "text/html": [
              "<div>\n",
              "<style scoped>\n",
              "    .dataframe tbody tr th:only-of-type {\n",
              "        vertical-align: middle;\n",
              "    }\n",
              "\n",
              "    .dataframe tbody tr th {\n",
              "        vertical-align: top;\n",
              "    }\n",
              "\n",
              "    .dataframe thead th {\n",
              "        text-align: right;\n",
              "    }\n",
              "</style>\n",
              "<table border=\"1\" class=\"dataframe\">\n",
              "  <thead>\n",
              "    <tr style=\"text-align: right;\">\n",
              "      <th>IN_ACESSIBILIDADE_VAO_LIVRE</th>\n",
              "      <th>Frequencia</th>\n",
              "      <th>Percentual</th>\n",
              "    </tr>\n",
              "  </thead>\n",
              "  <tbody>\n",
              "    <tr>\n",
              "      <th>Não</th>\n",
              "      <td>180748</td>\n",
              "      <td>79.09</td>\n",
              "    </tr>\n",
              "    <tr>\n",
              "      <th>Sim</th>\n",
              "      <td>47773</td>\n",
              "      <td>20.91</td>\n",
              "    </tr>\n",
              "  </tbody>\n",
              "</table>\n",
              "</div>"
            ],
            "text/plain": [
              "IN_ACESSIBILIDADE_VAO_LIVRE  Frequencia  Percentual\n",
              "Não                              180748       79.09\n",
              "Sim                               47773       20.91"
            ]
          },
          "metadata": {
            "tags": []
          }
        },
        {
          "output_type": "display_data",
          "data": {
            "text/html": [
              "<div>\n",
              "<style scoped>\n",
              "    .dataframe tbody tr th:only-of-type {\n",
              "        vertical-align: middle;\n",
              "    }\n",
              "\n",
              "    .dataframe tbody tr th {\n",
              "        vertical-align: top;\n",
              "    }\n",
              "\n",
              "    .dataframe thead th {\n",
              "        text-align: right;\n",
              "    }\n",
              "</style>\n",
              "<table border=\"1\" class=\"dataframe\">\n",
              "  <thead>\n",
              "    <tr style=\"text-align: right;\">\n",
              "      <th>IN_ACESSIBILIDADE_RAMPAS</th>\n",
              "      <th>Frequencia</th>\n",
              "      <th>Percentual</th>\n",
              "    </tr>\n",
              "  </thead>\n",
              "  <tbody>\n",
              "    <tr>\n",
              "      <th>Não</th>\n",
              "      <td>147944</td>\n",
              "      <td>64.74</td>\n",
              "    </tr>\n",
              "    <tr>\n",
              "      <th>Sim</th>\n",
              "      <td>80577</td>\n",
              "      <td>35.26</td>\n",
              "    </tr>\n",
              "  </tbody>\n",
              "</table>\n",
              "</div>"
            ],
            "text/plain": [
              "IN_ACESSIBILIDADE_RAMPAS  Frequencia  Percentual\n",
              "Não                           147944       64.74\n",
              "Sim                            80577       35.26"
            ]
          },
          "metadata": {
            "tags": []
          }
        },
        {
          "output_type": "display_data",
          "data": {
            "text/html": [
              "<div>\n",
              "<style scoped>\n",
              "    .dataframe tbody tr th:only-of-type {\n",
              "        vertical-align: middle;\n",
              "    }\n",
              "\n",
              "    .dataframe tbody tr th {\n",
              "        vertical-align: top;\n",
              "    }\n",
              "\n",
              "    .dataframe thead th {\n",
              "        text-align: right;\n",
              "    }\n",
              "</style>\n",
              "<table border=\"1\" class=\"dataframe\">\n",
              "  <thead>\n",
              "    <tr style=\"text-align: right;\">\n",
              "      <th>IN_ACESSIBILIDADE_SINAL_SONORO</th>\n",
              "      <th>Frequencia</th>\n",
              "      <th>Percentual</th>\n",
              "    </tr>\n",
              "  </thead>\n",
              "  <tbody>\n",
              "    <tr>\n",
              "      <th>Não</th>\n",
              "      <td>225855</td>\n",
              "      <td>98.83</td>\n",
              "    </tr>\n",
              "    <tr>\n",
              "      <th>Sim</th>\n",
              "      <td>2666</td>\n",
              "      <td>1.17</td>\n",
              "    </tr>\n",
              "  </tbody>\n",
              "</table>\n",
              "</div>"
            ],
            "text/plain": [
              "IN_ACESSIBILIDADE_SINAL_SONORO  Frequencia  Percentual\n",
              "Não                                 225855       98.83\n",
              "Sim                                   2666        1.17"
            ]
          },
          "metadata": {
            "tags": []
          }
        },
        {
          "output_type": "display_data",
          "data": {
            "text/html": [
              "<div>\n",
              "<style scoped>\n",
              "    .dataframe tbody tr th:only-of-type {\n",
              "        vertical-align: middle;\n",
              "    }\n",
              "\n",
              "    .dataframe tbody tr th {\n",
              "        vertical-align: top;\n",
              "    }\n",
              "\n",
              "    .dataframe thead th {\n",
              "        text-align: right;\n",
              "    }\n",
              "</style>\n",
              "<table border=\"1\" class=\"dataframe\">\n",
              "  <thead>\n",
              "    <tr style=\"text-align: right;\">\n",
              "      <th>IN_ACESSIBILIDADE_SINAL_TATIL</th>\n",
              "      <th>Frequencia</th>\n",
              "      <th>Percentual</th>\n",
              "    </tr>\n",
              "  </thead>\n",
              "  <tbody>\n",
              "    <tr>\n",
              "      <th>Não</th>\n",
              "      <td>223677</td>\n",
              "      <td>97.88</td>\n",
              "    </tr>\n",
              "    <tr>\n",
              "      <th>Sim</th>\n",
              "      <td>4844</td>\n",
              "      <td>2.12</td>\n",
              "    </tr>\n",
              "  </tbody>\n",
              "</table>\n",
              "</div>"
            ],
            "text/plain": [
              "IN_ACESSIBILIDADE_SINAL_TATIL  Frequencia  Percentual\n",
              "Não                                223677       97.88\n",
              "Sim                                  4844        2.12"
            ]
          },
          "metadata": {
            "tags": []
          }
        },
        {
          "output_type": "display_data",
          "data": {
            "text/html": [
              "<div>\n",
              "<style scoped>\n",
              "    .dataframe tbody tr th:only-of-type {\n",
              "        vertical-align: middle;\n",
              "    }\n",
              "\n",
              "    .dataframe tbody tr th {\n",
              "        vertical-align: top;\n",
              "    }\n",
              "\n",
              "    .dataframe thead th {\n",
              "        text-align: right;\n",
              "    }\n",
              "</style>\n",
              "<table border=\"1\" class=\"dataframe\">\n",
              "  <thead>\n",
              "    <tr style=\"text-align: right;\">\n",
              "      <th>IN_ACESSIBILIDADE_SINAL_VISUAL</th>\n",
              "      <th>Frequencia</th>\n",
              "      <th>Percentual</th>\n",
              "    </tr>\n",
              "  </thead>\n",
              "  <tbody>\n",
              "    <tr>\n",
              "      <th>Não</th>\n",
              "      <td>218199</td>\n",
              "      <td>95.48</td>\n",
              "    </tr>\n",
              "    <tr>\n",
              "      <th>Sim</th>\n",
              "      <td>10322</td>\n",
              "      <td>4.52</td>\n",
              "    </tr>\n",
              "  </tbody>\n",
              "</table>\n",
              "</div>"
            ],
            "text/plain": [
              "IN_ACESSIBILIDADE_SINAL_VISUAL  Frequencia  Percentual\n",
              "Não                                 218199       95.48\n",
              "Sim                                  10322        4.52"
            ]
          },
          "metadata": {
            "tags": []
          }
        },
        {
          "output_type": "display_data",
          "data": {
            "text/html": [
              "<div>\n",
              "<style scoped>\n",
              "    .dataframe tbody tr th:only-of-type {\n",
              "        vertical-align: middle;\n",
              "    }\n",
              "\n",
              "    .dataframe tbody tr th {\n",
              "        vertical-align: top;\n",
              "    }\n",
              "\n",
              "    .dataframe thead th {\n",
              "        text-align: right;\n",
              "    }\n",
              "</style>\n",
              "<table border=\"1\" class=\"dataframe\">\n",
              "  <thead>\n",
              "    <tr style=\"text-align: right;\">\n",
              "      <th>IN_ACESSIBILIDADE_INEXISTENTE</th>\n",
              "      <th>Frequencia</th>\n",
              "      <th>Percentual</th>\n",
              "    </tr>\n",
              "  </thead>\n",
              "  <tbody>\n",
              "    <tr>\n",
              "      <th>Não</th>\n",
              "      <td>148315</td>\n",
              "      <td>64.9</td>\n",
              "    </tr>\n",
              "    <tr>\n",
              "      <th>Sim</th>\n",
              "      <td>80206</td>\n",
              "      <td>35.1</td>\n",
              "    </tr>\n",
              "  </tbody>\n",
              "</table>\n",
              "</div>"
            ],
            "text/plain": [
              "IN_ACESSIBILIDADE_INEXISTENTE  Frequencia  Percentual\n",
              "Não                                148315        64.9\n",
              "Sim                                 80206        35.1"
            ]
          },
          "metadata": {
            "tags": []
          }
        }
      ]
    },
    {
      "cell_type": "markdown",
      "metadata": {
        "id": "XSxcff0CWBzf"
      },
      "source": [
        "<strong><font color = 'blue'>Análise:</font></strong> Confirmando as minhas hipóteses levantadas nos meus estudos com os dados da pesquisa PeNSE 2015, os dados do Censo, aponta que em nenhum dos indicadores que selecionei, as escolas com equipamentos de acessibilidade instalados apresentam maioria, alguns indicadores como instalação de pisos táteis e corrimão e guarda corpos nem sequer se aproximam da metade das escolas do país.<p>\r\n",
        "O último item da lista, inexistência de nenhum dos item, 43% das escolas não possui nenhum dos recursos de acessibilidade listado, chega a ser desolador pensar que mais de 80.206 escolas não tem nenhum comprometimento com acessibilidade, é triste não haver inclusão em tantos prédios.<p>"
      ]
    },
    {
      "cell_type": "code",
      "metadata": {
        "id": "65vrvryRw-KF",
        "colab": {
          "base_uri": "https://localhost:8080/"
        },
        "outputId": "81984eab-9a08-46d9-9824-20fc9286854e"
      },
      "source": [
        "acessivel_educacao_basica['QT_SALAS_UTILIZADAS_ACESSIVEIS'].isna().sum()"
      ],
      "execution_count": 66,
      "outputs": [
        {
          "output_type": "execute_result",
          "data": {
            "text/plain": [
              "46053"
            ]
          },
          "metadata": {
            "tags": []
          },
          "execution_count": 66
        }
      ]
    },
    {
      "cell_type": "code",
      "metadata": {
        "id": "BLMQI1AKxbAl",
        "colab": {
          "base_uri": "https://localhost:8080/"
        },
        "outputId": "bbb42aa0-bb70-400b-efe3-806437ae8926"
      },
      "source": [
        "acessivel_educacao_basica['QT_SALAS_UTILIZADAS_ACESSIVEIS'].sum()"
      ],
      "execution_count": 67,
      "outputs": [
        {
          "output_type": "execute_result",
          "data": {
            "text/plain": [
              "304252.0"
            ]
          },
          "metadata": {
            "tags": []
          },
          "execution_count": 67
        }
      ]
    },
    {
      "cell_type": "code",
      "metadata": {
        "id": "jGuCbAJNyD24",
        "colab": {
          "base_uri": "https://localhost:8080/"
        },
        "outputId": "0bf5cb02-b2ff-4698-fd69-73839d0829cd"
      },
      "source": [
        "'''\r\n",
        " Nesse cálculo vamos considerar as respostas não preenchidas (NaN) como zero, \r\n",
        " pois acredito que o representante não preencher esse quesito está mais \r\n",
        " caracterizado como não ter, do que ter Salas Utilizadas Acessíveis. \r\n",
        "'''\r\n",
        "x = acessivel_educacao_basica['QT_SALAS_UTILIZADAS_ACESSIVEIS'].replace(np.NaN, 0)\r\n",
        "\r\n",
        "(x == 0).sum()"
      ],
      "execution_count": 68,
      "outputs": [
        {
          "output_type": "execute_result",
          "data": {
            "text/plain": [
              "188220"
            ]
          },
          "metadata": {
            "tags": []
          },
          "execution_count": 68
        }
      ]
    },
    {
      "cell_type": "code",
      "metadata": {
        "id": "mychijKzyPaR",
        "colab": {
          "base_uri": "https://localhost:8080/"
        },
        "outputId": "a528b047-52c3-4e37-aa66-18cd1465d055"
      },
      "source": [
        "'''\r\n",
        "Quantidade de escolas com salas acessíveis.\r\n",
        "'''\r\n",
        "y = (x != 0).sum()\r\n",
        "y"
      ],
      "execution_count": 69,
      "outputs": [
        {
          "output_type": "execute_result",
          "data": {
            "text/plain": [
              "40301"
            ]
          },
          "metadata": {
            "tags": []
          },
          "execution_count": 69
        }
      ]
    },
    {
      "cell_type": "code",
      "metadata": {
        "id": "B1KsGPaN04zk",
        "colab": {
          "base_uri": "https://localhost:8080/"
        },
        "outputId": "6dad140f-3707-4bd0-cd15-9470cbe2aa65"
      },
      "source": [
        "#Cálculo para entender o anterior\r\n",
        "cont = 0\r\n",
        "for valor in x:\r\n",
        "    if valor != 0:\r\n",
        "        cont +=1\r\n",
        "cont"
      ],
      "execution_count": 70,
      "outputs": [
        {
          "output_type": "execute_result",
          "data": {
            "text/plain": [
              "40301"
            ]
          },
          "metadata": {
            "tags": []
          },
          "execution_count": 70
        }
      ]
    },
    {
      "cell_type": "code",
      "metadata": {
        "id": "OK6e5PaqzGVx",
        "colab": {
          "base_uri": "https://localhost:8080/"
        },
        "outputId": "8648fd48-6830-4acd-e0bd-ce7cfe23deae"
      },
      "source": [
        "#Total de escolas\r\n",
        "x = len(x)\r\n",
        "x"
      ],
      "execution_count": 71,
      "outputs": [
        {
          "output_type": "execute_result",
          "data": {
            "text/plain": [
              "228521"
            ]
          },
          "metadata": {
            "tags": []
          },
          "execution_count": 71
        }
      ]
    },
    {
      "cell_type": "code",
      "metadata": {
        "id": "7fRKYDKlyqn9",
        "colab": {
          "base_uri": "https://localhost:8080/"
        },
        "outputId": "3d79deb0-ee26-4666-9dcc-ec1b7fbd0204"
      },
      "source": [
        "\"\"\"\r\n",
        "Porcentagem de escolas que possuem salas acessíveis\r\n",
        "\"\"\"\r\n",
        "(y/x*100).round(2)"
      ],
      "execution_count": 72,
      "outputs": [
        {
          "output_type": "execute_result",
          "data": {
            "text/plain": [
              "17.64"
            ]
          },
          "metadata": {
            "tags": []
          },
          "execution_count": 72
        }
      ]
    },
    {
      "cell_type": "markdown",
      "metadata": {
        "id": "fliJqBQ9oIGa"
      },
      "source": [
        "<strong><font color='blue'>Análise: </font></strong>Eu queria descobrir a quantidade de escolas com Salas Utilizadas Acessíveis, o dado em questão, trazia a quantidade delas, 304252 salas, se considerarmos 228521 escolas, faz parecer que cada escola tem pelo menos uma, e algumas escolas tem mais de uma.<p>\r\n",
        "Então eu separei as escolas com nenhuma, das com alguma sala acessível, e cheguei a 17,64 %. Ou seja mais de 80% das escolas não tem nenhuma sala acessível.<p>\r\n",
        "Essa quantidade enorme de Salas Utilizadas Acessíveis indicam que embora existam condições de atender os alunos com necessidades especiais, aparentemente, a maior parte dessas salas estão alocadas apenas na quinta parte da escolas, ou seja, provavelmente, falamos de escolas especiais, que ao invés de prezar pela integração de todos os estudantes aos equipamentos, prima em segregar, o que aumenta ainda mais a distância entre as pessoas, meu estudo não foca apenas a acessibilidade, mas também a inclusão.<p>\r\n",
        "Uma criança que estuda com outras crianças com necessidades especiais ou deficiência, aprende a ter empatia, cresce com a consciência de que todas as pessoas são iguais. A criança com necessidades especiais que estuda com outras crianças, se percebe igual a qualquer criança.<p>\r\n"
      ]
    },
    {
      "cell_type": "markdown",
      "metadata": {
        "id": "rMTSwnePxpSW"
      },
      "source": [
        "### Analise considerando os tipos de salas por região:\r\n",
        "\r\n",
        "- Nosso interesse aqui é saber se a escola possui classe especial exclusiva (ao menos uma turma exclusiva de alunos com deficiência, transtorno global do desenvolvimento ou altas habilidades/superdotação - Classes Especiais) em comparação com com as salas utilizadas acessíveis, considerando as regiões do país."
      ]
    },
    {
      "cell_type": "code",
      "metadata": {
        "id": "mP8Noe3uz5jl",
        "colab": {
          "base_uri": "https://localhost:8080/",
          "height": 226
        },
        "outputId": "b984b8e4-375c-4e26-8a70-9b80f2d52cce"
      },
      "source": [
        "'''\r\n",
        "F1) Classe Exclusiva: Alunos com deficiência, transtornos globais do \r\n",
        "desenvolvimento e/ou altas habilidades/superdotação em escolas exclusivamente\r\n",
        " especializadas e/ou classes exclusivas de ensino regular e/ou educação de \r\n",
        " jovens e adultos (EJA).\r\n",
        " Nesse estudo também estou entendendo que os dados não preenchidos caracterizam\r\n",
        " a não existência do equipamento estudado.\r\n",
        "'''\r\n",
        "salas_adaptadas_por_regiao = pd.crosstab(index = acessivel_educacao_basica['CO_REGIAO'], \r\n",
        "                                         columns = acessivel_educacao_basica['IN_ESPECIAL_EXCLUSIVA'].replace(np.NaN, 0))\r\n",
        "salas_adaptadas_por_regiao.rename(index=regiao, columns=respostas_eb , inplace=True)\r\n",
        "salas_adaptadas_por_regiao.rename_axis('Quantidade ESCOLAS com classes exclusivas', axis=1, inplace=True)\r\n",
        "salas_adaptadas_por_regiao.rename_axis('Região', axis=0, inplace=True)\r\n",
        "salas_adaptadas_por_regiao"
      ],
      "execution_count": 43,
      "outputs": [
        {
          "output_type": "execute_result",
          "data": {
            "text/html": [
              "<div>\n",
              "<style scoped>\n",
              "    .dataframe tbody tr th:only-of-type {\n",
              "        vertical-align: middle;\n",
              "    }\n",
              "\n",
              "    .dataframe tbody tr th {\n",
              "        vertical-align: top;\n",
              "    }\n",
              "\n",
              "    .dataframe thead th {\n",
              "        text-align: right;\n",
              "    }\n",
              "</style>\n",
              "<table border=\"1\" class=\"dataframe\">\n",
              "  <thead>\n",
              "    <tr style=\"text-align: right;\">\n",
              "      <th>Quantidade ESCOLAS com classes exclusivas</th>\n",
              "      <th>Não</th>\n",
              "      <th>Sim</th>\n",
              "    </tr>\n",
              "    <tr>\n",
              "      <th>Região</th>\n",
              "      <th></th>\n",
              "      <th></th>\n",
              "    </tr>\n",
              "  </thead>\n",
              "  <tbody>\n",
              "    <tr>\n",
              "      <th>Norte</th>\n",
              "      <td>26811</td>\n",
              "      <td>118</td>\n",
              "    </tr>\n",
              "    <tr>\n",
              "      <th>Nordeste</th>\n",
              "      <td>84714</td>\n",
              "      <td>285</td>\n",
              "    </tr>\n",
              "    <tr>\n",
              "      <th>Sudeste</th>\n",
              "      <td>74305</td>\n",
              "      <td>1316</td>\n",
              "    </tr>\n",
              "    <tr>\n",
              "      <th>Sul</th>\n",
              "      <td>28240</td>\n",
              "      <td>1236</td>\n",
              "    </tr>\n",
              "    <tr>\n",
              "      <th>Centro_Oeste</th>\n",
              "      <td>11214</td>\n",
              "      <td>282</td>\n",
              "    </tr>\n",
              "  </tbody>\n",
              "</table>\n",
              "</div>"
            ],
            "text/plain": [
              "Quantidade ESCOLAS com classes exclusivas    Não   Sim\n",
              "Região                                                \n",
              "Norte                                      26811   118\n",
              "Nordeste                                   84714   285\n",
              "Sudeste                                    74305  1316\n",
              "Sul                                        28240  1236\n",
              "Centro_Oeste                               11214   282"
            ]
          },
          "metadata": {
            "tags": []
          },
          "execution_count": 43
        }
      ]
    },
    {
      "cell_type": "code",
      "metadata": {
        "id": "5NJzWhe2OU_T",
        "colab": {
          "base_uri": "https://localhost:8080/",
          "height": 226
        },
        "outputId": "42297f18-08be-4652-fc1f-64cf4d9a1eee"
      },
      "source": [
        "'''\r\n",
        "F1) Classe Exclusiva: Alunos com deficiência, transtornos globais do \r\n",
        "desenvolvimento e/ou altas habilidades/superdotação em escolas exclusivamente\r\n",
        " especializadas e/ou classes exclusivas de ensino regular e/ou educação de \r\n",
        " jovens e adultos (EJA).\r\n",
        "'''\r\n",
        "salas_adaptadas_por_regiao = (pd.crosstab(index = acessivel_educacao_basica['CO_REGIAO'], \r\n",
        "                                          columns = acessivel_educacao_basica['IN_ESPECIAL_EXCLUSIVA'].replace(np.NaN, 0), \r\n",
        "                                          normalize='index')*100).round(2)\r\n",
        "salas_adaptadas_por_regiao.rename(index=regiao, columns=respostas_eb , inplace=True)\r\n",
        "salas_adaptadas_por_regiao.rename_axis('Percentual de ESCOLAS com classes exclusivas', axis=1, inplace=True)\r\n",
        "salas_adaptadas_por_regiao.rename_axis('Região', axis=0, inplace=True)\r\n",
        "salas_adaptadas_por_regiao"
      ],
      "execution_count": 44,
      "outputs": [
        {
          "output_type": "execute_result",
          "data": {
            "text/html": [
              "<div>\n",
              "<style scoped>\n",
              "    .dataframe tbody tr th:only-of-type {\n",
              "        vertical-align: middle;\n",
              "    }\n",
              "\n",
              "    .dataframe tbody tr th {\n",
              "        vertical-align: top;\n",
              "    }\n",
              "\n",
              "    .dataframe thead th {\n",
              "        text-align: right;\n",
              "    }\n",
              "</style>\n",
              "<table border=\"1\" class=\"dataframe\">\n",
              "  <thead>\n",
              "    <tr style=\"text-align: right;\">\n",
              "      <th>Percentual de ESCOLAS com classes exclusivas</th>\n",
              "      <th>Não</th>\n",
              "      <th>Sim</th>\n",
              "    </tr>\n",
              "    <tr>\n",
              "      <th>Região</th>\n",
              "      <th></th>\n",
              "      <th></th>\n",
              "    </tr>\n",
              "  </thead>\n",
              "  <tbody>\n",
              "    <tr>\n",
              "      <th>Norte</th>\n",
              "      <td>99.56</td>\n",
              "      <td>0.44</td>\n",
              "    </tr>\n",
              "    <tr>\n",
              "      <th>Nordeste</th>\n",
              "      <td>99.66</td>\n",
              "      <td>0.34</td>\n",
              "    </tr>\n",
              "    <tr>\n",
              "      <th>Sudeste</th>\n",
              "      <td>98.26</td>\n",
              "      <td>1.74</td>\n",
              "    </tr>\n",
              "    <tr>\n",
              "      <th>Sul</th>\n",
              "      <td>95.81</td>\n",
              "      <td>4.19</td>\n",
              "    </tr>\n",
              "    <tr>\n",
              "      <th>Centro_Oeste</th>\n",
              "      <td>97.55</td>\n",
              "      <td>2.45</td>\n",
              "    </tr>\n",
              "  </tbody>\n",
              "</table>\n",
              "</div>"
            ],
            "text/plain": [
              "Percentual de ESCOLAS com classes exclusivas    Não   Sim\n",
              "Região                                                   \n",
              "Norte                                         99.56  0.44\n",
              "Nordeste                                      99.66  0.34\n",
              "Sudeste                                       98.26  1.74\n",
              "Sul                                           95.81  4.19\n",
              "Centro_Oeste                                  97.55  2.45"
            ]
          },
          "metadata": {
            "tags": []
          },
          "execution_count": 44
        }
      ]
    },
    {
      "cell_type": "code",
      "metadata": {
        "id": "kkQfm-M4EbHA",
        "colab": {
          "base_uri": "https://localhost:8080/"
        },
        "outputId": "550aaa0d-9a3b-44e4-ed72-4ac740f251c4"
      },
      "source": [
        "acessivel_educacao_basica['SALAS_UTILIZADAS_ACESSIVEIS'] = \\\r\n",
        "pd.cut(acessivel_educacao_basica['QT_SALAS_UTILIZADAS_ACESSIVEIS'].replace(np.NaN, 0), \r\n",
        "       bins = [0,1,518], labels = [0, 1], include_lowest=True)\r\n",
        "acessivel_educacao_basica['SALAS_UTILIZADAS_ACESSIVEIS']"
      ],
      "execution_count": 45,
      "outputs": [
        {
          "output_type": "execute_result",
          "data": {
            "text/plain": [
              "0         0\n",
              "1         1\n",
              "2         0\n",
              "3         0\n",
              "4         0\n",
              "         ..\n",
              "228516    1\n",
              "228517    0\n",
              "228518    1\n",
              "228519    1\n",
              "228520    1\n",
              "Name: SALAS_UTILIZADAS_ACESSIVEIS, Length: 228521, dtype: category\n",
              "Categories (2, int64): [0 < 1]"
            ]
          },
          "metadata": {
            "tags": []
          },
          "execution_count": 45
        }
      ]
    },
    {
      "cell_type": "code",
      "metadata": {
        "id": "uAh01KkELYAw",
        "colab": {
          "base_uri": "https://localhost:8080/",
          "height": 226
        },
        "outputId": "0ddd9690-7661-49a1-abab-40fe22d276e4"
      },
      "source": [
        "salas_adaptadas_por_regiao = (pd.crosstab(index = acessivel_educacao_basica['CO_REGIAO'], \r\n",
        "                                          columns = acessivel_educacao_basica['SALAS_UTILIZADAS_ACESSIVEIS']))\r\n",
        "salas_adaptadas_por_regiao.rename(index=regiao, columns=respostas_eb , inplace=True)\r\n",
        "salas_adaptadas_por_regiao.rename_axis('Quantidade de ESCOLAS com Salas Acessíveis', axis=1, inplace=True)\r\n",
        "salas_adaptadas_por_regiao.rename_axis('Região', axis=0, inplace=True)\r\n",
        "salas_adaptadas_por_regiao"
      ],
      "execution_count": 46,
      "outputs": [
        {
          "output_type": "execute_result",
          "data": {
            "text/html": [
              "<div>\n",
              "<style scoped>\n",
              "    .dataframe tbody tr th:only-of-type {\n",
              "        vertical-align: middle;\n",
              "    }\n",
              "\n",
              "    .dataframe tbody tr th {\n",
              "        vertical-align: top;\n",
              "    }\n",
              "\n",
              "    .dataframe thead th {\n",
              "        text-align: right;\n",
              "    }\n",
              "</style>\n",
              "<table border=\"1\" class=\"dataframe\">\n",
              "  <thead>\n",
              "    <tr style=\"text-align: right;\">\n",
              "      <th>Quantidade de ESCOLAS com Salas Acessíveis</th>\n",
              "      <th>Não</th>\n",
              "      <th>Sim</th>\n",
              "    </tr>\n",
              "    <tr>\n",
              "      <th>Região</th>\n",
              "      <th></th>\n",
              "      <th></th>\n",
              "    </tr>\n",
              "  </thead>\n",
              "  <tbody>\n",
              "    <tr>\n",
              "      <th>Norte</th>\n",
              "      <td>24254</td>\n",
              "      <td>2675</td>\n",
              "    </tr>\n",
              "    <tr>\n",
              "      <th>Nordeste</th>\n",
              "      <td>75566</td>\n",
              "      <td>9433</td>\n",
              "    </tr>\n",
              "    <tr>\n",
              "      <th>Sudeste</th>\n",
              "      <td>65492</td>\n",
              "      <td>10129</td>\n",
              "    </tr>\n",
              "    <tr>\n",
              "      <th>Sul</th>\n",
              "      <td>20784</td>\n",
              "      <td>8692</td>\n",
              "    </tr>\n",
              "    <tr>\n",
              "      <th>Centro_Oeste</th>\n",
              "      <td>7698</td>\n",
              "      <td>3798</td>\n",
              "    </tr>\n",
              "  </tbody>\n",
              "</table>\n",
              "</div>"
            ],
            "text/plain": [
              "Quantidade de ESCOLAS com Salas Acessíveis    Não    Sim\n",
              "Região                                                  \n",
              "Norte                                       24254   2675\n",
              "Nordeste                                    75566   9433\n",
              "Sudeste                                     65492  10129\n",
              "Sul                                         20784   8692\n",
              "Centro_Oeste                                 7698   3798"
            ]
          },
          "metadata": {
            "tags": []
          },
          "execution_count": 46
        }
      ]
    },
    {
      "cell_type": "code",
      "metadata": {
        "id": "cuks2RbXNaPZ",
        "colab": {
          "base_uri": "https://localhost:8080/",
          "height": 226
        },
        "outputId": "898a4371-bfa6-4293-a101-e943fef73c6c"
      },
      "source": [
        "salas_adaptadas_por_regiao = (pd.crosstab(index = acessivel_educacao_basica['CO_REGIAO'], \r\n",
        "                                          columns = acessivel_educacao_basica['SALAS_UTILIZADAS_ACESSIVEIS'], \r\n",
        "                                          normalize='index')*100).round(2)\r\n",
        "salas_adaptadas_por_regiao.rename(index=regiao, columns=respostas_eb , inplace=True)\r\n",
        "salas_adaptadas_por_regiao.rename_axis('Percentual de ESCOLAS com Salas Acessíveis', axis=1, inplace=True)\r\n",
        "salas_adaptadas_por_regiao.rename_axis('Região', axis=0, inplace=True)\r\n",
        "salas_adaptadas_por_regiao"
      ],
      "execution_count": 47,
      "outputs": [
        {
          "output_type": "execute_result",
          "data": {
            "text/html": [
              "<div>\n",
              "<style scoped>\n",
              "    .dataframe tbody tr th:only-of-type {\n",
              "        vertical-align: middle;\n",
              "    }\n",
              "\n",
              "    .dataframe tbody tr th {\n",
              "        vertical-align: top;\n",
              "    }\n",
              "\n",
              "    .dataframe thead th {\n",
              "        text-align: right;\n",
              "    }\n",
              "</style>\n",
              "<table border=\"1\" class=\"dataframe\">\n",
              "  <thead>\n",
              "    <tr style=\"text-align: right;\">\n",
              "      <th>Percentual de ESCOLAS com Salas Acessíveis</th>\n",
              "      <th>Não</th>\n",
              "      <th>Sim</th>\n",
              "    </tr>\n",
              "    <tr>\n",
              "      <th>Região</th>\n",
              "      <th></th>\n",
              "      <th></th>\n",
              "    </tr>\n",
              "  </thead>\n",
              "  <tbody>\n",
              "    <tr>\n",
              "      <th>Norte</th>\n",
              "      <td>90.07</td>\n",
              "      <td>9.93</td>\n",
              "    </tr>\n",
              "    <tr>\n",
              "      <th>Nordeste</th>\n",
              "      <td>88.90</td>\n",
              "      <td>11.10</td>\n",
              "    </tr>\n",
              "    <tr>\n",
              "      <th>Sudeste</th>\n",
              "      <td>86.61</td>\n",
              "      <td>13.39</td>\n",
              "    </tr>\n",
              "    <tr>\n",
              "      <th>Sul</th>\n",
              "      <td>70.51</td>\n",
              "      <td>29.49</td>\n",
              "    </tr>\n",
              "    <tr>\n",
              "      <th>Centro_Oeste</th>\n",
              "      <td>66.96</td>\n",
              "      <td>33.04</td>\n",
              "    </tr>\n",
              "  </tbody>\n",
              "</table>\n",
              "</div>"
            ],
            "text/plain": [
              "Percentual de ESCOLAS com Salas Acessíveis    Não    Sim\n",
              "Região                                                  \n",
              "Norte                                       90.07   9.93\n",
              "Nordeste                                    88.90  11.10\n",
              "Sudeste                                     86.61  13.39\n",
              "Sul                                         70.51  29.49\n",
              "Centro_Oeste                                66.96  33.04"
            ]
          },
          "metadata": {
            "tags": []
          },
          "execution_count": 47
        }
      ]
    },
    {
      "cell_type": "markdown",
      "metadata": {
        "id": "emwadhAX7RNv"
      },
      "source": [
        "<strong><font color='blue'>Análise:</font></strong> Os dados desse bloco nos trazem informações importantes, e um pouco confusas, mas ainda corroboram com as minhas hipoteses, de que a maior parte das salas acessíveis, na verdade pertencem a escolas especiais.<p>\r\n",
        "Percebemos que a maior parte das escolas com classes exclusivas estão nas regiões sul e sudeste, já as escolas com salas utilizadas acessíveis estão melhor distrubuídas, pensando que a quantidade de pessoas com necessidades especiais, deve seguir semelhança com a quantidade populacional, sendo que as regiões mais habitadas também devem ter mais pessoas com necessidades especiais.<p>\r\n",
        "As classificações de percentual não ajudam muito nessa análise.<p>"
      ]
    },
    {
      "cell_type": "markdown",
      "metadata": {
        "id": "XSomLR7RDauG"
      },
      "source": [
        "### Análises de alunos matriculados com necessidades especiais ou deficiências:\r\n",
        "\r\n",
        "Esse conjunto de dados era realmente enorme, dividido em cinco arquivos, com todos os alunos marticulados no ano da realização do Censo Escolar, em 2019, e por isso resolvi fazer uma abordagem um pouco diferente.<p>\r\n",
        "Aqui nessa análise, queria verificar a quantidade de alunos com necessidades especiais ou deficiências declaradas na matrícula, afinal, não faz sentindo termos escolas acessíveis e integradas prontas para absorver todos os alunos de maneira inclusiva, se não houverem alunos para utilizar esses equipamentos, então quantificar esses alunos irá corroborar com minha hipótese.<p>"
      ]
    },
    {
      "cell_type": "code",
      "metadata": {
        "id": "OgZVB4bfMCY3"
      },
      "source": [
        "def contador_matriculas(variavel):\r\n",
        "    cont = 0\r\n",
        "    for n in range(0, 5, 1):\r\n",
        "        cont += matriculas[n][variavel].sum()\r\n",
        "    return cont"
      ],
      "execution_count": 86,
      "outputs": []
    },
    {
      "cell_type": "code",
      "metadata": {
        "colab": {
          "base_uri": "https://localhost:8080/"
        },
        "id": "uqHGdzHSLuUw",
        "outputId": "c8ffdbc4-b37b-425e-cbe7-aa8f93bf6cf3"
      },
      "source": [
        "'''\r\n",
        "Contando alunos matriculados com necessidades especiais\r\n",
        "Variável: 'IN_NECESSIDADE_ESPECIAL'\r\n",
        "'''\r\n",
        "x = contador_matriculas('IN_NECESSIDADE_ESPECIAL')\r\n",
        "x"
      ],
      "execution_count": 87,
      "outputs": [
        {
          "output_type": "execute_result",
          "data": {
            "text/plain": [
              "1808115"
            ]
          },
          "metadata": {
            "tags": []
          },
          "execution_count": 87
        }
      ]
    },
    {
      "cell_type": "code",
      "metadata": {
        "colab": {
          "base_uri": "https://localhost:8080/"
        },
        "id": "iJNdnURNOMaG",
        "outputId": "79e15570-4e8c-42ce-ca04-e01ddcb19c12"
      },
      "source": [
        "'''\r\n",
        "Total de alunos matriculados\r\n",
        "'''\r\n",
        "cont = 0\r\n",
        "for n in range(0, 5, 1):\r\n",
        "    cont += len(matriculas[n])\r\n",
        "\r\n",
        "total_matriculados = cont\r\n",
        "total_matriculados"
      ],
      "execution_count": 50,
      "outputs": [
        {
          "output_type": "execute_result",
          "data": {
            "text/plain": [
              "51166723"
            ]
          },
          "metadata": {
            "tags": []
          },
          "execution_count": 50
        }
      ]
    },
    {
      "cell_type": "code",
      "metadata": {
        "colab": {
          "base_uri": "https://localhost:8080/"
        },
        "id": "GG6YQbotPA0A",
        "outputId": "817141e1-ddce-4c08-d28c-2a8da155115d"
      },
      "source": [
        "'''\r\n",
        "Percentual de alunos matriculados com deficiência, transtorno do espectro \r\n",
        "autista ou altas habilidades/superdotação.\r\n",
        "'''\r\n",
        "(x/total_matriculados*100).round(2)"
      ],
      "execution_count": 51,
      "outputs": [
        {
          "output_type": "execute_result",
          "data": {
            "text/plain": [
              "3.53"
            ]
          },
          "metadata": {
            "tags": []
          },
          "execution_count": 51
        }
      ]
    },
    {
      "cell_type": "markdown",
      "metadata": {
        "id": "iJ1SgiHwIouc"
      },
      "source": [
        "<strong><font color='blue'>Análise:</font></strong> Aqui temos que dos mais de 51 milhões de alunos matriculados, temos menos 1,8 milhões de alunos com algum tipo de necessidade especial ou deficiência, ou seja, 3,53% dos alunos.<p>\r\n",
        "Ou seja existe uma parcela significativa da população que possui necessidades especiais, declaradamente, com tudo essa população é pequena, então talvez o fato de ser tão perceptível na pesquisa PeNSE está relacionada com o fato dos mais jovem se impressionarem com mais facilidade, e talvez por ingenuidade e falta experiência, não terem o prévio conhecimento de como lidar com pessoas com deficiência. "
      ]
    },
    {
      "cell_type": "markdown",
      "metadata": {
        "id": "Xu4-EYeKKYlT"
      },
      "source": [
        "### Quantidades de alunos matriculados conforme o tipo de necessidade especial ou deficiência indicada:"
      ]
    },
    {
      "cell_type": "code",
      "metadata": {
        "id": "24tYm0B7Pze3"
      },
      "source": [
        "def relatorio_necessidades_matriculas(variavel):\r\n",
        "    for n in range(0, 5, 1):\r\n",
        "        print(regiao[matriculas[n]['CO_REGIAO'][0]])\r\n",
        "        display(tabela_frequencia(matriculas[n], variavel, respostas_eb))"
      ],
      "execution_count": 52,
      "outputs": []
    },
    {
      "cell_type": "code",
      "metadata": {
        "colab": {
          "base_uri": "https://localhost:8080/",
          "height": 551
        },
        "id": "Vh5ualhiSVdt",
        "outputId": "61cf2524-f937-478b-f071-427bf264e3a9"
      },
      "source": [
        "relatorio_necessidades_matriculas('IN_NECESSIDADE_ESPECIAL')"
      ],
      "execution_count": 53,
      "outputs": [
        {
          "output_type": "stream",
          "text": [
            "Centro_Oeste\n"
          ],
          "name": "stdout"
        },
        {
          "output_type": "display_data",
          "data": {
            "text/html": [
              "<div>\n",
              "<style scoped>\n",
              "    .dataframe tbody tr th:only-of-type {\n",
              "        vertical-align: middle;\n",
              "    }\n",
              "\n",
              "    .dataframe tbody tr th {\n",
              "        vertical-align: top;\n",
              "    }\n",
              "\n",
              "    .dataframe thead th {\n",
              "        text-align: right;\n",
              "    }\n",
              "</style>\n",
              "<table border=\"1\" class=\"dataframe\">\n",
              "  <thead>\n",
              "    <tr style=\"text-align: right;\">\n",
              "      <th>IN_NECESSIDADE_ESPECIAL</th>\n",
              "      <th>Frequencia</th>\n",
              "      <th>Percentual</th>\n",
              "    </tr>\n",
              "  </thead>\n",
              "  <tbody>\n",
              "    <tr>\n",
              "      <th>Não</th>\n",
              "      <td>3794196</td>\n",
              "      <td>96.16</td>\n",
              "    </tr>\n",
              "    <tr>\n",
              "      <th>Sim</th>\n",
              "      <td>151601</td>\n",
              "      <td>3.84</td>\n",
              "    </tr>\n",
              "  </tbody>\n",
              "</table>\n",
              "</div>"
            ],
            "text/plain": [
              "IN_NECESSIDADE_ESPECIAL  Frequencia  Percentual\n",
              "Não                         3794196       96.16\n",
              "Sim                          151601        3.84"
            ]
          },
          "metadata": {
            "tags": []
          }
        },
        {
          "output_type": "stream",
          "text": [
            "Nordeste\n"
          ],
          "name": "stdout"
        },
        {
          "output_type": "display_data",
          "data": {
            "text/html": [
              "<div>\n",
              "<style scoped>\n",
              "    .dataframe tbody tr th:only-of-type {\n",
              "        vertical-align: middle;\n",
              "    }\n",
              "\n",
              "    .dataframe tbody tr th {\n",
              "        vertical-align: top;\n",
              "    }\n",
              "\n",
              "    .dataframe thead th {\n",
              "        text-align: right;\n",
              "    }\n",
              "</style>\n",
              "<table border=\"1\" class=\"dataframe\">\n",
              "  <thead>\n",
              "    <tr style=\"text-align: right;\">\n",
              "      <th>IN_NECESSIDADE_ESPECIAL</th>\n",
              "      <th>Frequencia</th>\n",
              "      <th>Percentual</th>\n",
              "    </tr>\n",
              "  </thead>\n",
              "  <tbody>\n",
              "    <tr>\n",
              "      <th>Não</th>\n",
              "      <td>14785120</td>\n",
              "      <td>96.61</td>\n",
              "    </tr>\n",
              "    <tr>\n",
              "      <th>Sim</th>\n",
              "      <td>519469</td>\n",
              "      <td>3.39</td>\n",
              "    </tr>\n",
              "  </tbody>\n",
              "</table>\n",
              "</div>"
            ],
            "text/plain": [
              "IN_NECESSIDADE_ESPECIAL  Frequencia  Percentual\n",
              "Não                        14785120       96.61\n",
              "Sim                          519469        3.39"
            ]
          },
          "metadata": {
            "tags": []
          }
        },
        {
          "output_type": "stream",
          "text": [
            "Norte\n"
          ],
          "name": "stdout"
        },
        {
          "output_type": "display_data",
          "data": {
            "text/html": [
              "<div>\n",
              "<style scoped>\n",
              "    .dataframe tbody tr th:only-of-type {\n",
              "        vertical-align: middle;\n",
              "    }\n",
              "\n",
              "    .dataframe tbody tr th {\n",
              "        vertical-align: top;\n",
              "    }\n",
              "\n",
              "    .dataframe thead th {\n",
              "        text-align: right;\n",
              "    }\n",
              "</style>\n",
              "<table border=\"1\" class=\"dataframe\">\n",
              "  <thead>\n",
              "    <tr style=\"text-align: right;\">\n",
              "      <th>IN_NECESSIDADE_ESPECIAL</th>\n",
              "      <th>Frequencia</th>\n",
              "      <th>Percentual</th>\n",
              "    </tr>\n",
              "  </thead>\n",
              "  <tbody>\n",
              "    <tr>\n",
              "      <th>Não</th>\n",
              "      <td>5017706</td>\n",
              "      <td>96.52</td>\n",
              "    </tr>\n",
              "    <tr>\n",
              "      <th>Sim</th>\n",
              "      <td>180660</td>\n",
              "      <td>3.48</td>\n",
              "    </tr>\n",
              "  </tbody>\n",
              "</table>\n",
              "</div>"
            ],
            "text/plain": [
              "IN_NECESSIDADE_ESPECIAL  Frequencia  Percentual\n",
              "Não                         5017706       96.52\n",
              "Sim                          180660        3.48"
            ]
          },
          "metadata": {
            "tags": []
          }
        },
        {
          "output_type": "stream",
          "text": [
            "Sudeste\n"
          ],
          "name": "stdout"
        },
        {
          "output_type": "display_data",
          "data": {
            "text/html": [
              "<div>\n",
              "<style scoped>\n",
              "    .dataframe tbody tr th:only-of-type {\n",
              "        vertical-align: middle;\n",
              "    }\n",
              "\n",
              "    .dataframe tbody tr th {\n",
              "        vertical-align: top;\n",
              "    }\n",
              "\n",
              "    .dataframe thead th {\n",
              "        text-align: right;\n",
              "    }\n",
              "</style>\n",
              "<table border=\"1\" class=\"dataframe\">\n",
              "  <thead>\n",
              "    <tr style=\"text-align: right;\">\n",
              "      <th>IN_NECESSIDADE_ESPECIAL</th>\n",
              "      <th>Frequencia</th>\n",
              "      <th>Percentual</th>\n",
              "    </tr>\n",
              "  </thead>\n",
              "  <tbody>\n",
              "    <tr>\n",
              "      <th>Não</th>\n",
              "      <td>19164428</td>\n",
              "      <td>96.86</td>\n",
              "    </tr>\n",
              "    <tr>\n",
              "      <th>Sim</th>\n",
              "      <td>621417</td>\n",
              "      <td>3.14</td>\n",
              "    </tr>\n",
              "  </tbody>\n",
              "</table>\n",
              "</div>"
            ],
            "text/plain": [
              "IN_NECESSIDADE_ESPECIAL  Frequencia  Percentual\n",
              "Não                        19164428       96.86\n",
              "Sim                          621417        3.14"
            ]
          },
          "metadata": {
            "tags": []
          }
        },
        {
          "output_type": "stream",
          "text": [
            "Sul\n"
          ],
          "name": "stdout"
        },
        {
          "output_type": "display_data",
          "data": {
            "text/html": [
              "<div>\n",
              "<style scoped>\n",
              "    .dataframe tbody tr th:only-of-type {\n",
              "        vertical-align: middle;\n",
              "    }\n",
              "\n",
              "    .dataframe tbody tr th {\n",
              "        vertical-align: top;\n",
              "    }\n",
              "\n",
              "    .dataframe thead th {\n",
              "        text-align: right;\n",
              "    }\n",
              "</style>\n",
              "<table border=\"1\" class=\"dataframe\">\n",
              "  <thead>\n",
              "    <tr style=\"text-align: right;\">\n",
              "      <th>IN_NECESSIDADE_ESPECIAL</th>\n",
              "      <th>Frequencia</th>\n",
              "      <th>Percentual</th>\n",
              "    </tr>\n",
              "  </thead>\n",
              "  <tbody>\n",
              "    <tr>\n",
              "      <th>Não</th>\n",
              "      <td>6597158</td>\n",
              "      <td>95.17</td>\n",
              "    </tr>\n",
              "    <tr>\n",
              "      <th>Sim</th>\n",
              "      <td>334968</td>\n",
              "      <td>4.83</td>\n",
              "    </tr>\n",
              "  </tbody>\n",
              "</table>\n",
              "</div>"
            ],
            "text/plain": [
              "IN_NECESSIDADE_ESPECIAL  Frequencia  Percentual\n",
              "Não                         6597158       95.17\n",
              "Sim                          334968        4.83"
            ]
          },
          "metadata": {
            "tags": []
          }
        }
      ]
    },
    {
      "cell_type": "code",
      "metadata": {
        "colab": {
          "base_uri": "https://localhost:8080/",
          "height": 551
        },
        "id": "0l0JuACHTjNd",
        "outputId": "fb91a3e7-8a88-4e24-c4aa-b8e51707ab6e"
      },
      "source": [
        "relatorio_necessidades_matriculas('IN_BAIXA_VISAO')"
      ],
      "execution_count": 54,
      "outputs": [
        {
          "output_type": "stream",
          "text": [
            "Centro_Oeste\n"
          ],
          "name": "stdout"
        },
        {
          "output_type": "display_data",
          "data": {
            "text/html": [
              "<div>\n",
              "<style scoped>\n",
              "    .dataframe tbody tr th:only-of-type {\n",
              "        vertical-align: middle;\n",
              "    }\n",
              "\n",
              "    .dataframe tbody tr th {\n",
              "        vertical-align: top;\n",
              "    }\n",
              "\n",
              "    .dataframe thead th {\n",
              "        text-align: right;\n",
              "    }\n",
              "</style>\n",
              "<table border=\"1\" class=\"dataframe\">\n",
              "  <thead>\n",
              "    <tr style=\"text-align: right;\">\n",
              "      <th>IN_BAIXA_VISAO</th>\n",
              "      <th>Frequencia</th>\n",
              "      <th>Percentual</th>\n",
              "    </tr>\n",
              "  </thead>\n",
              "  <tbody>\n",
              "    <tr>\n",
              "      <th>Não</th>\n",
              "      <td>3938122</td>\n",
              "      <td>99.81</td>\n",
              "    </tr>\n",
              "    <tr>\n",
              "      <th>Sim</th>\n",
              "      <td>7675</td>\n",
              "      <td>0.19</td>\n",
              "    </tr>\n",
              "  </tbody>\n",
              "</table>\n",
              "</div>"
            ],
            "text/plain": [
              "IN_BAIXA_VISAO  Frequencia  Percentual\n",
              "Não                3938122       99.81\n",
              "Sim                   7675        0.19"
            ]
          },
          "metadata": {
            "tags": []
          }
        },
        {
          "output_type": "stream",
          "text": [
            "Nordeste\n"
          ],
          "name": "stdout"
        },
        {
          "output_type": "display_data",
          "data": {
            "text/html": [
              "<div>\n",
              "<style scoped>\n",
              "    .dataframe tbody tr th:only-of-type {\n",
              "        vertical-align: middle;\n",
              "    }\n",
              "\n",
              "    .dataframe tbody tr th {\n",
              "        vertical-align: top;\n",
              "    }\n",
              "\n",
              "    .dataframe thead th {\n",
              "        text-align: right;\n",
              "    }\n",
              "</style>\n",
              "<table border=\"1\" class=\"dataframe\">\n",
              "  <thead>\n",
              "    <tr style=\"text-align: right;\">\n",
              "      <th>IN_BAIXA_VISAO</th>\n",
              "      <th>Frequencia</th>\n",
              "      <th>Percentual</th>\n",
              "    </tr>\n",
              "  </thead>\n",
              "  <tbody>\n",
              "    <tr>\n",
              "      <th>Não</th>\n",
              "      <td>15266981</td>\n",
              "      <td>99.75</td>\n",
              "    </tr>\n",
              "    <tr>\n",
              "      <th>Sim</th>\n",
              "      <td>37608</td>\n",
              "      <td>0.25</td>\n",
              "    </tr>\n",
              "  </tbody>\n",
              "</table>\n",
              "</div>"
            ],
            "text/plain": [
              "IN_BAIXA_VISAO  Frequencia  Percentual\n",
              "Não               15266981       99.75\n",
              "Sim                  37608        0.25"
            ]
          },
          "metadata": {
            "tags": []
          }
        },
        {
          "output_type": "stream",
          "text": [
            "Norte\n"
          ],
          "name": "stdout"
        },
        {
          "output_type": "display_data",
          "data": {
            "text/html": [
              "<div>\n",
              "<style scoped>\n",
              "    .dataframe tbody tr th:only-of-type {\n",
              "        vertical-align: middle;\n",
              "    }\n",
              "\n",
              "    .dataframe tbody tr th {\n",
              "        vertical-align: top;\n",
              "    }\n",
              "\n",
              "    .dataframe thead th {\n",
              "        text-align: right;\n",
              "    }\n",
              "</style>\n",
              "<table border=\"1\" class=\"dataframe\">\n",
              "  <thead>\n",
              "    <tr style=\"text-align: right;\">\n",
              "      <th>IN_BAIXA_VISAO</th>\n",
              "      <th>Frequencia</th>\n",
              "      <th>Percentual</th>\n",
              "    </tr>\n",
              "  </thead>\n",
              "  <tbody>\n",
              "    <tr>\n",
              "      <th>Não</th>\n",
              "      <td>5183823</td>\n",
              "      <td>99.72</td>\n",
              "    </tr>\n",
              "    <tr>\n",
              "      <th>Sim</th>\n",
              "      <td>14543</td>\n",
              "      <td>0.28</td>\n",
              "    </tr>\n",
              "  </tbody>\n",
              "</table>\n",
              "</div>"
            ],
            "text/plain": [
              "IN_BAIXA_VISAO  Frequencia  Percentual\n",
              "Não                5183823       99.72\n",
              "Sim                  14543        0.28"
            ]
          },
          "metadata": {
            "tags": []
          }
        },
        {
          "output_type": "stream",
          "text": [
            "Sudeste\n"
          ],
          "name": "stdout"
        },
        {
          "output_type": "display_data",
          "data": {
            "text/html": [
              "<div>\n",
              "<style scoped>\n",
              "    .dataframe tbody tr th:only-of-type {\n",
              "        vertical-align: middle;\n",
              "    }\n",
              "\n",
              "    .dataframe tbody tr th {\n",
              "        vertical-align: top;\n",
              "    }\n",
              "\n",
              "    .dataframe thead th {\n",
              "        text-align: right;\n",
              "    }\n",
              "</style>\n",
              "<table border=\"1\" class=\"dataframe\">\n",
              "  <thead>\n",
              "    <tr style=\"text-align: right;\">\n",
              "      <th>IN_BAIXA_VISAO</th>\n",
              "      <th>Frequencia</th>\n",
              "      <th>Percentual</th>\n",
              "    </tr>\n",
              "  </thead>\n",
              "  <tbody>\n",
              "    <tr>\n",
              "      <th>Não</th>\n",
              "      <td>19756281</td>\n",
              "      <td>99.85</td>\n",
              "    </tr>\n",
              "    <tr>\n",
              "      <th>Sim</th>\n",
              "      <td>29564</td>\n",
              "      <td>0.15</td>\n",
              "    </tr>\n",
              "  </tbody>\n",
              "</table>\n",
              "</div>"
            ],
            "text/plain": [
              "IN_BAIXA_VISAO  Frequencia  Percentual\n",
              "Não               19756281       99.85\n",
              "Sim                  29564        0.15"
            ]
          },
          "metadata": {
            "tags": []
          }
        },
        {
          "output_type": "stream",
          "text": [
            "Sul\n"
          ],
          "name": "stdout"
        },
        {
          "output_type": "display_data",
          "data": {
            "text/html": [
              "<div>\n",
              "<style scoped>\n",
              "    .dataframe tbody tr th:only-of-type {\n",
              "        vertical-align: middle;\n",
              "    }\n",
              "\n",
              "    .dataframe tbody tr th {\n",
              "        vertical-align: top;\n",
              "    }\n",
              "\n",
              "    .dataframe thead th {\n",
              "        text-align: right;\n",
              "    }\n",
              "</style>\n",
              "<table border=\"1\" class=\"dataframe\">\n",
              "  <thead>\n",
              "    <tr style=\"text-align: right;\">\n",
              "      <th>IN_BAIXA_VISAO</th>\n",
              "      <th>Frequencia</th>\n",
              "      <th>Percentual</th>\n",
              "    </tr>\n",
              "  </thead>\n",
              "  <tbody>\n",
              "    <tr>\n",
              "      <th>Não</th>\n",
              "      <td>6915779</td>\n",
              "      <td>99.76</td>\n",
              "    </tr>\n",
              "    <tr>\n",
              "      <th>Sim</th>\n",
              "      <td>16347</td>\n",
              "      <td>0.24</td>\n",
              "    </tr>\n",
              "  </tbody>\n",
              "</table>\n",
              "</div>"
            ],
            "text/plain": [
              "IN_BAIXA_VISAO  Frequencia  Percentual\n",
              "Não                6915779       99.76\n",
              "Sim                  16347        0.24"
            ]
          },
          "metadata": {
            "tags": []
          }
        }
      ]
    },
    {
      "cell_type": "code",
      "metadata": {
        "colab": {
          "base_uri": "https://localhost:8080/",
          "height": 551
        },
        "id": "NPYQzqV_UDjE",
        "outputId": "6d70531e-f189-4fb6-daf2-4cf7a156885b"
      },
      "source": [
        "relatorio_necessidades_matriculas('IN_CEGUEIRA')"
      ],
      "execution_count": 55,
      "outputs": [
        {
          "output_type": "stream",
          "text": [
            "Centro_Oeste\n"
          ],
          "name": "stdout"
        },
        {
          "output_type": "display_data",
          "data": {
            "text/html": [
              "<div>\n",
              "<style scoped>\n",
              "    .dataframe tbody tr th:only-of-type {\n",
              "        vertical-align: middle;\n",
              "    }\n",
              "\n",
              "    .dataframe tbody tr th {\n",
              "        vertical-align: top;\n",
              "    }\n",
              "\n",
              "    .dataframe thead th {\n",
              "        text-align: right;\n",
              "    }\n",
              "</style>\n",
              "<table border=\"1\" class=\"dataframe\">\n",
              "  <thead>\n",
              "    <tr style=\"text-align: right;\">\n",
              "      <th>IN_CEGUEIRA</th>\n",
              "      <th>Frequencia</th>\n",
              "      <th>Percentual</th>\n",
              "    </tr>\n",
              "  </thead>\n",
              "  <tbody>\n",
              "    <tr>\n",
              "      <th>Não</th>\n",
              "      <td>3944687</td>\n",
              "      <td>99.97</td>\n",
              "    </tr>\n",
              "    <tr>\n",
              "      <th>Sim</th>\n",
              "      <td>1110</td>\n",
              "      <td>0.03</td>\n",
              "    </tr>\n",
              "  </tbody>\n",
              "</table>\n",
              "</div>"
            ],
            "text/plain": [
              "IN_CEGUEIRA  Frequencia  Percentual\n",
              "Não             3944687       99.97\n",
              "Sim                1110        0.03"
            ]
          },
          "metadata": {
            "tags": []
          }
        },
        {
          "output_type": "stream",
          "text": [
            "Nordeste\n"
          ],
          "name": "stdout"
        },
        {
          "output_type": "display_data",
          "data": {
            "text/html": [
              "<div>\n",
              "<style scoped>\n",
              "    .dataframe tbody tr th:only-of-type {\n",
              "        vertical-align: middle;\n",
              "    }\n",
              "\n",
              "    .dataframe tbody tr th {\n",
              "        vertical-align: top;\n",
              "    }\n",
              "\n",
              "    .dataframe thead th {\n",
              "        text-align: right;\n",
              "    }\n",
              "</style>\n",
              "<table border=\"1\" class=\"dataframe\">\n",
              "  <thead>\n",
              "    <tr style=\"text-align: right;\">\n",
              "      <th>IN_CEGUEIRA</th>\n",
              "      <th>Frequencia</th>\n",
              "      <th>Percentual</th>\n",
              "    </tr>\n",
              "  </thead>\n",
              "  <tbody>\n",
              "    <tr>\n",
              "      <th>Não</th>\n",
              "      <td>15301319</td>\n",
              "      <td>99.98</td>\n",
              "    </tr>\n",
              "    <tr>\n",
              "      <th>Sim</th>\n",
              "      <td>3270</td>\n",
              "      <td>0.02</td>\n",
              "    </tr>\n",
              "  </tbody>\n",
              "</table>\n",
              "</div>"
            ],
            "text/plain": [
              "IN_CEGUEIRA  Frequencia  Percentual\n",
              "Não            15301319       99.98\n",
              "Sim                3270        0.02"
            ]
          },
          "metadata": {
            "tags": []
          }
        },
        {
          "output_type": "stream",
          "text": [
            "Norte\n"
          ],
          "name": "stdout"
        },
        {
          "output_type": "display_data",
          "data": {
            "text/html": [
              "<div>\n",
              "<style scoped>\n",
              "    .dataframe tbody tr th:only-of-type {\n",
              "        vertical-align: middle;\n",
              "    }\n",
              "\n",
              "    .dataframe tbody tr th {\n",
              "        vertical-align: top;\n",
              "    }\n",
              "\n",
              "    .dataframe thead th {\n",
              "        text-align: right;\n",
              "    }\n",
              "</style>\n",
              "<table border=\"1\" class=\"dataframe\">\n",
              "  <thead>\n",
              "    <tr style=\"text-align: right;\">\n",
              "      <th>IN_CEGUEIRA</th>\n",
              "      <th>Frequencia</th>\n",
              "      <th>Percentual</th>\n",
              "    </tr>\n",
              "  </thead>\n",
              "  <tbody>\n",
              "    <tr>\n",
              "      <th>Não</th>\n",
              "      <td>5196982</td>\n",
              "      <td>99.97</td>\n",
              "    </tr>\n",
              "    <tr>\n",
              "      <th>Sim</th>\n",
              "      <td>1384</td>\n",
              "      <td>0.03</td>\n",
              "    </tr>\n",
              "  </tbody>\n",
              "</table>\n",
              "</div>"
            ],
            "text/plain": [
              "IN_CEGUEIRA  Frequencia  Percentual\n",
              "Não             5196982       99.97\n",
              "Sim                1384        0.03"
            ]
          },
          "metadata": {
            "tags": []
          }
        },
        {
          "output_type": "stream",
          "text": [
            "Sudeste\n"
          ],
          "name": "stdout"
        },
        {
          "output_type": "display_data",
          "data": {
            "text/html": [
              "<div>\n",
              "<style scoped>\n",
              "    .dataframe tbody tr th:only-of-type {\n",
              "        vertical-align: middle;\n",
              "    }\n",
              "\n",
              "    .dataframe tbody tr th {\n",
              "        vertical-align: top;\n",
              "    }\n",
              "\n",
              "    .dataframe thead th {\n",
              "        text-align: right;\n",
              "    }\n",
              "</style>\n",
              "<table border=\"1\" class=\"dataframe\">\n",
              "  <thead>\n",
              "    <tr style=\"text-align: right;\">\n",
              "      <th>IN_CEGUEIRA</th>\n",
              "      <th>Frequencia</th>\n",
              "      <th>Percentual</th>\n",
              "    </tr>\n",
              "  </thead>\n",
              "  <tbody>\n",
              "    <tr>\n",
              "      <th>Não</th>\n",
              "      <td>19781736</td>\n",
              "      <td>99.98</td>\n",
              "    </tr>\n",
              "    <tr>\n",
              "      <th>Sim</th>\n",
              "      <td>4109</td>\n",
              "      <td>0.02</td>\n",
              "    </tr>\n",
              "  </tbody>\n",
              "</table>\n",
              "</div>"
            ],
            "text/plain": [
              "IN_CEGUEIRA  Frequencia  Percentual\n",
              "Não            19781736       99.98\n",
              "Sim                4109        0.02"
            ]
          },
          "metadata": {
            "tags": []
          }
        },
        {
          "output_type": "stream",
          "text": [
            "Sul\n"
          ],
          "name": "stdout"
        },
        {
          "output_type": "display_data",
          "data": {
            "text/html": [
              "<div>\n",
              "<style scoped>\n",
              "    .dataframe tbody tr th:only-of-type {\n",
              "        vertical-align: middle;\n",
              "    }\n",
              "\n",
              "    .dataframe tbody tr th {\n",
              "        vertical-align: top;\n",
              "    }\n",
              "\n",
              "    .dataframe thead th {\n",
              "        text-align: right;\n",
              "    }\n",
              "</style>\n",
              "<table border=\"1\" class=\"dataframe\">\n",
              "  <thead>\n",
              "    <tr style=\"text-align: right;\">\n",
              "      <th>IN_CEGUEIRA</th>\n",
              "      <th>Frequencia</th>\n",
              "      <th>Percentual</th>\n",
              "    </tr>\n",
              "  </thead>\n",
              "  <tbody>\n",
              "    <tr>\n",
              "      <th>Não</th>\n",
              "      <td>6930317</td>\n",
              "      <td>99.97</td>\n",
              "    </tr>\n",
              "    <tr>\n",
              "      <th>Sim</th>\n",
              "      <td>1809</td>\n",
              "      <td>0.03</td>\n",
              "    </tr>\n",
              "  </tbody>\n",
              "</table>\n",
              "</div>"
            ],
            "text/plain": [
              "IN_CEGUEIRA  Frequencia  Percentual\n",
              "Não             6930317       99.97\n",
              "Sim                1809        0.03"
            ]
          },
          "metadata": {
            "tags": []
          }
        }
      ]
    },
    {
      "cell_type": "code",
      "metadata": {
        "colab": {
          "base_uri": "https://localhost:8080/",
          "height": 551
        },
        "id": "sC4hDs7sUG7h",
        "outputId": "cd4cb345-d02f-45a3-a2fb-859400f18b78"
      },
      "source": [
        "relatorio_necessidades_matriculas('IN_DEF_AUDITIVA')"
      ],
      "execution_count": 56,
      "outputs": [
        {
          "output_type": "stream",
          "text": [
            "Centro_Oeste\n"
          ],
          "name": "stdout"
        },
        {
          "output_type": "display_data",
          "data": {
            "text/html": [
              "<div>\n",
              "<style scoped>\n",
              "    .dataframe tbody tr th:only-of-type {\n",
              "        vertical-align: middle;\n",
              "    }\n",
              "\n",
              "    .dataframe tbody tr th {\n",
              "        vertical-align: top;\n",
              "    }\n",
              "\n",
              "    .dataframe thead th {\n",
              "        text-align: right;\n",
              "    }\n",
              "</style>\n",
              "<table border=\"1\" class=\"dataframe\">\n",
              "  <thead>\n",
              "    <tr style=\"text-align: right;\">\n",
              "      <th>IN_DEF_AUDITIVA</th>\n",
              "      <th>Frequencia</th>\n",
              "      <th>Percentual</th>\n",
              "    </tr>\n",
              "  </thead>\n",
              "  <tbody>\n",
              "    <tr>\n",
              "      <th>Não</th>\n",
              "      <td>3939986</td>\n",
              "      <td>99.85</td>\n",
              "    </tr>\n",
              "    <tr>\n",
              "      <th>Sim</th>\n",
              "      <td>5811</td>\n",
              "      <td>0.15</td>\n",
              "    </tr>\n",
              "  </tbody>\n",
              "</table>\n",
              "</div>"
            ],
            "text/plain": [
              "IN_DEF_AUDITIVA  Frequencia  Percentual\n",
              "Não                 3939986       99.85\n",
              "Sim                    5811        0.15"
            ]
          },
          "metadata": {
            "tags": []
          }
        },
        {
          "output_type": "stream",
          "text": [
            "Nordeste\n"
          ],
          "name": "stdout"
        },
        {
          "output_type": "display_data",
          "data": {
            "text/html": [
              "<div>\n",
              "<style scoped>\n",
              "    .dataframe tbody tr th:only-of-type {\n",
              "        vertical-align: middle;\n",
              "    }\n",
              "\n",
              "    .dataframe tbody tr th {\n",
              "        vertical-align: top;\n",
              "    }\n",
              "\n",
              "    .dataframe thead th {\n",
              "        text-align: right;\n",
              "    }\n",
              "</style>\n",
              "<table border=\"1\" class=\"dataframe\">\n",
              "  <thead>\n",
              "    <tr style=\"text-align: right;\">\n",
              "      <th>IN_DEF_AUDITIVA</th>\n",
              "      <th>Frequencia</th>\n",
              "      <th>Percentual</th>\n",
              "    </tr>\n",
              "  </thead>\n",
              "  <tbody>\n",
              "    <tr>\n",
              "      <th>Não</th>\n",
              "      <td>15288915</td>\n",
              "      <td>99.9</td>\n",
              "    </tr>\n",
              "    <tr>\n",
              "      <th>Sim</th>\n",
              "      <td>15674</td>\n",
              "      <td>0.1</td>\n",
              "    </tr>\n",
              "  </tbody>\n",
              "</table>\n",
              "</div>"
            ],
            "text/plain": [
              "IN_DEF_AUDITIVA  Frequencia  Percentual\n",
              "Não                15288915        99.9\n",
              "Sim                   15674         0.1"
            ]
          },
          "metadata": {
            "tags": []
          }
        },
        {
          "output_type": "stream",
          "text": [
            "Norte\n"
          ],
          "name": "stdout"
        },
        {
          "output_type": "display_data",
          "data": {
            "text/html": [
              "<div>\n",
              "<style scoped>\n",
              "    .dataframe tbody tr th:only-of-type {\n",
              "        vertical-align: middle;\n",
              "    }\n",
              "\n",
              "    .dataframe tbody tr th {\n",
              "        vertical-align: top;\n",
              "    }\n",
              "\n",
              "    .dataframe thead th {\n",
              "        text-align: right;\n",
              "    }\n",
              "</style>\n",
              "<table border=\"1\" class=\"dataframe\">\n",
              "  <thead>\n",
              "    <tr style=\"text-align: right;\">\n",
              "      <th>IN_DEF_AUDITIVA</th>\n",
              "      <th>Frequencia</th>\n",
              "      <th>Percentual</th>\n",
              "    </tr>\n",
              "  </thead>\n",
              "  <tbody>\n",
              "    <tr>\n",
              "      <th>Não</th>\n",
              "      <td>5190786</td>\n",
              "      <td>99.85</td>\n",
              "    </tr>\n",
              "    <tr>\n",
              "      <th>Sim</th>\n",
              "      <td>7580</td>\n",
              "      <td>0.15</td>\n",
              "    </tr>\n",
              "  </tbody>\n",
              "</table>\n",
              "</div>"
            ],
            "text/plain": [
              "IN_DEF_AUDITIVA  Frequencia  Percentual\n",
              "Não                 5190786       99.85\n",
              "Sim                    7580        0.15"
            ]
          },
          "metadata": {
            "tags": []
          }
        },
        {
          "output_type": "stream",
          "text": [
            "Sudeste\n"
          ],
          "name": "stdout"
        },
        {
          "output_type": "display_data",
          "data": {
            "text/html": [
              "<div>\n",
              "<style scoped>\n",
              "    .dataframe tbody tr th:only-of-type {\n",
              "        vertical-align: middle;\n",
              "    }\n",
              "\n",
              "    .dataframe tbody tr th {\n",
              "        vertical-align: top;\n",
              "    }\n",
              "\n",
              "    .dataframe thead th {\n",
              "        text-align: right;\n",
              "    }\n",
              "</style>\n",
              "<table border=\"1\" class=\"dataframe\">\n",
              "  <thead>\n",
              "    <tr style=\"text-align: right;\">\n",
              "      <th>IN_DEF_AUDITIVA</th>\n",
              "      <th>Frequencia</th>\n",
              "      <th>Percentual</th>\n",
              "    </tr>\n",
              "  </thead>\n",
              "  <tbody>\n",
              "    <tr>\n",
              "      <th>Não</th>\n",
              "      <td>19767662</td>\n",
              "      <td>99.91</td>\n",
              "    </tr>\n",
              "    <tr>\n",
              "      <th>Sim</th>\n",
              "      <td>18183</td>\n",
              "      <td>0.09</td>\n",
              "    </tr>\n",
              "  </tbody>\n",
              "</table>\n",
              "</div>"
            ],
            "text/plain": [
              "IN_DEF_AUDITIVA  Frequencia  Percentual\n",
              "Não                19767662       99.91\n",
              "Sim                   18183        0.09"
            ]
          },
          "metadata": {
            "tags": []
          }
        },
        {
          "output_type": "stream",
          "text": [
            "Sul\n"
          ],
          "name": "stdout"
        },
        {
          "output_type": "display_data",
          "data": {
            "text/html": [
              "<div>\n",
              "<style scoped>\n",
              "    .dataframe tbody tr th:only-of-type {\n",
              "        vertical-align: middle;\n",
              "    }\n",
              "\n",
              "    .dataframe tbody tr th {\n",
              "        vertical-align: top;\n",
              "    }\n",
              "\n",
              "    .dataframe thead th {\n",
              "        text-align: right;\n",
              "    }\n",
              "</style>\n",
              "<table border=\"1\" class=\"dataframe\">\n",
              "  <thead>\n",
              "    <tr style=\"text-align: right;\">\n",
              "      <th>IN_DEF_AUDITIVA</th>\n",
              "      <th>Frequencia</th>\n",
              "      <th>Percentual</th>\n",
              "    </tr>\n",
              "  </thead>\n",
              "  <tbody>\n",
              "    <tr>\n",
              "      <th>Não</th>\n",
              "      <td>6923413</td>\n",
              "      <td>99.87</td>\n",
              "    </tr>\n",
              "    <tr>\n",
              "      <th>Sim</th>\n",
              "      <td>8713</td>\n",
              "      <td>0.13</td>\n",
              "    </tr>\n",
              "  </tbody>\n",
              "</table>\n",
              "</div>"
            ],
            "text/plain": [
              "IN_DEF_AUDITIVA  Frequencia  Percentual\n",
              "Não                 6923413       99.87\n",
              "Sim                    8713        0.13"
            ]
          },
          "metadata": {
            "tags": []
          }
        }
      ]
    },
    {
      "cell_type": "code",
      "metadata": {
        "colab": {
          "base_uri": "https://localhost:8080/",
          "height": 551
        },
        "id": "hHvGYQexUKxs",
        "outputId": "bdf8eb61-ef98-42df-c52f-259a65d32214"
      },
      "source": [
        "relatorio_necessidades_matriculas('IN_DEF_FISICA')"
      ],
      "execution_count": 57,
      "outputs": [
        {
          "output_type": "stream",
          "text": [
            "Centro_Oeste\n"
          ],
          "name": "stdout"
        },
        {
          "output_type": "display_data",
          "data": {
            "text/html": [
              "<div>\n",
              "<style scoped>\n",
              "    .dataframe tbody tr th:only-of-type {\n",
              "        vertical-align: middle;\n",
              "    }\n",
              "\n",
              "    .dataframe tbody tr th {\n",
              "        vertical-align: top;\n",
              "    }\n",
              "\n",
              "    .dataframe thead th {\n",
              "        text-align: right;\n",
              "    }\n",
              "</style>\n",
              "<table border=\"1\" class=\"dataframe\">\n",
              "  <thead>\n",
              "    <tr style=\"text-align: right;\">\n",
              "      <th>IN_DEF_FISICA</th>\n",
              "      <th>Frequencia</th>\n",
              "      <th>Percentual</th>\n",
              "    </tr>\n",
              "  </thead>\n",
              "  <tbody>\n",
              "    <tr>\n",
              "      <th>Não</th>\n",
              "      <td>3927713</td>\n",
              "      <td>99.54</td>\n",
              "    </tr>\n",
              "    <tr>\n",
              "      <th>Sim</th>\n",
              "      <td>18084</td>\n",
              "      <td>0.46</td>\n",
              "    </tr>\n",
              "  </tbody>\n",
              "</table>\n",
              "</div>"
            ],
            "text/plain": [
              "IN_DEF_FISICA  Frequencia  Percentual\n",
              "Não               3927713       99.54\n",
              "Sim                 18084        0.46"
            ]
          },
          "metadata": {
            "tags": []
          }
        },
        {
          "output_type": "stream",
          "text": [
            "Nordeste\n"
          ],
          "name": "stdout"
        },
        {
          "output_type": "display_data",
          "data": {
            "text/html": [
              "<div>\n",
              "<style scoped>\n",
              "    .dataframe tbody tr th:only-of-type {\n",
              "        vertical-align: middle;\n",
              "    }\n",
              "\n",
              "    .dataframe tbody tr th {\n",
              "        vertical-align: top;\n",
              "    }\n",
              "\n",
              "    .dataframe thead th {\n",
              "        text-align: right;\n",
              "    }\n",
              "</style>\n",
              "<table border=\"1\" class=\"dataframe\">\n",
              "  <thead>\n",
              "    <tr style=\"text-align: right;\">\n",
              "      <th>IN_DEF_FISICA</th>\n",
              "      <th>Frequencia</th>\n",
              "      <th>Percentual</th>\n",
              "    </tr>\n",
              "  </thead>\n",
              "  <tbody>\n",
              "    <tr>\n",
              "      <th>Não</th>\n",
              "      <td>15253245</td>\n",
              "      <td>99.66</td>\n",
              "    </tr>\n",
              "    <tr>\n",
              "      <th>Sim</th>\n",
              "      <td>51344</td>\n",
              "      <td>0.34</td>\n",
              "    </tr>\n",
              "  </tbody>\n",
              "</table>\n",
              "</div>"
            ],
            "text/plain": [
              "IN_DEF_FISICA  Frequencia  Percentual\n",
              "Não              15253245       99.66\n",
              "Sim                 51344        0.34"
            ]
          },
          "metadata": {
            "tags": []
          }
        },
        {
          "output_type": "stream",
          "text": [
            "Norte\n"
          ],
          "name": "stdout"
        },
        {
          "output_type": "display_data",
          "data": {
            "text/html": [
              "<div>\n",
              "<style scoped>\n",
              "    .dataframe tbody tr th:only-of-type {\n",
              "        vertical-align: middle;\n",
              "    }\n",
              "\n",
              "    .dataframe tbody tr th {\n",
              "        vertical-align: top;\n",
              "    }\n",
              "\n",
              "    .dataframe thead th {\n",
              "        text-align: right;\n",
              "    }\n",
              "</style>\n",
              "<table border=\"1\" class=\"dataframe\">\n",
              "  <thead>\n",
              "    <tr style=\"text-align: right;\">\n",
              "      <th>IN_DEF_FISICA</th>\n",
              "      <th>Frequencia</th>\n",
              "      <th>Percentual</th>\n",
              "    </tr>\n",
              "  </thead>\n",
              "  <tbody>\n",
              "    <tr>\n",
              "      <th>Não</th>\n",
              "      <td>5175966</td>\n",
              "      <td>99.57</td>\n",
              "    </tr>\n",
              "    <tr>\n",
              "      <th>Sim</th>\n",
              "      <td>22400</td>\n",
              "      <td>0.43</td>\n",
              "    </tr>\n",
              "  </tbody>\n",
              "</table>\n",
              "</div>"
            ],
            "text/plain": [
              "IN_DEF_FISICA  Frequencia  Percentual\n",
              "Não               5175966       99.57\n",
              "Sim                 22400        0.43"
            ]
          },
          "metadata": {
            "tags": []
          }
        },
        {
          "output_type": "stream",
          "text": [
            "Sudeste\n"
          ],
          "name": "stdout"
        },
        {
          "output_type": "display_data",
          "data": {
            "text/html": [
              "<div>\n",
              "<style scoped>\n",
              "    .dataframe tbody tr th:only-of-type {\n",
              "        vertical-align: middle;\n",
              "    }\n",
              "\n",
              "    .dataframe tbody tr th {\n",
              "        vertical-align: top;\n",
              "    }\n",
              "\n",
              "    .dataframe thead th {\n",
              "        text-align: right;\n",
              "    }\n",
              "</style>\n",
              "<table border=\"1\" class=\"dataframe\">\n",
              "  <thead>\n",
              "    <tr style=\"text-align: right;\">\n",
              "      <th>IN_DEF_FISICA</th>\n",
              "      <th>Frequencia</th>\n",
              "      <th>Percentual</th>\n",
              "    </tr>\n",
              "  </thead>\n",
              "  <tbody>\n",
              "    <tr>\n",
              "      <th>Não</th>\n",
              "      <td>19699326</td>\n",
              "      <td>99.56</td>\n",
              "    </tr>\n",
              "    <tr>\n",
              "      <th>Sim</th>\n",
              "      <td>86519</td>\n",
              "      <td>0.44</td>\n",
              "    </tr>\n",
              "  </tbody>\n",
              "</table>\n",
              "</div>"
            ],
            "text/plain": [
              "IN_DEF_FISICA  Frequencia  Percentual\n",
              "Não              19699326       99.56\n",
              "Sim                 86519        0.44"
            ]
          },
          "metadata": {
            "tags": []
          }
        },
        {
          "output_type": "stream",
          "text": [
            "Sul\n"
          ],
          "name": "stdout"
        },
        {
          "output_type": "display_data",
          "data": {
            "text/html": [
              "<div>\n",
              "<style scoped>\n",
              "    .dataframe tbody tr th:only-of-type {\n",
              "        vertical-align: middle;\n",
              "    }\n",
              "\n",
              "    .dataframe tbody tr th {\n",
              "        vertical-align: top;\n",
              "    }\n",
              "\n",
              "    .dataframe thead th {\n",
              "        text-align: right;\n",
              "    }\n",
              "</style>\n",
              "<table border=\"1\" class=\"dataframe\">\n",
              "  <thead>\n",
              "    <tr style=\"text-align: right;\">\n",
              "      <th>IN_DEF_FISICA</th>\n",
              "      <th>Frequencia</th>\n",
              "      <th>Percentual</th>\n",
              "    </tr>\n",
              "  </thead>\n",
              "  <tbody>\n",
              "    <tr>\n",
              "      <th>Não</th>\n",
              "      <td>6902808</td>\n",
              "      <td>99.58</td>\n",
              "    </tr>\n",
              "    <tr>\n",
              "      <th>Sim</th>\n",
              "      <td>29318</td>\n",
              "      <td>0.42</td>\n",
              "    </tr>\n",
              "  </tbody>\n",
              "</table>\n",
              "</div>"
            ],
            "text/plain": [
              "IN_DEF_FISICA  Frequencia  Percentual\n",
              "Não               6902808       99.58\n",
              "Sim                 29318        0.42"
            ]
          },
          "metadata": {
            "tags": []
          }
        }
      ]
    },
    {
      "cell_type": "code",
      "metadata": {
        "colab": {
          "base_uri": "https://localhost:8080/",
          "height": 551
        },
        "id": "JBN-5CmaUO78",
        "outputId": "329812f2-fa9f-4204-c55d-a11e3bba09da"
      },
      "source": [
        "relatorio_necessidades_matriculas('IN_DEF_INTELECTUAL')"
      ],
      "execution_count": 58,
      "outputs": [
        {
          "output_type": "stream",
          "text": [
            "Centro_Oeste\n"
          ],
          "name": "stdout"
        },
        {
          "output_type": "display_data",
          "data": {
            "text/html": [
              "<div>\n",
              "<style scoped>\n",
              "    .dataframe tbody tr th:only-of-type {\n",
              "        vertical-align: middle;\n",
              "    }\n",
              "\n",
              "    .dataframe tbody tr th {\n",
              "        vertical-align: top;\n",
              "    }\n",
              "\n",
              "    .dataframe thead th {\n",
              "        text-align: right;\n",
              "    }\n",
              "</style>\n",
              "<table border=\"1\" class=\"dataframe\">\n",
              "  <thead>\n",
              "    <tr style=\"text-align: right;\">\n",
              "      <th>IN_DEF_INTELECTUAL</th>\n",
              "      <th>Frequencia</th>\n",
              "      <th>Percentual</th>\n",
              "    </tr>\n",
              "  </thead>\n",
              "  <tbody>\n",
              "    <tr>\n",
              "      <th>Não</th>\n",
              "      <td>3837492</td>\n",
              "      <td>97.26</td>\n",
              "    </tr>\n",
              "    <tr>\n",
              "      <th>Sim</th>\n",
              "      <td>108305</td>\n",
              "      <td>2.74</td>\n",
              "    </tr>\n",
              "  </tbody>\n",
              "</table>\n",
              "</div>"
            ],
            "text/plain": [
              "IN_DEF_INTELECTUAL  Frequencia  Percentual\n",
              "Não                    3837492       97.26\n",
              "Sim                     108305        2.74"
            ]
          },
          "metadata": {
            "tags": []
          }
        },
        {
          "output_type": "stream",
          "text": [
            "Nordeste\n"
          ],
          "name": "stdout"
        },
        {
          "output_type": "display_data",
          "data": {
            "text/html": [
              "<div>\n",
              "<style scoped>\n",
              "    .dataframe tbody tr th:only-of-type {\n",
              "        vertical-align: middle;\n",
              "    }\n",
              "\n",
              "    .dataframe tbody tr th {\n",
              "        vertical-align: top;\n",
              "    }\n",
              "\n",
              "    .dataframe thead th {\n",
              "        text-align: right;\n",
              "    }\n",
              "</style>\n",
              "<table border=\"1\" class=\"dataframe\">\n",
              "  <thead>\n",
              "    <tr style=\"text-align: right;\">\n",
              "      <th>IN_DEF_INTELECTUAL</th>\n",
              "      <th>Frequencia</th>\n",
              "      <th>Percentual</th>\n",
              "    </tr>\n",
              "  </thead>\n",
              "  <tbody>\n",
              "    <tr>\n",
              "      <th>Não</th>\n",
              "      <td>14945991</td>\n",
              "      <td>97.66</td>\n",
              "    </tr>\n",
              "    <tr>\n",
              "      <th>Sim</th>\n",
              "      <td>358598</td>\n",
              "      <td>2.34</td>\n",
              "    </tr>\n",
              "  </tbody>\n",
              "</table>\n",
              "</div>"
            ],
            "text/plain": [
              "IN_DEF_INTELECTUAL  Frequencia  Percentual\n",
              "Não                   14945991       97.66\n",
              "Sim                     358598        2.34"
            ]
          },
          "metadata": {
            "tags": []
          }
        },
        {
          "output_type": "stream",
          "text": [
            "Norte\n"
          ],
          "name": "stdout"
        },
        {
          "output_type": "display_data",
          "data": {
            "text/html": [
              "<div>\n",
              "<style scoped>\n",
              "    .dataframe tbody tr th:only-of-type {\n",
              "        vertical-align: middle;\n",
              "    }\n",
              "\n",
              "    .dataframe tbody tr th {\n",
              "        vertical-align: top;\n",
              "    }\n",
              "\n",
              "    .dataframe thead th {\n",
              "        text-align: right;\n",
              "    }\n",
              "</style>\n",
              "<table border=\"1\" class=\"dataframe\">\n",
              "  <thead>\n",
              "    <tr style=\"text-align: right;\">\n",
              "      <th>IN_DEF_INTELECTUAL</th>\n",
              "      <th>Frequencia</th>\n",
              "      <th>Percentual</th>\n",
              "    </tr>\n",
              "  </thead>\n",
              "  <tbody>\n",
              "    <tr>\n",
              "      <th>Não</th>\n",
              "      <td>5081998</td>\n",
              "      <td>97.76</td>\n",
              "    </tr>\n",
              "    <tr>\n",
              "      <th>Sim</th>\n",
              "      <td>116368</td>\n",
              "      <td>2.24</td>\n",
              "    </tr>\n",
              "  </tbody>\n",
              "</table>\n",
              "</div>"
            ],
            "text/plain": [
              "IN_DEF_INTELECTUAL  Frequencia  Percentual\n",
              "Não                    5081998       97.76\n",
              "Sim                     116368        2.24"
            ]
          },
          "metadata": {
            "tags": []
          }
        },
        {
          "output_type": "stream",
          "text": [
            "Sudeste\n"
          ],
          "name": "stdout"
        },
        {
          "output_type": "display_data",
          "data": {
            "text/html": [
              "<div>\n",
              "<style scoped>\n",
              "    .dataframe tbody tr th:only-of-type {\n",
              "        vertical-align: middle;\n",
              "    }\n",
              "\n",
              "    .dataframe tbody tr th {\n",
              "        vertical-align: top;\n",
              "    }\n",
              "\n",
              "    .dataframe thead th {\n",
              "        text-align: right;\n",
              "    }\n",
              "</style>\n",
              "<table border=\"1\" class=\"dataframe\">\n",
              "  <thead>\n",
              "    <tr style=\"text-align: right;\">\n",
              "      <th>IN_DEF_INTELECTUAL</th>\n",
              "      <th>Frequencia</th>\n",
              "      <th>Percentual</th>\n",
              "    </tr>\n",
              "  </thead>\n",
              "  <tbody>\n",
              "    <tr>\n",
              "      <th>Não</th>\n",
              "      <td>19376201</td>\n",
              "      <td>97.93</td>\n",
              "    </tr>\n",
              "    <tr>\n",
              "      <th>Sim</th>\n",
              "      <td>409644</td>\n",
              "      <td>2.07</td>\n",
              "    </tr>\n",
              "  </tbody>\n",
              "</table>\n",
              "</div>"
            ],
            "text/plain": [
              "IN_DEF_INTELECTUAL  Frequencia  Percentual\n",
              "Não                   19376201       97.93\n",
              "Sim                     409644        2.07"
            ]
          },
          "metadata": {
            "tags": []
          }
        },
        {
          "output_type": "stream",
          "text": [
            "Sul\n"
          ],
          "name": "stdout"
        },
        {
          "output_type": "display_data",
          "data": {
            "text/html": [
              "<div>\n",
              "<style scoped>\n",
              "    .dataframe tbody tr th:only-of-type {\n",
              "        vertical-align: middle;\n",
              "    }\n",
              "\n",
              "    .dataframe tbody tr th {\n",
              "        vertical-align: top;\n",
              "    }\n",
              "\n",
              "    .dataframe thead th {\n",
              "        text-align: right;\n",
              "    }\n",
              "</style>\n",
              "<table border=\"1\" class=\"dataframe\">\n",
              "  <thead>\n",
              "    <tr style=\"text-align: right;\">\n",
              "      <th>IN_DEF_INTELECTUAL</th>\n",
              "      <th>Frequencia</th>\n",
              "      <th>Percentual</th>\n",
              "    </tr>\n",
              "  </thead>\n",
              "  <tbody>\n",
              "    <tr>\n",
              "      <th>Não</th>\n",
              "      <td>6691070</td>\n",
              "      <td>96.52</td>\n",
              "    </tr>\n",
              "    <tr>\n",
              "      <th>Sim</th>\n",
              "      <td>241056</td>\n",
              "      <td>3.48</td>\n",
              "    </tr>\n",
              "  </tbody>\n",
              "</table>\n",
              "</div>"
            ],
            "text/plain": [
              "IN_DEF_INTELECTUAL  Frequencia  Percentual\n",
              "Não                    6691070       96.52\n",
              "Sim                     241056        3.48"
            ]
          },
          "metadata": {
            "tags": []
          }
        }
      ]
    },
    {
      "cell_type": "code",
      "metadata": {
        "colab": {
          "base_uri": "https://localhost:8080/",
          "height": 551
        },
        "id": "Q98pY_euUUVT",
        "outputId": "25b92636-7cb7-4132-caca-4203454f354f"
      },
      "source": [
        "relatorio_necessidades_matriculas('IN_SURDEZ')"
      ],
      "execution_count": 59,
      "outputs": [
        {
          "output_type": "stream",
          "text": [
            "Centro_Oeste\n"
          ],
          "name": "stdout"
        },
        {
          "output_type": "display_data",
          "data": {
            "text/html": [
              "<div>\n",
              "<style scoped>\n",
              "    .dataframe tbody tr th:only-of-type {\n",
              "        vertical-align: middle;\n",
              "    }\n",
              "\n",
              "    .dataframe tbody tr th {\n",
              "        vertical-align: top;\n",
              "    }\n",
              "\n",
              "    .dataframe thead th {\n",
              "        text-align: right;\n",
              "    }\n",
              "</style>\n",
              "<table border=\"1\" class=\"dataframe\">\n",
              "  <thead>\n",
              "    <tr style=\"text-align: right;\">\n",
              "      <th>IN_SURDEZ</th>\n",
              "      <th>Frequencia</th>\n",
              "      <th>Percentual</th>\n",
              "    </tr>\n",
              "  </thead>\n",
              "  <tbody>\n",
              "    <tr>\n",
              "      <th>Não</th>\n",
              "      <td>3943241</td>\n",
              "      <td>99.94</td>\n",
              "    </tr>\n",
              "    <tr>\n",
              "      <th>Sim</th>\n",
              "      <td>2556</td>\n",
              "      <td>0.06</td>\n",
              "    </tr>\n",
              "  </tbody>\n",
              "</table>\n",
              "</div>"
            ],
            "text/plain": [
              "IN_SURDEZ  Frequencia  Percentual\n",
              "Não           3943241       99.94\n",
              "Sim              2556        0.06"
            ]
          },
          "metadata": {
            "tags": []
          }
        },
        {
          "output_type": "stream",
          "text": [
            "Nordeste\n"
          ],
          "name": "stdout"
        },
        {
          "output_type": "display_data",
          "data": {
            "text/html": [
              "<div>\n",
              "<style scoped>\n",
              "    .dataframe tbody tr th:only-of-type {\n",
              "        vertical-align: middle;\n",
              "    }\n",
              "\n",
              "    .dataframe tbody tr th {\n",
              "        vertical-align: top;\n",
              "    }\n",
              "\n",
              "    .dataframe thead th {\n",
              "        text-align: right;\n",
              "    }\n",
              "</style>\n",
              "<table border=\"1\" class=\"dataframe\">\n",
              "  <thead>\n",
              "    <tr style=\"text-align: right;\">\n",
              "      <th>IN_SURDEZ</th>\n",
              "      <th>Frequencia</th>\n",
              "      <th>Percentual</th>\n",
              "    </tr>\n",
              "  </thead>\n",
              "  <tbody>\n",
              "    <tr>\n",
              "      <th>Não</th>\n",
              "      <td>15293006</td>\n",
              "      <td>99.92</td>\n",
              "    </tr>\n",
              "    <tr>\n",
              "      <th>Sim</th>\n",
              "      <td>11583</td>\n",
              "      <td>0.08</td>\n",
              "    </tr>\n",
              "  </tbody>\n",
              "</table>\n",
              "</div>"
            ],
            "text/plain": [
              "IN_SURDEZ  Frequencia  Percentual\n",
              "Não          15293006       99.92\n",
              "Sim             11583        0.08"
            ]
          },
          "metadata": {
            "tags": []
          }
        },
        {
          "output_type": "stream",
          "text": [
            "Norte\n"
          ],
          "name": "stdout"
        },
        {
          "output_type": "display_data",
          "data": {
            "text/html": [
              "<div>\n",
              "<style scoped>\n",
              "    .dataframe tbody tr th:only-of-type {\n",
              "        vertical-align: middle;\n",
              "    }\n",
              "\n",
              "    .dataframe tbody tr th {\n",
              "        vertical-align: top;\n",
              "    }\n",
              "\n",
              "    .dataframe thead th {\n",
              "        text-align: right;\n",
              "    }\n",
              "</style>\n",
              "<table border=\"1\" class=\"dataframe\">\n",
              "  <thead>\n",
              "    <tr style=\"text-align: right;\">\n",
              "      <th>IN_SURDEZ</th>\n",
              "      <th>Frequencia</th>\n",
              "      <th>Percentual</th>\n",
              "    </tr>\n",
              "  </thead>\n",
              "  <tbody>\n",
              "    <tr>\n",
              "      <th>Não</th>\n",
              "      <td>5193814</td>\n",
              "      <td>99.91</td>\n",
              "    </tr>\n",
              "    <tr>\n",
              "      <th>Sim</th>\n",
              "      <td>4552</td>\n",
              "      <td>0.09</td>\n",
              "    </tr>\n",
              "  </tbody>\n",
              "</table>\n",
              "</div>"
            ],
            "text/plain": [
              "IN_SURDEZ  Frequencia  Percentual\n",
              "Não           5193814       99.91\n",
              "Sim              4552        0.09"
            ]
          },
          "metadata": {
            "tags": []
          }
        },
        {
          "output_type": "stream",
          "text": [
            "Sudeste\n"
          ],
          "name": "stdout"
        },
        {
          "output_type": "display_data",
          "data": {
            "text/html": [
              "<div>\n",
              "<style scoped>\n",
              "    .dataframe tbody tr th:only-of-type {\n",
              "        vertical-align: middle;\n",
              "    }\n",
              "\n",
              "    .dataframe tbody tr th {\n",
              "        vertical-align: top;\n",
              "    }\n",
              "\n",
              "    .dataframe thead th {\n",
              "        text-align: right;\n",
              "    }\n",
              "</style>\n",
              "<table border=\"1\" class=\"dataframe\">\n",
              "  <thead>\n",
              "    <tr style=\"text-align: right;\">\n",
              "      <th>IN_SURDEZ</th>\n",
              "      <th>Frequencia</th>\n",
              "      <th>Percentual</th>\n",
              "    </tr>\n",
              "  </thead>\n",
              "  <tbody>\n",
              "    <tr>\n",
              "      <th>Não</th>\n",
              "      <td>19773513</td>\n",
              "      <td>99.94</td>\n",
              "    </tr>\n",
              "    <tr>\n",
              "      <th>Sim</th>\n",
              "      <td>12332</td>\n",
              "      <td>0.06</td>\n",
              "    </tr>\n",
              "  </tbody>\n",
              "</table>\n",
              "</div>"
            ],
            "text/plain": [
              "IN_SURDEZ  Frequencia  Percentual\n",
              "Não          19773513       99.94\n",
              "Sim             12332        0.06"
            ]
          },
          "metadata": {
            "tags": []
          }
        },
        {
          "output_type": "stream",
          "text": [
            "Sul\n"
          ],
          "name": "stdout"
        },
        {
          "output_type": "display_data",
          "data": {
            "text/html": [
              "<div>\n",
              "<style scoped>\n",
              "    .dataframe tbody tr th:only-of-type {\n",
              "        vertical-align: middle;\n",
              "    }\n",
              "\n",
              "    .dataframe tbody tr th {\n",
              "        vertical-align: top;\n",
              "    }\n",
              "\n",
              "    .dataframe thead th {\n",
              "        text-align: right;\n",
              "    }\n",
              "</style>\n",
              "<table border=\"1\" class=\"dataframe\">\n",
              "  <thead>\n",
              "    <tr style=\"text-align: right;\">\n",
              "      <th>IN_SURDEZ</th>\n",
              "      <th>Frequencia</th>\n",
              "      <th>Percentual</th>\n",
              "    </tr>\n",
              "  </thead>\n",
              "  <tbody>\n",
              "    <tr>\n",
              "      <th>Não</th>\n",
              "      <td>6926819</td>\n",
              "      <td>99.92</td>\n",
              "    </tr>\n",
              "    <tr>\n",
              "      <th>Sim</th>\n",
              "      <td>5307</td>\n",
              "      <td>0.08</td>\n",
              "    </tr>\n",
              "  </tbody>\n",
              "</table>\n",
              "</div>"
            ],
            "text/plain": [
              "IN_SURDEZ  Frequencia  Percentual\n",
              "Não           6926819       99.92\n",
              "Sim              5307        0.08"
            ]
          },
          "metadata": {
            "tags": []
          }
        }
      ]
    },
    {
      "cell_type": "code",
      "metadata": {
        "colab": {
          "base_uri": "https://localhost:8080/",
          "height": 551
        },
        "id": "GkdQsis9Uag0",
        "outputId": "7220089c-fae1-4d19-90d8-66f1b775a5ed"
      },
      "source": [
        "relatorio_necessidades_matriculas('IN_SURDOCEGUEIRA')"
      ],
      "execution_count": 60,
      "outputs": [
        {
          "output_type": "stream",
          "text": [
            "Centro_Oeste\n"
          ],
          "name": "stdout"
        },
        {
          "output_type": "display_data",
          "data": {
            "text/html": [
              "<div>\n",
              "<style scoped>\n",
              "    .dataframe tbody tr th:only-of-type {\n",
              "        vertical-align: middle;\n",
              "    }\n",
              "\n",
              "    .dataframe tbody tr th {\n",
              "        vertical-align: top;\n",
              "    }\n",
              "\n",
              "    .dataframe thead th {\n",
              "        text-align: right;\n",
              "    }\n",
              "</style>\n",
              "<table border=\"1\" class=\"dataframe\">\n",
              "  <thead>\n",
              "    <tr style=\"text-align: right;\">\n",
              "      <th>IN_SURDOCEGUEIRA</th>\n",
              "      <th>Frequencia</th>\n",
              "      <th>Percentual</th>\n",
              "    </tr>\n",
              "  </thead>\n",
              "  <tbody>\n",
              "    <tr>\n",
              "      <th>Não</th>\n",
              "      <td>3945729</td>\n",
              "      <td>100.0</td>\n",
              "    </tr>\n",
              "    <tr>\n",
              "      <th>Sim</th>\n",
              "      <td>68</td>\n",
              "      <td>0.0</td>\n",
              "    </tr>\n",
              "  </tbody>\n",
              "</table>\n",
              "</div>"
            ],
            "text/plain": [
              "IN_SURDOCEGUEIRA  Frequencia  Percentual\n",
              "Não                  3945729       100.0\n",
              "Sim                       68         0.0"
            ]
          },
          "metadata": {
            "tags": []
          }
        },
        {
          "output_type": "stream",
          "text": [
            "Nordeste\n"
          ],
          "name": "stdout"
        },
        {
          "output_type": "display_data",
          "data": {
            "text/html": [
              "<div>\n",
              "<style scoped>\n",
              "    .dataframe tbody tr th:only-of-type {\n",
              "        vertical-align: middle;\n",
              "    }\n",
              "\n",
              "    .dataframe tbody tr th {\n",
              "        vertical-align: top;\n",
              "    }\n",
              "\n",
              "    .dataframe thead th {\n",
              "        text-align: right;\n",
              "    }\n",
              "</style>\n",
              "<table border=\"1\" class=\"dataframe\">\n",
              "  <thead>\n",
              "    <tr style=\"text-align: right;\">\n",
              "      <th>IN_SURDOCEGUEIRA</th>\n",
              "      <th>Frequencia</th>\n",
              "      <th>Percentual</th>\n",
              "    </tr>\n",
              "  </thead>\n",
              "  <tbody>\n",
              "    <tr>\n",
              "      <th>Não</th>\n",
              "      <td>15304296</td>\n",
              "      <td>100.0</td>\n",
              "    </tr>\n",
              "    <tr>\n",
              "      <th>Sim</th>\n",
              "      <td>293</td>\n",
              "      <td>0.0</td>\n",
              "    </tr>\n",
              "  </tbody>\n",
              "</table>\n",
              "</div>"
            ],
            "text/plain": [
              "IN_SURDOCEGUEIRA  Frequencia  Percentual\n",
              "Não                 15304296       100.0\n",
              "Sim                      293         0.0"
            ]
          },
          "metadata": {
            "tags": []
          }
        },
        {
          "output_type": "stream",
          "text": [
            "Norte\n"
          ],
          "name": "stdout"
        },
        {
          "output_type": "display_data",
          "data": {
            "text/html": [
              "<div>\n",
              "<style scoped>\n",
              "    .dataframe tbody tr th:only-of-type {\n",
              "        vertical-align: middle;\n",
              "    }\n",
              "\n",
              "    .dataframe tbody tr th {\n",
              "        vertical-align: top;\n",
              "    }\n",
              "\n",
              "    .dataframe thead th {\n",
              "        text-align: right;\n",
              "    }\n",
              "</style>\n",
              "<table border=\"1\" class=\"dataframe\">\n",
              "  <thead>\n",
              "    <tr style=\"text-align: right;\">\n",
              "      <th>IN_SURDOCEGUEIRA</th>\n",
              "      <th>Frequencia</th>\n",
              "      <th>Percentual</th>\n",
              "    </tr>\n",
              "  </thead>\n",
              "  <tbody>\n",
              "    <tr>\n",
              "      <th>Não</th>\n",
              "      <td>5198280</td>\n",
              "      <td>100.0</td>\n",
              "    </tr>\n",
              "    <tr>\n",
              "      <th>Sim</th>\n",
              "      <td>86</td>\n",
              "      <td>0.0</td>\n",
              "    </tr>\n",
              "  </tbody>\n",
              "</table>\n",
              "</div>"
            ],
            "text/plain": [
              "IN_SURDOCEGUEIRA  Frequencia  Percentual\n",
              "Não                  5198280       100.0\n",
              "Sim                       86         0.0"
            ]
          },
          "metadata": {
            "tags": []
          }
        },
        {
          "output_type": "stream",
          "text": [
            "Sudeste\n"
          ],
          "name": "stdout"
        },
        {
          "output_type": "display_data",
          "data": {
            "text/html": [
              "<div>\n",
              "<style scoped>\n",
              "    .dataframe tbody tr th:only-of-type {\n",
              "        vertical-align: middle;\n",
              "    }\n",
              "\n",
              "    .dataframe tbody tr th {\n",
              "        vertical-align: top;\n",
              "    }\n",
              "\n",
              "    .dataframe thead th {\n",
              "        text-align: right;\n",
              "    }\n",
              "</style>\n",
              "<table border=\"1\" class=\"dataframe\">\n",
              "  <thead>\n",
              "    <tr style=\"text-align: right;\">\n",
              "      <th>IN_SURDOCEGUEIRA</th>\n",
              "      <th>Frequencia</th>\n",
              "      <th>Percentual</th>\n",
              "    </tr>\n",
              "  </thead>\n",
              "  <tbody>\n",
              "    <tr>\n",
              "      <th>Não</th>\n",
              "      <td>19785654</td>\n",
              "      <td>100.0</td>\n",
              "    </tr>\n",
              "    <tr>\n",
              "      <th>Sim</th>\n",
              "      <td>191</td>\n",
              "      <td>0.0</td>\n",
              "    </tr>\n",
              "  </tbody>\n",
              "</table>\n",
              "</div>"
            ],
            "text/plain": [
              "IN_SURDOCEGUEIRA  Frequencia  Percentual\n",
              "Não                 19785654       100.0\n",
              "Sim                      191         0.0"
            ]
          },
          "metadata": {
            "tags": []
          }
        },
        {
          "output_type": "stream",
          "text": [
            "Sul\n"
          ],
          "name": "stdout"
        },
        {
          "output_type": "display_data",
          "data": {
            "text/html": [
              "<div>\n",
              "<style scoped>\n",
              "    .dataframe tbody tr th:only-of-type {\n",
              "        vertical-align: middle;\n",
              "    }\n",
              "\n",
              "    .dataframe tbody tr th {\n",
              "        vertical-align: top;\n",
              "    }\n",
              "\n",
              "    .dataframe thead th {\n",
              "        text-align: right;\n",
              "    }\n",
              "</style>\n",
              "<table border=\"1\" class=\"dataframe\">\n",
              "  <thead>\n",
              "    <tr style=\"text-align: right;\">\n",
              "      <th>IN_SURDOCEGUEIRA</th>\n",
              "      <th>Frequencia</th>\n",
              "      <th>Percentual</th>\n",
              "    </tr>\n",
              "  </thead>\n",
              "  <tbody>\n",
              "    <tr>\n",
              "      <th>Não</th>\n",
              "      <td>6931991</td>\n",
              "      <td>100.0</td>\n",
              "    </tr>\n",
              "    <tr>\n",
              "      <th>Sim</th>\n",
              "      <td>135</td>\n",
              "      <td>0.0</td>\n",
              "    </tr>\n",
              "  </tbody>\n",
              "</table>\n",
              "</div>"
            ],
            "text/plain": [
              "IN_SURDOCEGUEIRA  Frequencia  Percentual\n",
              "Não                  6931991       100.0\n",
              "Sim                      135         0.0"
            ]
          },
          "metadata": {
            "tags": []
          }
        }
      ]
    },
    {
      "cell_type": "code",
      "metadata": {
        "colab": {
          "base_uri": "https://localhost:8080/",
          "height": 551
        },
        "id": "vockN6dRUgKC",
        "outputId": "cd089782-b5f8-4acf-892b-6caba7e1c6db"
      },
      "source": [
        "relatorio_necessidades_matriculas('IN_DEF_MULTIPLA')"
      ],
      "execution_count": 61,
      "outputs": [
        {
          "output_type": "stream",
          "text": [
            "Centro_Oeste\n"
          ],
          "name": "stdout"
        },
        {
          "output_type": "display_data",
          "data": {
            "text/html": [
              "<div>\n",
              "<style scoped>\n",
              "    .dataframe tbody tr th:only-of-type {\n",
              "        vertical-align: middle;\n",
              "    }\n",
              "\n",
              "    .dataframe tbody tr th {\n",
              "        vertical-align: top;\n",
              "    }\n",
              "\n",
              "    .dataframe thead th {\n",
              "        text-align: right;\n",
              "    }\n",
              "</style>\n",
              "<table border=\"1\" class=\"dataframe\">\n",
              "  <thead>\n",
              "    <tr style=\"text-align: right;\">\n",
              "      <th>IN_DEF_MULTIPLA</th>\n",
              "      <th>Frequencia</th>\n",
              "      <th>Percentual</th>\n",
              "    </tr>\n",
              "  </thead>\n",
              "  <tbody>\n",
              "    <tr>\n",
              "      <th>Não</th>\n",
              "      <td>3933849</td>\n",
              "      <td>99.7</td>\n",
              "    </tr>\n",
              "    <tr>\n",
              "      <th>Sim</th>\n",
              "      <td>11948</td>\n",
              "      <td>0.3</td>\n",
              "    </tr>\n",
              "  </tbody>\n",
              "</table>\n",
              "</div>"
            ],
            "text/plain": [
              "IN_DEF_MULTIPLA  Frequencia  Percentual\n",
              "Não                 3933849        99.7\n",
              "Sim                   11948         0.3"
            ]
          },
          "metadata": {
            "tags": []
          }
        },
        {
          "output_type": "stream",
          "text": [
            "Nordeste\n"
          ],
          "name": "stdout"
        },
        {
          "output_type": "display_data",
          "data": {
            "text/html": [
              "<div>\n",
              "<style scoped>\n",
              "    .dataframe tbody tr th:only-of-type {\n",
              "        vertical-align: middle;\n",
              "    }\n",
              "\n",
              "    .dataframe tbody tr th {\n",
              "        vertical-align: top;\n",
              "    }\n",
              "\n",
              "    .dataframe thead th {\n",
              "        text-align: right;\n",
              "    }\n",
              "</style>\n",
              "<table border=\"1\" class=\"dataframe\">\n",
              "  <thead>\n",
              "    <tr style=\"text-align: right;\">\n",
              "      <th>IN_DEF_MULTIPLA</th>\n",
              "      <th>Frequencia</th>\n",
              "      <th>Percentual</th>\n",
              "    </tr>\n",
              "  </thead>\n",
              "  <tbody>\n",
              "    <tr>\n",
              "      <th>Não</th>\n",
              "      <td>15274130</td>\n",
              "      <td>99.8</td>\n",
              "    </tr>\n",
              "    <tr>\n",
              "      <th>Sim</th>\n",
              "      <td>30459</td>\n",
              "      <td>0.2</td>\n",
              "    </tr>\n",
              "  </tbody>\n",
              "</table>\n",
              "</div>"
            ],
            "text/plain": [
              "IN_DEF_MULTIPLA  Frequencia  Percentual\n",
              "Não                15274130        99.8\n",
              "Sim                   30459         0.2"
            ]
          },
          "metadata": {
            "tags": []
          }
        },
        {
          "output_type": "stream",
          "text": [
            "Norte\n"
          ],
          "name": "stdout"
        },
        {
          "output_type": "display_data",
          "data": {
            "text/html": [
              "<div>\n",
              "<style scoped>\n",
              "    .dataframe tbody tr th:only-of-type {\n",
              "        vertical-align: middle;\n",
              "    }\n",
              "\n",
              "    .dataframe tbody tr th {\n",
              "        vertical-align: top;\n",
              "    }\n",
              "\n",
              "    .dataframe thead th {\n",
              "        text-align: right;\n",
              "    }\n",
              "</style>\n",
              "<table border=\"1\" class=\"dataframe\">\n",
              "  <thead>\n",
              "    <tr style=\"text-align: right;\">\n",
              "      <th>IN_DEF_MULTIPLA</th>\n",
              "      <th>Frequencia</th>\n",
              "      <th>Percentual</th>\n",
              "    </tr>\n",
              "  </thead>\n",
              "  <tbody>\n",
              "    <tr>\n",
              "      <th>Não</th>\n",
              "      <td>5184768</td>\n",
              "      <td>99.74</td>\n",
              "    </tr>\n",
              "    <tr>\n",
              "      <th>Sim</th>\n",
              "      <td>13598</td>\n",
              "      <td>0.26</td>\n",
              "    </tr>\n",
              "  </tbody>\n",
              "</table>\n",
              "</div>"
            ],
            "text/plain": [
              "IN_DEF_MULTIPLA  Frequencia  Percentual\n",
              "Não                 5184768       99.74\n",
              "Sim                   13598        0.26"
            ]
          },
          "metadata": {
            "tags": []
          }
        },
        {
          "output_type": "stream",
          "text": [
            "Sudeste\n"
          ],
          "name": "stdout"
        },
        {
          "output_type": "display_data",
          "data": {
            "text/html": [
              "<div>\n",
              "<style scoped>\n",
              "    .dataframe tbody tr th:only-of-type {\n",
              "        vertical-align: middle;\n",
              "    }\n",
              "\n",
              "    .dataframe tbody tr th {\n",
              "        vertical-align: top;\n",
              "    }\n",
              "\n",
              "    .dataframe thead th {\n",
              "        text-align: right;\n",
              "    }\n",
              "</style>\n",
              "<table border=\"1\" class=\"dataframe\">\n",
              "  <thead>\n",
              "    <tr style=\"text-align: right;\">\n",
              "      <th>IN_DEF_MULTIPLA</th>\n",
              "      <th>Frequencia</th>\n",
              "      <th>Percentual</th>\n",
              "    </tr>\n",
              "  </thead>\n",
              "  <tbody>\n",
              "    <tr>\n",
              "      <th>Não</th>\n",
              "      <td>19738210</td>\n",
              "      <td>99.76</td>\n",
              "    </tr>\n",
              "    <tr>\n",
              "      <th>Sim</th>\n",
              "      <td>47635</td>\n",
              "      <td>0.24</td>\n",
              "    </tr>\n",
              "  </tbody>\n",
              "</table>\n",
              "</div>"
            ],
            "text/plain": [
              "IN_DEF_MULTIPLA  Frequencia  Percentual\n",
              "Não                19738210       99.76\n",
              "Sim                   47635        0.24"
            ]
          },
          "metadata": {
            "tags": []
          }
        },
        {
          "output_type": "stream",
          "text": [
            "Sul\n"
          ],
          "name": "stdout"
        },
        {
          "output_type": "display_data",
          "data": {
            "text/html": [
              "<div>\n",
              "<style scoped>\n",
              "    .dataframe tbody tr th:only-of-type {\n",
              "        vertical-align: middle;\n",
              "    }\n",
              "\n",
              "    .dataframe tbody tr th {\n",
              "        vertical-align: top;\n",
              "    }\n",
              "\n",
              "    .dataframe thead th {\n",
              "        text-align: right;\n",
              "    }\n",
              "</style>\n",
              "<table border=\"1\" class=\"dataframe\">\n",
              "  <thead>\n",
              "    <tr style=\"text-align: right;\">\n",
              "      <th>IN_DEF_MULTIPLA</th>\n",
              "      <th>Frequencia</th>\n",
              "      <th>Percentual</th>\n",
              "    </tr>\n",
              "  </thead>\n",
              "  <tbody>\n",
              "    <tr>\n",
              "      <th>Não</th>\n",
              "      <td>6912621</td>\n",
              "      <td>99.72</td>\n",
              "    </tr>\n",
              "    <tr>\n",
              "      <th>Sim</th>\n",
              "      <td>19505</td>\n",
              "      <td>0.28</td>\n",
              "    </tr>\n",
              "  </tbody>\n",
              "</table>\n",
              "</div>"
            ],
            "text/plain": [
              "IN_DEF_MULTIPLA  Frequencia  Percentual\n",
              "Não                 6912621       99.72\n",
              "Sim                   19505        0.28"
            ]
          },
          "metadata": {
            "tags": []
          }
        }
      ]
    },
    {
      "cell_type": "code",
      "metadata": {
        "colab": {
          "base_uri": "https://localhost:8080/",
          "height": 551
        },
        "id": "f7BwuEm3Ul1P",
        "outputId": "9790a8e6-68a3-4801-d140-819bac5d3663"
      },
      "source": [
        "relatorio_necessidades_matriculas('IN_AUTISMO')"
      ],
      "execution_count": 62,
      "outputs": [
        {
          "output_type": "stream",
          "text": [
            "Centro_Oeste\n"
          ],
          "name": "stdout"
        },
        {
          "output_type": "display_data",
          "data": {
            "text/html": [
              "<div>\n",
              "<style scoped>\n",
              "    .dataframe tbody tr th:only-of-type {\n",
              "        vertical-align: middle;\n",
              "    }\n",
              "\n",
              "    .dataframe tbody tr th {\n",
              "        vertical-align: top;\n",
              "    }\n",
              "\n",
              "    .dataframe thead th {\n",
              "        text-align: right;\n",
              "    }\n",
              "</style>\n",
              "<table border=\"1\" class=\"dataframe\">\n",
              "  <thead>\n",
              "    <tr style=\"text-align: right;\">\n",
              "      <th>IN_AUTISMO</th>\n",
              "      <th>Frequencia</th>\n",
              "      <th>Percentual</th>\n",
              "    </tr>\n",
              "  </thead>\n",
              "  <tbody>\n",
              "    <tr>\n",
              "      <th>Não</th>\n",
              "      <td>3926722</td>\n",
              "      <td>99.52</td>\n",
              "    </tr>\n",
              "    <tr>\n",
              "      <th>Sim</th>\n",
              "      <td>19075</td>\n",
              "      <td>0.48</td>\n",
              "    </tr>\n",
              "  </tbody>\n",
              "</table>\n",
              "</div>"
            ],
            "text/plain": [
              "IN_AUTISMO  Frequencia  Percentual\n",
              "Não            3926722       99.52\n",
              "Sim              19075        0.48"
            ]
          },
          "metadata": {
            "tags": []
          }
        },
        {
          "output_type": "stream",
          "text": [
            "Nordeste\n"
          ],
          "name": "stdout"
        },
        {
          "output_type": "display_data",
          "data": {
            "text/html": [
              "<div>\n",
              "<style scoped>\n",
              "    .dataframe tbody tr th:only-of-type {\n",
              "        vertical-align: middle;\n",
              "    }\n",
              "\n",
              "    .dataframe tbody tr th {\n",
              "        vertical-align: top;\n",
              "    }\n",
              "\n",
              "    .dataframe thead th {\n",
              "        text-align: right;\n",
              "    }\n",
              "</style>\n",
              "<table border=\"1\" class=\"dataframe\">\n",
              "  <thead>\n",
              "    <tr style=\"text-align: right;\">\n",
              "      <th>IN_AUTISMO</th>\n",
              "      <th>Frequencia</th>\n",
              "      <th>Percentual</th>\n",
              "    </tr>\n",
              "  </thead>\n",
              "  <tbody>\n",
              "    <tr>\n",
              "      <th>Não</th>\n",
              "      <td>15218190</td>\n",
              "      <td>99.44</td>\n",
              "    </tr>\n",
              "    <tr>\n",
              "      <th>Sim</th>\n",
              "      <td>86399</td>\n",
              "      <td>0.56</td>\n",
              "    </tr>\n",
              "  </tbody>\n",
              "</table>\n",
              "</div>"
            ],
            "text/plain": [
              "IN_AUTISMO  Frequencia  Percentual\n",
              "Não           15218190       99.44\n",
              "Sim              86399        0.56"
            ]
          },
          "metadata": {
            "tags": []
          }
        },
        {
          "output_type": "stream",
          "text": [
            "Norte\n"
          ],
          "name": "stdout"
        },
        {
          "output_type": "display_data",
          "data": {
            "text/html": [
              "<div>\n",
              "<style scoped>\n",
              "    .dataframe tbody tr th:only-of-type {\n",
              "        vertical-align: middle;\n",
              "    }\n",
              "\n",
              "    .dataframe tbody tr th {\n",
              "        vertical-align: top;\n",
              "    }\n",
              "\n",
              "    .dataframe thead th {\n",
              "        text-align: right;\n",
              "    }\n",
              "</style>\n",
              "<table border=\"1\" class=\"dataframe\">\n",
              "  <thead>\n",
              "    <tr style=\"text-align: right;\">\n",
              "      <th>IN_AUTISMO</th>\n",
              "      <th>Frequencia</th>\n",
              "      <th>Percentual</th>\n",
              "    </tr>\n",
              "  </thead>\n",
              "  <tbody>\n",
              "    <tr>\n",
              "      <th>Não</th>\n",
              "      <td>5168293</td>\n",
              "      <td>99.42</td>\n",
              "    </tr>\n",
              "    <tr>\n",
              "      <th>Sim</th>\n",
              "      <td>30073</td>\n",
              "      <td>0.58</td>\n",
              "    </tr>\n",
              "  </tbody>\n",
              "</table>\n",
              "</div>"
            ],
            "text/plain": [
              "IN_AUTISMO  Frequencia  Percentual\n",
              "Não            5168293       99.42\n",
              "Sim              30073        0.58"
            ]
          },
          "metadata": {
            "tags": []
          }
        },
        {
          "output_type": "stream",
          "text": [
            "Sudeste\n"
          ],
          "name": "stdout"
        },
        {
          "output_type": "display_data",
          "data": {
            "text/html": [
              "<div>\n",
              "<style scoped>\n",
              "    .dataframe tbody tr th:only-of-type {\n",
              "        vertical-align: middle;\n",
              "    }\n",
              "\n",
              "    .dataframe tbody tr th {\n",
              "        vertical-align: top;\n",
              "    }\n",
              "\n",
              "    .dataframe thead th {\n",
              "        text-align: right;\n",
              "    }\n",
              "</style>\n",
              "<table border=\"1\" class=\"dataframe\">\n",
              "  <thead>\n",
              "    <tr style=\"text-align: right;\">\n",
              "      <th>IN_AUTISMO</th>\n",
              "      <th>Frequencia</th>\n",
              "      <th>Percentual</th>\n",
              "    </tr>\n",
              "  </thead>\n",
              "  <tbody>\n",
              "    <tr>\n",
              "      <th>Não</th>\n",
              "      <td>19705723</td>\n",
              "      <td>99.6</td>\n",
              "    </tr>\n",
              "    <tr>\n",
              "      <th>Sim</th>\n",
              "      <td>80122</td>\n",
              "      <td>0.4</td>\n",
              "    </tr>\n",
              "  </tbody>\n",
              "</table>\n",
              "</div>"
            ],
            "text/plain": [
              "IN_AUTISMO  Frequencia  Percentual\n",
              "Não           19705723        99.6\n",
              "Sim              80122         0.4"
            ]
          },
          "metadata": {
            "tags": []
          }
        },
        {
          "output_type": "stream",
          "text": [
            "Sul\n"
          ],
          "name": "stdout"
        },
        {
          "output_type": "display_data",
          "data": {
            "text/html": [
              "<div>\n",
              "<style scoped>\n",
              "    .dataframe tbody tr th:only-of-type {\n",
              "        vertical-align: middle;\n",
              "    }\n",
              "\n",
              "    .dataframe tbody tr th {\n",
              "        vertical-align: top;\n",
              "    }\n",
              "\n",
              "    .dataframe thead th {\n",
              "        text-align: right;\n",
              "    }\n",
              "</style>\n",
              "<table border=\"1\" class=\"dataframe\">\n",
              "  <thead>\n",
              "    <tr style=\"text-align: right;\">\n",
              "      <th>IN_AUTISMO</th>\n",
              "      <th>Frequencia</th>\n",
              "      <th>Percentual</th>\n",
              "    </tr>\n",
              "  </thead>\n",
              "  <tbody>\n",
              "    <tr>\n",
              "      <th>Não</th>\n",
              "      <td>6882355</td>\n",
              "      <td>99.28</td>\n",
              "    </tr>\n",
              "    <tr>\n",
              "      <th>Sim</th>\n",
              "      <td>49771</td>\n",
              "      <td>0.72</td>\n",
              "    </tr>\n",
              "  </tbody>\n",
              "</table>\n",
              "</div>"
            ],
            "text/plain": [
              "IN_AUTISMO  Frequencia  Percentual\n",
              "Não            6882355       99.28\n",
              "Sim              49771        0.72"
            ]
          },
          "metadata": {
            "tags": []
          }
        }
      ]
    },
    {
      "cell_type": "code",
      "metadata": {
        "colab": {
          "base_uri": "https://localhost:8080/",
          "height": 551
        },
        "id": "kMY_W95IUpp4",
        "outputId": "02a6c7eb-8fcf-4431-90cc-c1d0052bc0d4"
      },
      "source": [
        "relatorio_necessidades_matriculas('IN_SUPERDOTACAO')"
      ],
      "execution_count": 63,
      "outputs": [
        {
          "output_type": "stream",
          "text": [
            "Centro_Oeste\n"
          ],
          "name": "stdout"
        },
        {
          "output_type": "display_data",
          "data": {
            "text/html": [
              "<div>\n",
              "<style scoped>\n",
              "    .dataframe tbody tr th:only-of-type {\n",
              "        vertical-align: middle;\n",
              "    }\n",
              "\n",
              "    .dataframe tbody tr th {\n",
              "        vertical-align: top;\n",
              "    }\n",
              "\n",
              "    .dataframe thead th {\n",
              "        text-align: right;\n",
              "    }\n",
              "</style>\n",
              "<table border=\"1\" class=\"dataframe\">\n",
              "  <thead>\n",
              "    <tr style=\"text-align: right;\">\n",
              "      <th>IN_SUPERDOTACAO</th>\n",
              "      <th>Frequencia</th>\n",
              "      <th>Percentual</th>\n",
              "    </tr>\n",
              "  </thead>\n",
              "  <tbody>\n",
              "    <tr>\n",
              "      <th>Não</th>\n",
              "      <td>3940519</td>\n",
              "      <td>99.87</td>\n",
              "    </tr>\n",
              "    <tr>\n",
              "      <th>Sim</th>\n",
              "      <td>5278</td>\n",
              "      <td>0.13</td>\n",
              "    </tr>\n",
              "  </tbody>\n",
              "</table>\n",
              "</div>"
            ],
            "text/plain": [
              "IN_SUPERDOTACAO  Frequencia  Percentual\n",
              "Não                 3940519       99.87\n",
              "Sim                    5278        0.13"
            ]
          },
          "metadata": {
            "tags": []
          }
        },
        {
          "output_type": "stream",
          "text": [
            "Nordeste\n"
          ],
          "name": "stdout"
        },
        {
          "output_type": "display_data",
          "data": {
            "text/html": [
              "<div>\n",
              "<style scoped>\n",
              "    .dataframe tbody tr th:only-of-type {\n",
              "        vertical-align: middle;\n",
              "    }\n",
              "\n",
              "    .dataframe tbody tr th {\n",
              "        vertical-align: top;\n",
              "    }\n",
              "\n",
              "    .dataframe thead th {\n",
              "        text-align: right;\n",
              "    }\n",
              "</style>\n",
              "<table border=\"1\" class=\"dataframe\">\n",
              "  <thead>\n",
              "    <tr style=\"text-align: right;\">\n",
              "      <th>IN_SUPERDOTACAO</th>\n",
              "      <th>Frequencia</th>\n",
              "      <th>Percentual</th>\n",
              "    </tr>\n",
              "  </thead>\n",
              "  <tbody>\n",
              "    <tr>\n",
              "      <th>Não</th>\n",
              "      <td>15297779</td>\n",
              "      <td>99.96</td>\n",
              "    </tr>\n",
              "    <tr>\n",
              "      <th>Sim</th>\n",
              "      <td>6810</td>\n",
              "      <td>0.04</td>\n",
              "    </tr>\n",
              "  </tbody>\n",
              "</table>\n",
              "</div>"
            ],
            "text/plain": [
              "IN_SUPERDOTACAO  Frequencia  Percentual\n",
              "Não                15297779       99.96\n",
              "Sim                    6810        0.04"
            ]
          },
          "metadata": {
            "tags": []
          }
        },
        {
          "output_type": "stream",
          "text": [
            "Norte\n"
          ],
          "name": "stdout"
        },
        {
          "output_type": "display_data",
          "data": {
            "text/html": [
              "<div>\n",
              "<style scoped>\n",
              "    .dataframe tbody tr th:only-of-type {\n",
              "        vertical-align: middle;\n",
              "    }\n",
              "\n",
              "    .dataframe tbody tr th {\n",
              "        vertical-align: top;\n",
              "    }\n",
              "\n",
              "    .dataframe thead th {\n",
              "        text-align: right;\n",
              "    }\n",
              "</style>\n",
              "<table border=\"1\" class=\"dataframe\">\n",
              "  <thead>\n",
              "    <tr style=\"text-align: right;\">\n",
              "      <th>IN_SUPERDOTACAO</th>\n",
              "      <th>Frequencia</th>\n",
              "      <th>Percentual</th>\n",
              "    </tr>\n",
              "  </thead>\n",
              "  <tbody>\n",
              "    <tr>\n",
              "      <th>Não</th>\n",
              "      <td>5194428</td>\n",
              "      <td>99.92</td>\n",
              "    </tr>\n",
              "    <tr>\n",
              "      <th>Sim</th>\n",
              "      <td>3938</td>\n",
              "      <td>0.08</td>\n",
              "    </tr>\n",
              "  </tbody>\n",
              "</table>\n",
              "</div>"
            ],
            "text/plain": [
              "IN_SUPERDOTACAO  Frequencia  Percentual\n",
              "Não                 5194428       99.92\n",
              "Sim                    3938        0.08"
            ]
          },
          "metadata": {
            "tags": []
          }
        },
        {
          "output_type": "stream",
          "text": [
            "Sudeste\n"
          ],
          "name": "stdout"
        },
        {
          "output_type": "display_data",
          "data": {
            "text/html": [
              "<div>\n",
              "<style scoped>\n",
              "    .dataframe tbody tr th:only-of-type {\n",
              "        vertical-align: middle;\n",
              "    }\n",
              "\n",
              "    .dataframe tbody tr th {\n",
              "        vertical-align: top;\n",
              "    }\n",
              "\n",
              "    .dataframe thead th {\n",
              "        text-align: right;\n",
              "    }\n",
              "</style>\n",
              "<table border=\"1\" class=\"dataframe\">\n",
              "  <thead>\n",
              "    <tr style=\"text-align: right;\">\n",
              "      <th>IN_SUPERDOTACAO</th>\n",
              "      <th>Frequencia</th>\n",
              "      <th>Percentual</th>\n",
              "    </tr>\n",
              "  </thead>\n",
              "  <tbody>\n",
              "    <tr>\n",
              "      <th>Não</th>\n",
              "      <td>19734193</td>\n",
              "      <td>99.74</td>\n",
              "    </tr>\n",
              "    <tr>\n",
              "      <th>Sim</th>\n",
              "      <td>51652</td>\n",
              "      <td>0.26</td>\n",
              "    </tr>\n",
              "  </tbody>\n",
              "</table>\n",
              "</div>"
            ],
            "text/plain": [
              "IN_SUPERDOTACAO  Frequencia  Percentual\n",
              "Não                19734193       99.74\n",
              "Sim                   51652        0.26"
            ]
          },
          "metadata": {
            "tags": []
          }
        },
        {
          "output_type": "stream",
          "text": [
            "Sul\n"
          ],
          "name": "stdout"
        },
        {
          "output_type": "display_data",
          "data": {
            "text/html": [
              "<div>\n",
              "<style scoped>\n",
              "    .dataframe tbody tr th:only-of-type {\n",
              "        vertical-align: middle;\n",
              "    }\n",
              "\n",
              "    .dataframe tbody tr th {\n",
              "        vertical-align: top;\n",
              "    }\n",
              "\n",
              "    .dataframe thead th {\n",
              "        text-align: right;\n",
              "    }\n",
              "</style>\n",
              "<table border=\"1\" class=\"dataframe\">\n",
              "  <thead>\n",
              "    <tr style=\"text-align: right;\">\n",
              "      <th>IN_SUPERDOTACAO</th>\n",
              "      <th>Frequencia</th>\n",
              "      <th>Percentual</th>\n",
              "    </tr>\n",
              "  </thead>\n",
              "  <tbody>\n",
              "    <tr>\n",
              "      <th>Não</th>\n",
              "      <td>6922087</td>\n",
              "      <td>99.86</td>\n",
              "    </tr>\n",
              "    <tr>\n",
              "      <th>Sim</th>\n",
              "      <td>10039</td>\n",
              "      <td>0.14</td>\n",
              "    </tr>\n",
              "  </tbody>\n",
              "</table>\n",
              "</div>"
            ],
            "text/plain": [
              "IN_SUPERDOTACAO  Frequencia  Percentual\n",
              "Não                 6922087       99.86\n",
              "Sim                   10039        0.14"
            ]
          },
          "metadata": {
            "tags": []
          }
        }
      ]
    },
    {
      "cell_type": "markdown",
      "metadata": {
        "id": "5tqGZ6MeLCYk"
      },
      "source": [
        "<strong><font color='blue'>Análise:</font></strong> Esse bloco de resultados é bem interessantes, e pode nortear políticas públicas com foco na acessíbilidade dos equipamentos para as pessoas com necessidades especiais ou algum tipo de deficiência.<p>\r\n",
        "É possível perceber que é necessário manter as escolas equipadas para atender as pessoas com os mais variados tipos de necessidades, pois elas são variadas em tipos e também em intensidade, uma pessoa que tem baixa visão tem necessidade de pisos táteis com bastante contraste para sua mobilidade, a pessoa com cegueira precisa de pisos táteis com balizadores para sua bengala, bem posicionados e seguros, livres de obstáculos, outro equipamento que auxília os cegos são os corrimãos com guarda corpo, que possuem indicadores de inicio e término, também em alguns, existem placas em braile alertando para o andar, que torna rampas e escadas muito mais seguras.<p>\r\n",
        "Esses corrimãos também são muito úteis para pessoas com algum tipo de deficiência física de mobilidade.<p>\r\n",
        "Não farei uma análise profunda sobre essas quantidades, até porque não é o foco da minha pesquisa, mas podemos verificar que a sensação dos alunos na pesquisa PeNSE da presença de colegas com algum tipo de necessidade se justifica, eles realmente existem e estão ali, não são numericamente equivalentes, uma vez que a sensação é maior do que a quantidade de alunos, o que mostra que as crianças e adolescentes são altamente impressionáveis.<p>\r\n"
      ]
    },
    {
      "cell_type": "markdown",
      "metadata": {
        "id": "s4MoRpycRARR"
      },
      "source": [
        "##<font color='red'>Conclusão:</font> \r\n",
        "Meu objetivo com essa pesquisa, era apronfudar meu conhecimento nessa base de dados, mas tentando observar um tema do qual desde o início eu imaginei que não conseguiria obter fortes indícios de nada, pois a pesquisa PeNSE depende muito de fatores emocionais, principalmente para os indicadores que escolhi, dos quais os estudantes não tem total entendimento e conhecimento.<p>\r\n",
        "Contudo ao decidir utilizar esses dados como parâmetros preliminares para iniciar minha pesquisa e gerar minhas hipóteses, consegui as informações que precisava para buscar mais.<p>\r\n",
        "Então ao recorrer aos dados do Censo Escolar 2019, que se mostraram mais precisos, embora mais desafiadores, pois são arquivos muito maiores, que me exigiram maior poder de processamento ao extrair os dados e montar as bases de dados, tratar e analisar os dados, me senti muito feliz, pois sinto que consegui comprovar algumas das hipóteses que levantei com a primeira análise.<p>\r\n",
        "Os dados levantados infelizmente trouxeram a tona o que parece fazer parte das políticas públicas atuais, que tem como orientação segregar cada vez mais as pessoas com necessidades especiais.<p>\r\n",
        "Embora a constituição federal garanta o direito a matrícula de qualquer pessoa, inclusive as com necessidades especiais ou qualquer tipo de deficiência, <a href='http://portal.mec.gov.br/component/tags/tag/31872-educacao-inclusiva'>conforme matéria sobre educação inclusiva do MEC.</a> \r\n",
        "Porém <a href='https://www.correiobraziliense.com.br/euestudante/2020/10/4879645-nova-politica-de-educacao-especial-propoe-separacao-de-alunos.html'>Política Nacional de Educação Especial (PNEE), que incentiva a segregação de estudantes com deficiência</a> conforme o <a href='https://www.in.gov.br/en/web/dou/-/decreto-n-10.502-de-30-de-setembro-de-2020-280529948'>DECRETO Nº 10.502, DE 30 DE SETEMBRO DE 2020</a> tenta garantir a inclusão social com a educação especial, mas o decreto para inserir a pessoas com necessidades especiais ou deficiência, segrega em turmas especiais o que num futuro próximo deve culminar por aprofundar cada vez mais a exclusão social da população com necessidades especiais e deficiências.<p> "
      ]
    }
  ]
}