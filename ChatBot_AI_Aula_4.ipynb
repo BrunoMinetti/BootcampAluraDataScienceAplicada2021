{
  "nbformat": 4,
  "nbformat_minor": 0,
  "metadata": {
    "colab": {
      "provenance": [],
      "authorship_tag": "ABX9TyNb0eXwELvoPtQhDXD2LE/s",
      "include_colab_link": true
    },
    "kernelspec": {
      "name": "python3",
      "display_name": "Python 3"
    },
    "language_info": {
      "name": "python"
    }
  },
  "cells": [
    {
      "cell_type": "markdown",
      "metadata": {
        "id": "view-in-github",
        "colab_type": "text"
      },
      "source": [
        "<a href=\"https://colab.research.google.com/github/BrunoMinetti/BootcampAluraDataScienceAplicada2021/blob/main/ChatBot_AI_Aula_4.ipynb\" target=\"_parent\"><img src=\"https://colab.research.google.com/assets/colab-badge.svg\" alt=\"Open In Colab\"/></a>"
      ]
    },
    {
      "cell_type": "code",
      "source": [
        "!pip install -q -U google-generativeai\n",
        "'''\n",
        "-q é para ele rodar o pip de modo silencioso, sem mostrar as etapas de\n",
        "instalação e o -U é caso já tenha instalado uma versão mais recente do\n",
        "google-generativeai, será feito o update automaticamente, para a última\n",
        " versão disponível.\n",
        " '''\n"
      ],
      "metadata": {
        "colab": {
          "base_uri": "https://localhost:8080/",
          "height": 54
        },
        "id": "7Vh8oUOObtvL",
        "outputId": "d05be990-a1e4-447a-abd5-ad9113980090"
      },
      "execution_count": 1,
      "outputs": [
        {
          "output_type": "execute_result",
          "data": {
            "text/plain": [
              "'\\n-q é para ele rodar o pip de modo silencioso, sem mostrar as etapas de \\ninstalação e o -U é caso já tenha instalado uma versão mais recente do \\ngoogle-generativeai, será feito o update automaticamente, para a última\\n versão disponível.\\n '"
            ],
            "application/vnd.google.colaboratory.intrinsic+json": {
              "type": "string"
            }
          },
          "metadata": {},
          "execution_count": 1
        }
      ]
    },
    {
      "cell_type": "code",
      "source": [
        "# Import the Python SDK\n",
        "import google.generativeai as genai\n",
        "from google.colab import userdata\n",
        "API_Key = userdata.get(\"Secret_Key\")\n",
        "genai.configure(api_key=API_Key)"
      ],
      "metadata": {
        "id": "3vdXe45KbuX8"
      },
      "execution_count": 2,
      "outputs": []
    },
    {
      "cell_type": "markdown",
      "source": [
        "Listar os modelos disponíveis"
      ],
      "metadata": {
        "id": "ccH1XdbMetP2"
      }
    },
    {
      "cell_type": "code",
      "source": [
        "for m in genai.list_models():\n",
        "    if 'generateContent' in m.supported_generation_methods:\n",
        "        print(m.name)"
      ],
      "metadata": {
        "colab": {
          "base_uri": "https://localhost:8080/",
          "height": 145
        },
        "id": "6AJLcJN2efGw",
        "outputId": "30cda23c-57a5-466e-a6f9-efd6826849ba"
      },
      "execution_count": 3,
      "outputs": [
        {
          "output_type": "stream",
          "name": "stdout",
          "text": [
            "models/gemini-1.0-pro\n",
            "models/gemini-1.0-pro-001\n",
            "models/gemini-1.0-pro-latest\n",
            "models/gemini-1.0-pro-vision-latest\n",
            "models/gemini-1.5-pro-latest\n",
            "models/gemini-pro\n",
            "models/gemini-pro-vision\n"
          ]
        }
      ]
    },
    {
      "cell_type": "markdown",
      "source": [
        "Definindo as configurações do modelo"
      ],
      "metadata": {
        "id": "4Y9LRb4cocSU"
      }
    },
    {
      "cell_type": "code",
      "source": [
        "generation_config = {\n",
        "    \"candidate_count\": 1,\n",
        "    \"temperature\": 0.5,\n",
        "}"
      ],
      "metadata": {
        "id": "5l9nVRkzfiJ4"
      },
      "execution_count": 4,
      "outputs": []
    },
    {
      "cell_type": "markdown",
      "source": [
        "Definindo as configurações de segurança"
      ],
      "metadata": {
        "id": "rRcVQmAhojpp"
      }
    },
    {
      "cell_type": "code",
      "source": [
        "safety_settings = {\n",
        "    \"HARASSMENT\": \"BLOCK_NONE\",\n",
        "    \"HATE\": \"BLOCK_NONE\",\n",
        "    \"SEXUAL\": \"BLOCK_NONE\",\n",
        "    \"DANGEROUS\": \"BLOCK_NONE\",\n",
        "}"
      ],
      "metadata": {
        "id": "5fixffZKlDwO"
      },
      "execution_count": 5,
      "outputs": []
    },
    {
      "cell_type": "markdown",
      "source": [
        "Inicializando o modelo"
      ],
      "metadata": {
        "id": "_QfFmr-NrHSA"
      }
    },
    {
      "cell_type": "code",
      "source": [
        "model = genai.GenerativeModel(model_name=\"gemini-1.0-pro\",\n",
        "                              generation_config=generation_config,\n",
        "                              safety_settings=safety_settings)"
      ],
      "metadata": {
        "id": "Gz-CqgmzobR6"
      },
      "execution_count": 6,
      "outputs": []
    },
    {
      "cell_type": "markdown",
      "source": [
        "Testando se o modelo está funcionando corretamente."
      ],
      "metadata": {
        "id": "GRwFUOCmssVM"
      }
    },
    {
      "cell_type": "code",
      "source": [
        "response = model.generate_content(\"Vamos aprender conteúdo sobre IA. Me dê sugestões\")\n",
        "print(response.text)"
      ],
      "metadata": {
        "colab": {
          "base_uri": "https://localhost:8080/",
          "height": 784
        },
        "id": "VHb2ruEJr45J",
        "outputId": "9a63e7f7-37af-491f-d5c5-977553b2648c"
      },
      "execution_count": 7,
      "outputs": [
        {
          "output_type": "stream",
          "name": "stdout",
          "text": [
            "**Conceitos Fundamentais de IA**\n",
            "\n",
            "* Definição e tipos de IA\n",
            "* Aprendizado de máquina, aprendizado profundo e aprendizado por reforço\n",
            "* Redes neurais e processamento de linguagem natural\n",
            "* Visão computacional e reconhecimento de padrões\n",
            "\n",
            "**Aplicações de IA**\n",
            "\n",
            "* IA na saúde: diagnóstico, tratamento e pesquisa\n",
            "* IA em finanças: análise de dados, negociação automatizada e gestão de risco\n",
            "* IA no varejo: personalização, recomendações e atendimento ao cliente\n",
            "* IA na manufatura: automação, otimização de processos e controle de qualidade\n",
            "* IA na segurança cibernética: detecção e prevenção de ameaças\n",
            "\n",
            "**Ética e Implicações da IA**\n",
            "\n",
            "* Viés e discriminação em algoritmos de IA\n",
            "* Impacto no mercado de trabalho e automação\n",
            "* Regulamentação e políticas de IA\n",
            "* Responsabilidade e segurança em sistemas de IA\n",
            "\n",
            "**Desenvolvimento e Implementação de IA**\n",
            "\n",
            "* Metodologias de desenvolvimento de IA\n",
            "* Ferramentas e bibliotecas de IA\n",
            "* Implantação e manutenção de sistemas de IA\n",
            "* Avaliação e monitoramento do desempenho da IA\n",
            "\n",
            "**Tendências e Avanços em IA**\n",
            "\n",
            "* IA generativa e modelos de linguagem grandes\n",
            "* IA quântica e computação de borda\n",
            "* IA para o bem social e sustentabilidade\n",
            "* O futuro da IA e seu impacto na sociedade\n",
            "\n",
            "**Recursos Adicionais**\n",
            "\n",
            "* Cursos e certificações online de IA\n",
            "* Comunidades e fóruns de IA\n",
            "* Livros e artigos de pesquisa sobre IA\n",
            "* Conferências e eventos da indústria de IA\n"
          ]
        }
      ]
    },
    {
      "cell_type": "markdown",
      "source": [
        "Definindo a variável do nosso chatbot, estamos iniciando a lista de histórico, para que ele vá guardando as nossas perguntas e utilizando-as para definir os contextos e a interação entre cada solicitação."
      ],
      "metadata": {
        "id": "BTw-nK8auq8c"
      }
    },
    {
      "cell_type": "code",
      "source": [
        "chat = model.start_chat(history=[])"
      ],
      "metadata": {
        "id": "ET1FobGas_KE"
      },
      "execution_count": 8,
      "outputs": []
    },
    {
      "cell_type": "code",
      "source": [
        "prompt = input(\"Esperando prompt: \")\n",
        "\n",
        "while prompt != \"fim\":\n",
        "    response = chat.send_message(prompt)\n",
        "    print(\"Resposta: \", response.text, \"\\n\")\n",
        "    prompt = input(\"Esperando prompt: \")"
      ],
      "metadata": {
        "colab": {
          "base_uri": "https://localhost:8080/",
          "height": 439
        },
        "id": "NddNFtSptUIV",
        "outputId": "2ce9797e-87cb-4d4d-f91a-a527c98005c8"
      },
      "execution_count": 9,
      "outputs": [
        {
          "name": "stdout",
          "output_type": "stream",
          "text": [
            "Esperando prompt: Qual é a comida favorita do coelho\n",
            "Resposta:  Cenoura \n",
            "\n",
            "Esperando prompt: Que é uma?\n",
            "Resposta:  Uma cenoura é um vegetal de raiz laranja comestível, com uma forma cônica e uma polpa crocante e doce. É uma boa fonte de vitaminas, minerais e fibras. As cenouras são frequentemente comidas cruas, mas também podem ser cozidas, assadas ou refogadas. \n",
            "\n",
            "Esperando prompt: Qual é um bolo clássico feito com esse ingrediente?\n",
            "Resposta:  Bolo de cenoura\n",
            "\n",
            "O bolo de cenoura é um bolo clássico feito com cenouras raladas, especiarias quentes como canela e noz-moscada e uma cobertura de cream cheese. É um bolo denso e úmido com um sabor doce e picante. O bolo de cenoura é frequentemente servido como sobremesa ou lanche e pode ser decorado com nozes picadas ou cenouras glaceadas. \n",
            "\n",
            "Esperando prompt: Qual é o país de origem desse bolo?\n",
            "Resposta:  Estados Unidos\n",
            "\n",
            "O bolo de cenoura é um bolo clássico americano que se acredita ter se originado no início do século XX. A primeira receita conhecida de bolo de cenoura foi publicada em 1927 no livro de receitas \"War Cakes\" de Ruth Wakefield, da Toll House Cookie. O bolo de cenoura ganhou popularidade durante a Segunda Guerra Mundial, quando as cenouras eram abundantes e o açúcar era escasso. O bolo de cenoura ainda é um bolo popular hoje, apreciado por seu sabor doce e picante e textura úmida. \n",
            "\n",
            "Esperando prompt: Qual é a capital desse país?\n",
            "Resposta:  Washington, D.C.\n",
            "\n",
            "Washington, D.C. (Distrito de Columbia) é a capital dos Estados Unidos. É uma cidade independente localizada na costa leste dos Estados Unidos, entre os estados de Maryland e Virgínia. Washington, D.C. abriga o governo federal dos Estados Unidos e é também um importante centro cultural e turístico. \n",
            "\n",
            "Esperando prompt: fim\n"
          ]
        }
      ]
    },
    {
      "cell_type": "code",
      "source": [
        "chat"
      ],
      "metadata": {
        "colab": {
          "base_uri": "https://localhost:8080/"
        },
        "id": "lPZdDhGM3frL",
        "outputId": "97708302-e78b-4dd8-9cf1-29637f5ca957"
      },
      "execution_count": 10,
      "outputs": [
        {
          "output_type": "execute_result",
          "data": {
            "text/plain": [
              "ChatSession(\n",
              "    model=genai.GenerativeModel(\n",
              "        model_name='models/gemini-1.0-pro',\n",
              "        generation_config={'candidate_count': 1, 'temperature': 0.5},\n",
              "        safety_settings={<HarmCategory.HARM_CATEGORY_HARASSMENT: 7>: <HarmBlockThreshold.BLOCK_NONE: 4>, <HarmCategory.HARM_CATEGORY_HATE_SPEECH: 8>: <HarmBlockThreshold.BLOCK_NONE: 4>, <HarmCategory.HARM_CATEGORY_SEXUALLY_EXPLICIT: 9>: <HarmBlockThreshold.BLOCK_NONE: 4>, <HarmCategory.HARM_CATEGORY_DANGEROUS_CONTENT: 10>: <HarmBlockThreshold.BLOCK_NONE: 4>},\n",
              "        tools=None,\n",
              "        system_instruction=None,\n",
              "    ),\n",
              "    history=[glm.Content({'parts': [{'text': 'Qual é a com...ita do coelho'}], 'role': 'user'}), glm.Content({'parts': [{'text': 'Cenoura'}], 'role': 'model'}), glm.Content({'parts': [{'text': 'Que é uma?'}], 'role': 'user'}), glm.Content({'parts': [{'text': 'Uma cenoura ...ou refogadas.'}], 'role': 'model'}), glm.Content({'parts': [{'text': 'Qual é um bo... ingrediente?'}], 'role': 'user'}), glm.Content({'parts': [{'text': 'Bolo de ceno...as glaceadas.'}], 'role': 'model'}), glm.Content({'parts': [{'text': 'Qual é o paí...m desse bolo?'}], 'role': 'user'}), glm.Content({'parts': [{'text': 'Estados Unid...extura úmida.'}], 'role': 'model'}), glm.Content({'parts': [{'text': 'Qual é a capital desse país?'}], 'role': 'user'}), glm.Content({'parts': [{'text': 'Washington, ... e turístico.'}], 'role': 'model'})]\n",
              ")"
            ]
          },
          "metadata": {},
          "execution_count": 10
        }
      ]
    },
    {
      "cell_type": "code",
      "source": [
        "chat.history"
      ],
      "metadata": {
        "colab": {
          "base_uri": "https://localhost:8080/"
        },
        "id": "tcy5AZGi3qVz",
        "outputId": "82f84d33-0ec5-4622-f593-4587d776622b"
      },
      "execution_count": 11,
      "outputs": [
        {
          "output_type": "execute_result",
          "data": {
            "text/plain": [
              "[parts {\n",
              "   text: \"Qual \\303\\251 a comida favorita do coelho\"\n",
              " }\n",
              " role: \"user\",\n",
              " parts {\n",
              "   text: \"Cenoura\"\n",
              " }\n",
              " role: \"model\",\n",
              " parts {\n",
              "   text: \"Que \\303\\251 uma?\"\n",
              " }\n",
              " role: \"user\",\n",
              " parts {\n",
              "   text: \"Uma cenoura \\303\\251 um vegetal de raiz laranja comest\\303\\255vel, com uma forma c\\303\\264nica e uma polpa crocante e doce. \\303\\211 uma boa fonte de vitaminas, minerais e fibras. As cenouras s\\303\\243o frequentemente comidas cruas, mas tamb\\303\\251m podem ser cozidas, assadas ou refogadas.\"\n",
              " }\n",
              " role: \"model\",\n",
              " parts {\n",
              "   text: \"Qual \\303\\251 um bolo cl\\303\\241ssico feito com esse ingrediente?\"\n",
              " }\n",
              " role: \"user\",\n",
              " parts {\n",
              "   text: \"Bolo de cenoura\\n\\nO bolo de cenoura \\303\\251 um bolo cl\\303\\241ssico feito com cenouras raladas, especiarias quentes como canela e noz-moscada e uma cobertura de cream cheese. \\303\\211 um bolo denso e \\303\\272mido com um sabor doce e picante. O bolo de cenoura \\303\\251 frequentemente servido como sobremesa ou lanche e pode ser decorado com nozes picadas ou cenouras glaceadas.\"\n",
              " }\n",
              " role: \"model\",\n",
              " parts {\n",
              "   text: \"Qual \\303\\251 o pa\\303\\255s de origem desse bolo?\"\n",
              " }\n",
              " role: \"user\",\n",
              " parts {\n",
              "   text: \"Estados Unidos\\n\\nO bolo de cenoura \\303\\251 um bolo cl\\303\\241ssico americano que se acredita ter se originado no in\\303\\255cio do s\\303\\251culo XX. A primeira receita conhecida de bolo de cenoura foi publicada em 1927 no livro de receitas \\\"War Cakes\\\" de Ruth Wakefield, da Toll House Cookie. O bolo de cenoura ganhou popularidade durante a Segunda Guerra Mundial, quando as cenouras eram abundantes e o a\\303\\247\\303\\272car era escasso. O bolo de cenoura ainda \\303\\251 um bolo popular hoje, apreciado por seu sabor doce e picante e textura \\303\\272mida.\"\n",
              " }\n",
              " role: \"model\",\n",
              " parts {\n",
              "   text: \"Qual \\303\\251 a capital desse pa\\303\\255s?\"\n",
              " }\n",
              " role: \"user\",\n",
              " parts {\n",
              "   text: \"Washington, D.C.\\n\\nWashington, D.C. (Distrito de Columbia) \\303\\251 a capital dos Estados Unidos. \\303\\211 uma cidade independente localizada na costa leste dos Estados Unidos, entre os estados de Maryland e Virg\\303\\255nia. Washington, D.C. abriga o governo federal dos Estados Unidos e \\303\\251 tamb\\303\\251m um importante centro cultural e tur\\303\\255stico.\"\n",
              " }\n",
              " role: \"model\"]"
            ]
          },
          "metadata": {},
          "execution_count": 11
        }
      ]
    },
    {
      "cell_type": "code",
      "source": [
        "#melhorando a visualização\n",
        "#Código disponível em https://ai.google.dev/tutorials/python_quickstart#import_packages\n",
        "import textwrap\n",
        "from IPython.display import display , Markdown\n",
        "\n",
        "def to_markdown(text):\n",
        "    text = text.replace('•', '  *')\n",
        "    return Markdown(textwrap.indent(text, '> ', predicate=lambda _: True))\n",
        "\n",
        "#Imprimindo o histórico\n",
        "for message in chat.history:\n",
        "    display(to_markdown(f\"**{message.role}**: {message.parts[0].text}\"))\n",
        "    print(\"--------------------------------------------\")"
      ],
      "metadata": {
        "colab": {
          "base_uri": "https://localhost:8080/",
          "height": 862
        },
        "id": "LbezllFnvvOK",
        "outputId": "32989124-b3ec-4b0e-80b2-13542b2ee284"
      },
      "execution_count": 12,
      "outputs": [
        {
          "output_type": "display_data",
          "data": {
            "text/plain": [
              "<IPython.core.display.Markdown object>"
            ],
            "text/markdown": "> **user**: Qual é a comida favorita do coelho"
          },
          "metadata": {}
        },
        {
          "output_type": "stream",
          "name": "stdout",
          "text": [
            "--------------------------------------------\n"
          ]
        },
        {
          "output_type": "display_data",
          "data": {
            "text/plain": [
              "<IPython.core.display.Markdown object>"
            ],
            "text/markdown": "> **model**: Cenoura"
          },
          "metadata": {}
        },
        {
          "output_type": "stream",
          "name": "stdout",
          "text": [
            "--------------------------------------------\n"
          ]
        },
        {
          "output_type": "display_data",
          "data": {
            "text/plain": [
              "<IPython.core.display.Markdown object>"
            ],
            "text/markdown": "> **user**: Que é uma?"
          },
          "metadata": {}
        },
        {
          "output_type": "stream",
          "name": "stdout",
          "text": [
            "--------------------------------------------\n"
          ]
        },
        {
          "output_type": "display_data",
          "data": {
            "text/plain": [
              "<IPython.core.display.Markdown object>"
            ],
            "text/markdown": "> **model**: Uma cenoura é um vegetal de raiz laranja comestível, com uma forma cônica e uma polpa crocante e doce. É uma boa fonte de vitaminas, minerais e fibras. As cenouras são frequentemente comidas cruas, mas também podem ser cozidas, assadas ou refogadas."
          },
          "metadata": {}
        },
        {
          "output_type": "stream",
          "name": "stdout",
          "text": [
            "--------------------------------------------\n"
          ]
        },
        {
          "output_type": "display_data",
          "data": {
            "text/plain": [
              "<IPython.core.display.Markdown object>"
            ],
            "text/markdown": "> **user**: Qual é um bolo clássico feito com esse ingrediente?"
          },
          "metadata": {}
        },
        {
          "output_type": "stream",
          "name": "stdout",
          "text": [
            "--------------------------------------------\n"
          ]
        },
        {
          "output_type": "display_data",
          "data": {
            "text/plain": [
              "<IPython.core.display.Markdown object>"
            ],
            "text/markdown": "> **model**: Bolo de cenoura\n> \n> O bolo de cenoura é um bolo clássico feito com cenouras raladas, especiarias quentes como canela e noz-moscada e uma cobertura de cream cheese. É um bolo denso e úmido com um sabor doce e picante. O bolo de cenoura é frequentemente servido como sobremesa ou lanche e pode ser decorado com nozes picadas ou cenouras glaceadas."
          },
          "metadata": {}
        },
        {
          "output_type": "stream",
          "name": "stdout",
          "text": [
            "--------------------------------------------\n"
          ]
        },
        {
          "output_type": "display_data",
          "data": {
            "text/plain": [
              "<IPython.core.display.Markdown object>"
            ],
            "text/markdown": "> **user**: Qual é o país de origem desse bolo?"
          },
          "metadata": {}
        },
        {
          "output_type": "stream",
          "name": "stdout",
          "text": [
            "--------------------------------------------\n"
          ]
        },
        {
          "output_type": "display_data",
          "data": {
            "text/plain": [
              "<IPython.core.display.Markdown object>"
            ],
            "text/markdown": "> **model**: Estados Unidos\n> \n> O bolo de cenoura é um bolo clássico americano que se acredita ter se originado no início do século XX. A primeira receita conhecida de bolo de cenoura foi publicada em 1927 no livro de receitas \"War Cakes\" de Ruth Wakefield, da Toll House Cookie. O bolo de cenoura ganhou popularidade durante a Segunda Guerra Mundial, quando as cenouras eram abundantes e o açúcar era escasso. O bolo de cenoura ainda é um bolo popular hoje, apreciado por seu sabor doce e picante e textura úmida."
          },
          "metadata": {}
        },
        {
          "output_type": "stream",
          "name": "stdout",
          "text": [
            "--------------------------------------------\n"
          ]
        },
        {
          "output_type": "display_data",
          "data": {
            "text/plain": [
              "<IPython.core.display.Markdown object>"
            ],
            "text/markdown": "> **user**: Qual é a capital desse país?"
          },
          "metadata": {}
        },
        {
          "output_type": "stream",
          "name": "stdout",
          "text": [
            "--------------------------------------------\n"
          ]
        },
        {
          "output_type": "display_data",
          "data": {
            "text/plain": [
              "<IPython.core.display.Markdown object>"
            ],
            "text/markdown": "> **model**: Washington, D.C.\n> \n> Washington, D.C. (Distrito de Columbia) é a capital dos Estados Unidos. É uma cidade independente localizada na costa leste dos Estados Unidos, entre os estados de Maryland e Virgínia. Washington, D.C. abriga o governo federal dos Estados Unidos e é também um importante centro cultural e turístico."
          },
          "metadata": {}
        },
        {
          "output_type": "stream",
          "name": "stdout",
          "text": [
            "--------------------------------------------\n"
          ]
        }
      ]
    },
    {
      "cell_type": "code",
      "source": [],
      "metadata": {
        "id": "cjQOGgu04PJO"
      },
      "execution_count": 12,
      "outputs": []
    }
  ]
}