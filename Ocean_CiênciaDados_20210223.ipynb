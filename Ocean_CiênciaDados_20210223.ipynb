{
  "nbformat": 4,
  "nbformat_minor": 0,
  "metadata": {
    "colab": {
      "name": "Ocean_CiênciaDados_20210223.ipynb",
      "provenance": [],
      "collapsed_sections": [],
      "authorship_tag": "ABX9TyM0FJ4iLubxx2MmjSTgtdtA",
      "include_colab_link": true
    },
    "kernelspec": {
      "name": "python3",
      "display_name": "Python 3"
    }
  },
  "cells": [
    {
      "cell_type": "markdown",
      "metadata": {
        "id": "view-in-github",
        "colab_type": "text"
      },
      "source": [
        "<a href=\"https://colab.research.google.com/github/BrunoMinetti/BootcampAluraDataScienceAplicada2021/blob/main/Ocean_Ci%C3%AAnciaDados_20210223.ipynb\" target=\"_parent\"><img src=\"https://colab.research.google.com/assets/colab-badge.svg\" alt=\"Open In Colab\"/></a>"
      ]
    },
    {
      "cell_type": "markdown",
      "metadata": {
        "id": "zuPl2KaEvjc4"
      },
      "source": [
        "#Ciência de Dados: Laboratório com Pandas e Python\r\n",
        "\r\n",
        "Aluno: Bruno Cesar Minetti Sanches\r\n",
        "\r\n",
        "HORÁRIO:das 13:30 às 16:30\r\n",
        "CARGA HORÁRIA:3 horas"
      ]
    },
    {
      "cell_type": "markdown",
      "metadata": {
        "id": "YJFbr7vdvpai"
      },
      "source": [
        "Conteúdo:\r\n",
        "\r\n",
        "Trabalhando com Dados de forma visual:\r\n",
        "\r\n",
        "- Acesso a dados\r\n",
        "\r\n",
        "- Manipulação de dados;\r\n",
        "\r\n",
        "- Limpeza de dados;\r\n",
        "\r\n",
        "- Visualização de dados\r\n",
        "\r\n",
        "Público Alvo: Estudantes, Profissionais, interessados em geral.\r\n",
        "Pré-Requisitos: Acima de 18 anos.\r\n",
        "Duração: 3 hora(s), das 13:30 às 16:30\r\n",
        "Palestrante: Prof. Paulo Salvatore\r\n",
        "Informações Adicionais: Horário de Brasília. Informações de acesso serão enviadas por e-mail."
      ]
    },
    {
      "cell_type": "code",
      "metadata": {
        "id": "a8BnS5v4vZHL"
      },
      "source": [
        "import pandas as pd"
      ],
      "execution_count": 5,
      "outputs": []
    },
    {
      "cell_type": "code",
      "metadata": {
        "colab": {
          "base_uri": "https://localhost:8080/"
        },
        "id": "ZDD7t_QtyILR",
        "outputId": "cbaa5d63-f1b2-47f2-d294-09ff9c2a5d7a"
      },
      "source": [
        "# Lista\r\n",
        "\r\n",
        "lista = [10, 20, 30, 40, 50]\r\n",
        "\r\n",
        "print(lista)\r\n",
        "print(type(lista))\r\n",
        "print('O primeiro elemento da lista é: ', lista[0])\r\n",
        "\r\n",
        "#Series - > lista\r\n",
        "\r\n",
        "series_numerica = pd.Series(lista)\r\n",
        "\r\n",
        "print(series_numerica)\r\n",
        "print(type(series_numerica))\r\n",
        "print(\"Primeiro elemento da series:\", series_numerica[0])\r\n",
        "print(\"Primeiro elemento:\", type(series_numerica[0]))\r\n"
      ],
      "execution_count": 6,
      "outputs": [
        {
          "output_type": "stream",
          "text": [
            "[10, 20, 30, 40, 50]\n",
            "<class 'list'>\n",
            "O primeiro elemento da lista é:  10\n",
            "0    10\n",
            "1    20\n",
            "2    30\n",
            "3    40\n",
            "4    50\n",
            "dtype: int64\n",
            "<class 'pandas.core.series.Series'>\n",
            "Primeiro elemento da series: 10\n",
            "Primeiro elemento: <class 'numpy.int64'>\n"
          ],
          "name": "stdout"
        }
      ]
    },
    {
      "cell_type": "code",
      "metadata": {
        "colab": {
          "base_uri": "https://localhost:8080/"
        },
        "id": "ipJenuEv1kAd",
        "outputId": "80a5b870-ffbf-4d92-82a8-789216651d3b"
      },
      "source": [
        "#Criando uma series com o mesmo valor várias vezes\r\n",
        "\r\n",
        "pd.Series(9.7, range(10))"
      ],
      "execution_count": 7,
      "outputs": [
        {
          "output_type": "execute_result",
          "data": {
            "text/plain": [
              "0    9.7\n",
              "1    9.7\n",
              "2    9.7\n",
              "3    9.7\n",
              "4    9.7\n",
              "5    9.7\n",
              "6    9.7\n",
              "7    9.7\n",
              "8    9.7\n",
              "9    9.7\n",
              "dtype: float64"
            ]
          },
          "metadata": {
            "tags": []
          },
          "execution_count": 7
        }
      ]
    },
    {
      "cell_type": "code",
      "metadata": {
        "colab": {
          "base_uri": "https://localhost:8080/"
        },
        "id": "zl5rQaHv1tEg",
        "outputId": "1fdbe817-7cbe-4465-efa0-cf79a390d384"
      },
      "source": [
        "# Quantos elementos temos na Series?\r\n",
        "\r\n",
        "# Na lista:\r\n",
        "print(\"Quantidade de elementos na Lista:\", len(lista))\r\n",
        "\r\n",
        "# Na Series:\r\n",
        "print(\"Quantidade de elementos na Series:\", series_numerica.count())"
      ],
      "execution_count": 8,
      "outputs": [
        {
          "output_type": "stream",
          "text": [
            "Quantidade de elementos na Lista: 5\n",
            "Quantidade de elementos na Series: 5\n"
          ],
          "name": "stdout"
        }
      ]
    },
    {
      "cell_type": "code",
      "metadata": {
        "colab": {
          "base_uri": "https://localhost:8080/"
        },
        "id": "TJSPYpUI6K5-",
        "outputId": "9c33955c-30b7-4998-a262-bfeb5bd37e3e"
      },
      "source": [
        "# A grande vantagem das series é a utilização com fórmulas matemáticas e cálculos estatísticos\r\n",
        "\r\n",
        "# Média\r\n",
        "print(\"Média\", series_numerica.mean())\r\n",
        "\r\n",
        "# Mínimo\r\n",
        "print(\"Mínimo\", series_numerica.min())\r\n",
        "\r\n",
        "# Máximo\r\n",
        "print(\"Máximo\", series_numerica.max())\r\n",
        "\r\n",
        "# Desvio Padrão\r\n",
        "print(\"Desvio Padrão\", series_numerica.std())\r\n",
        "\r\n",
        "print(\"\\nSeries Describe\\n\")\r\n",
        "series_numerica.describe()"
      ],
      "execution_count": 9,
      "outputs": [
        {
          "output_type": "stream",
          "text": [
            "Média 30.0\n",
            "Mínimo 10\n",
            "Máximo 50\n",
            "Desvio Padrão 15.811388300841896\n",
            "\n",
            "Series Describe\n",
            "\n"
          ],
          "name": "stdout"
        },
        {
          "output_type": "execute_result",
          "data": {
            "text/plain": [
              "count     5.000000\n",
              "mean     30.000000\n",
              "std      15.811388\n",
              "min      10.000000\n",
              "25%      20.000000\n",
              "50%      30.000000\n",
              "75%      40.000000\n",
              "max      50.000000\n",
              "dtype: float64"
            ]
          },
          "metadata": {
            "tags": []
          },
          "execution_count": 9
        }
      ]
    },
    {
      "cell_type": "code",
      "metadata": {
        "colab": {
          "base_uri": "https://localhost:8080/"
        },
        "id": "hwOHtE-S6TwV",
        "outputId": "7dc2f535-0526-40c6-866b-a41d8823d3ea"
      },
      "source": [
        "lista = [10, 20, 30]\r\n",
        "lista_indices = ['1ª dezena', '2ª dezena', '3ª dezena']\r\n",
        "\r\n",
        "lista_indices_nomeados = pd.Series(lista, lista_indices)\r\n",
        "\r\n",
        "print(lista_indices_nomeados)\r\n",
        "\r\n",
        "print(lista_indices_nomeados['1ª dezena'])"
      ],
      "execution_count": 10,
      "outputs": [
        {
          "output_type": "stream",
          "text": [
            "1ª dezena    10\n",
            "2ª dezena    20\n",
            "3ª dezena    30\n",
            "dtype: int64\n",
            "10\n"
          ],
          "name": "stdout"
        }
      ]
    },
    {
      "cell_type": "code",
      "metadata": {
        "colab": {
          "base_uri": "https://localhost:8080/"
        },
        "id": "224fNumw6Xl8",
        "outputId": "27107652-7f4d-45c5-fad5-07450230fb9c"
      },
      "source": [
        "# DataFrame\r\n",
        "\r\n",
        "# Representa uma matriz/dataset, que são tabelas (linhas e colunas)\r\n",
        "\r\n",
        "# Um DataFrame possui várias Series dentro\r\n",
        "\r\n",
        "# Criação de um Dicionário\r\n",
        "\r\n",
        "dicionario = {\r\n",
        "    'ESTADO': ['Amazonas', 'Amapá', 'Acre'],\r\n",
        "    'SIGLA': ['AM', 'AP', 'AC'],\r\n",
        "    'CAPITAL': ['Manaus', 'Macapá', 'Rio Branco']\r\n",
        "}\r\n",
        "\r\n",
        "print(dicionario)\r\n",
        "print(type(dicionario))\r\n",
        "\r\n",
        "dt = pd.DataFrame(dicionario)\r\n",
        "\r\n",
        "print()\r\n",
        "\r\n",
        "print(type(dt))\r\n",
        "print(dt)"
      ],
      "execution_count": 11,
      "outputs": [
        {
          "output_type": "stream",
          "text": [
            "{'ESTADO': ['Amazonas', 'Amapá', 'Acre'], 'SIGLA': ['AM', 'AP', 'AC'], 'CAPITAL': ['Manaus', 'Macapá', 'Rio Branco']}\n",
            "<class 'dict'>\n",
            "\n",
            "<class 'pandas.core.frame.DataFrame'>\n",
            "     ESTADO SIGLA     CAPITAL\n",
            "0  Amazonas    AM      Manaus\n",
            "1     Amapá    AP      Macapá\n",
            "2      Acre    AC  Rio Branco\n"
          ],
          "name": "stdout"
        }
      ]
    },
    {
      "cell_type": "code",
      "metadata": {
        "colab": {
          "base_uri": "https://localhost:8080/",
          "height": 136
        },
        "id": "Qlhu3TEr6iLA",
        "outputId": "e79017d8-f02b-4dbd-8a56-feebb1fc4bf1"
      },
      "source": [
        "dt"
      ],
      "execution_count": 12,
      "outputs": [
        {
          "output_type": "execute_result",
          "data": {
            "text/html": [
              "<div>\n",
              "<style scoped>\n",
              "    .dataframe tbody tr th:only-of-type {\n",
              "        vertical-align: middle;\n",
              "    }\n",
              "\n",
              "    .dataframe tbody tr th {\n",
              "        vertical-align: top;\n",
              "    }\n",
              "\n",
              "    .dataframe thead th {\n",
              "        text-align: right;\n",
              "    }\n",
              "</style>\n",
              "<table border=\"1\" class=\"dataframe\">\n",
              "  <thead>\n",
              "    <tr style=\"text-align: right;\">\n",
              "      <th></th>\n",
              "      <th>ESTADO</th>\n",
              "      <th>SIGLA</th>\n",
              "      <th>CAPITAL</th>\n",
              "    </tr>\n",
              "  </thead>\n",
              "  <tbody>\n",
              "    <tr>\n",
              "      <th>0</th>\n",
              "      <td>Amazonas</td>\n",
              "      <td>AM</td>\n",
              "      <td>Manaus</td>\n",
              "    </tr>\n",
              "    <tr>\n",
              "      <th>1</th>\n",
              "      <td>Amapá</td>\n",
              "      <td>AP</td>\n",
              "      <td>Macapá</td>\n",
              "    </tr>\n",
              "    <tr>\n",
              "      <th>2</th>\n",
              "      <td>Acre</td>\n",
              "      <td>AC</td>\n",
              "      <td>Rio Branco</td>\n",
              "    </tr>\n",
              "  </tbody>\n",
              "</table>\n",
              "</div>"
            ],
            "text/plain": [
              "     ESTADO SIGLA     CAPITAL\n",
              "0  Amazonas    AM      Manaus\n",
              "1     Amapá    AP      Macapá\n",
              "2      Acre    AC  Rio Branco"
            ]
          },
          "metadata": {
            "tags": []
          },
          "execution_count": 12
        }
      ]
    },
    {
      "cell_type": "code",
      "metadata": {
        "colab": {
          "base_uri": "https://localhost:8080/"
        },
        "id": "vWTU6Xn96ky7",
        "outputId": "98aeed10-9d1d-4adc-a92f-2f0d8da4aa41"
      },
      "source": [
        "print(dicionario['ESTADO'])\r\n",
        "print(type(dicionario['ESTADO']))"
      ],
      "execution_count": 13,
      "outputs": [
        {
          "output_type": "stream",
          "text": [
            "['Amazonas', 'Amapá', 'Acre']\n",
            "<class 'list'>\n"
          ],
          "name": "stdout"
        }
      ]
    },
    {
      "cell_type": "code",
      "metadata": {
        "colab": {
          "base_uri": "https://localhost:8080/"
        },
        "id": "QlCNHprK6m8M",
        "outputId": "334aaed6-1cfd-4bc5-89d3-992a90ea4379"
      },
      "source": [
        "print(dt['ESTADO'])\r\n",
        "print(type(dt['ESTADO']))"
      ],
      "execution_count": 14,
      "outputs": [
        {
          "output_type": "stream",
          "text": [
            "0    Amazonas\n",
            "1       Amapá\n",
            "2        Acre\n",
            "Name: ESTADO, dtype: object\n",
            "<class 'pandas.core.series.Series'>\n"
          ],
          "name": "stdout"
        }
      ]
    },
    {
      "cell_type": "code",
      "metadata": {
        "colab": {
          "base_uri": "https://localhost:8080/"
        },
        "id": "daNFh8LM6oMm",
        "outputId": "3618c696-8e9b-4199-f0ee-26bc3a910868"
      },
      "source": [
        "print(dt['ESTADO'].describe())"
      ],
      "execution_count": 15,
      "outputs": [
        {
          "output_type": "stream",
          "text": [
            "count         3\n",
            "unique        3\n",
            "top       Amapá\n",
            "freq          1\n",
            "Name: ESTADO, dtype: object\n"
          ],
          "name": "stdout"
        }
      ]
    },
    {
      "cell_type": "code",
      "metadata": {
        "colab": {
          "base_uri": "https://localhost:8080/"
        },
        "id": "Fyb7JvJT6qSu",
        "outputId": "318ee508-6df5-4434-aefa-c18b8b1e306f"
      },
      "source": [
        "dt.ESTADO"
      ],
      "execution_count": 16,
      "outputs": [
        {
          "output_type": "execute_result",
          "data": {
            "text/plain": [
              "0    Amazonas\n",
              "1       Amapá\n",
              "2        Acre\n",
              "Name: ESTADO, dtype: object"
            ]
          },
          "metadata": {
            "tags": []
          },
          "execution_count": 16
        }
      ]
    },
    {
      "cell_type": "markdown",
      "metadata": {
        "id": "fMsluVmc7A2D"
      },
      "source": [
        "##Trabalhando com CSV"
      ]
    },
    {
      "cell_type": "code",
      "metadata": {
        "id": "eIJSve9s7FnG"
      },
      "source": [
        "import pandas as pd\r\n"
      ],
      "execution_count": null,
      "outputs": []
    },
    {
      "cell_type": "code",
      "metadata": {
        "id": "IqBqAUgL608j"
      },
      "source": [
        "url = 'https://raw.githubusercontent.com/paulosalvatore/Ocean_CienciaDados_23_02_2021/main/dados-curso.csv'\r\n",
        "\r\n",
        "dt = pd.read_csv(url)"
      ],
      "execution_count": 17,
      "outputs": []
    },
    {
      "cell_type": "code",
      "metadata": {
        "colab": {
          "base_uri": "https://localhost:8080/",
          "height": 402
        },
        "id": "7xgD1_2E7TVw",
        "outputId": "f2f3ff51-3f60-43d2-ebed-fd221c593a51"
      },
      "source": [
        "dt"
      ],
      "execution_count": 18,
      "outputs": [
        {
          "output_type": "execute_result",
          "data": {
            "text/html": [
              "<div>\n",
              "<style scoped>\n",
              "    .dataframe tbody tr th:only-of-type {\n",
              "        vertical-align: middle;\n",
              "    }\n",
              "\n",
              "    .dataframe tbody tr th {\n",
              "        vertical-align: top;\n",
              "    }\n",
              "\n",
              "    .dataframe thead th {\n",
              "        text-align: right;\n",
              "    }\n",
              "</style>\n",
              "<table border=\"1\" class=\"dataframe\">\n",
              "  <thead>\n",
              "    <tr style=\"text-align: right;\">\n",
              "      <th></th>\n",
              "      <th>data</th>\n",
              "      <th>texto</th>\n",
              "      <th>retweet</th>\n",
              "      <th>idioma</th>\n",
              "      <th>lugar</th>\n",
              "      <th>pais</th>\n",
              "      <th>sigla</th>\n",
              "      <th>latitude</th>\n",
              "      <th>longitude</th>\n",
              "    </tr>\n",
              "  </thead>\n",
              "  <tbody>\n",
              "    <tr>\n",
              "      <th>0</th>\n",
              "      <td>2020-05-23 00:21:14</td>\n",
              "      <td>Para voltar tudo ao normal, você precisa fazer...</td>\n",
              "      <td>0</td>\n",
              "      <td>pt</td>\n",
              "      <td>Rio das Ostras</td>\n",
              "      <td>Brazil</td>\n",
              "      <td>BR</td>\n",
              "      <td>-41.937900</td>\n",
              "      <td>-22.522600</td>\n",
              "    </tr>\n",
              "    <tr>\n",
              "      <th>1</th>\n",
              "      <td>2020-03-22 22:57:51</td>\n",
              "      <td>14.245 – O que é a hidroxicloroquina? https://...</td>\n",
              "      <td>0</td>\n",
              "      <td>pt</td>\n",
              "      <td>Sao Paulo</td>\n",
              "      <td>Brazil</td>\n",
              "      <td>BR</td>\n",
              "      <td>-46.674739</td>\n",
              "      <td>-23.606067</td>\n",
              "    </tr>\n",
              "    <tr>\n",
              "      <th>2</th>\n",
              "      <td>2020-04-14 00:11:33</td>\n",
              "      <td>Quarta morte em Lar de Estarreja associada à C...</td>\n",
              "      <td>1</td>\n",
              "      <td>pt</td>\n",
              "      <td>Lisbon</td>\n",
              "      <td>Portugal</td>\n",
              "      <td>PT</td>\n",
              "      <td>-9.099043</td>\n",
              "      <td>38.747518</td>\n",
              "    </tr>\n",
              "    <tr>\n",
              "      <th>3</th>\n",
              "      <td>2020-05-25 20:45:43</td>\n",
              "      <td>COVID-19 |  Hospital municipal Tide Setúbal, n...</td>\n",
              "      <td>0</td>\n",
              "      <td>pt</td>\n",
              "      <td>Sao Paulo</td>\n",
              "      <td>Brazil</td>\n",
              "      <td>BR</td>\n",
              "      <td>-46.633300</td>\n",
              "      <td>-23.550000</td>\n",
              "    </tr>\n",
              "    <tr>\n",
              "      <th>4</th>\n",
              "      <td>2020-04-15 10:34:39</td>\n",
              "      <td>#cenasdocotidiano #santos #distanciamentosocia...</td>\n",
              "      <td>0</td>\n",
              "      <td>pt</td>\n",
              "      <td>Santos</td>\n",
              "      <td>Brazil</td>\n",
              "      <td>BR</td>\n",
              "      <td>-46.293700</td>\n",
              "      <td>-23.975947</td>\n",
              "    </tr>\n",
              "    <tr>\n",
              "      <th>...</th>\n",
              "      <td>...</td>\n",
              "      <td>...</td>\n",
              "      <td>...</td>\n",
              "      <td>...</td>\n",
              "      <td>...</td>\n",
              "      <td>...</td>\n",
              "      <td>...</td>\n",
              "      <td>...</td>\n",
              "      <td>...</td>\n",
              "    </tr>\n",
              "    <tr>\n",
              "      <th>495</th>\n",
              "      <td>2020-04-07 16:14:13</td>\n",
              "      <td>O isolamento social também serve para mostrar ...</td>\n",
              "      <td>1</td>\n",
              "      <td>pt</td>\n",
              "      <td>Rio Branco</td>\n",
              "      <td>Brazil</td>\n",
              "      <td>BR</td>\n",
              "      <td>-67.859657</td>\n",
              "      <td>-9.932246</td>\n",
              "    </tr>\n",
              "    <tr>\n",
              "      <th>496</th>\n",
              "      <td>2020-03-26 18:02:28</td>\n",
              "      <td>Enquanto o mundo está atento ao covid 19 é o B...</td>\n",
              "      <td>0</td>\n",
              "      <td>pt</td>\n",
              "      <td>Rio de Janeiro</td>\n",
              "      <td>Brazil</td>\n",
              "      <td>BR</td>\n",
              "      <td>-43.358100</td>\n",
              "      <td>-22.942800</td>\n",
              "    </tr>\n",
              "    <tr>\n",
              "      <th>497</th>\n",
              "      <td>2020-03-18 05:28:16</td>\n",
              "      <td>#covid_19 #stayhome @ Toronto, Ontario https:/...</td>\n",
              "      <td>0</td>\n",
              "      <td>pt</td>\n",
              "      <td>Toronto</td>\n",
              "      <td>Canada</td>\n",
              "      <td>CA</td>\n",
              "      <td>-79.387200</td>\n",
              "      <td>43.648000</td>\n",
              "    </tr>\n",
              "    <tr>\n",
              "      <th>498</th>\n",
              "      <td>2020-03-03 21:27:11</td>\n",
              "      <td>Um vira-lata sem Coronavirus #joeviralata #dog...</td>\n",
              "      <td>0</td>\n",
              "      <td>pt</td>\n",
              "      <td>Sao Paulo</td>\n",
              "      <td>Brazil</td>\n",
              "      <td>BR</td>\n",
              "      <td>-46.633300</td>\n",
              "      <td>-23.550000</td>\n",
              "    </tr>\n",
              "    <tr>\n",
              "      <th>499</th>\n",
              "      <td>2020-01-21 13:18:03</td>\n",
              "      <td>Portugal já está a preparar-se para responder ...</td>\n",
              "      <td>1</td>\n",
              "      <td>pt</td>\n",
              "      <td>Lisbon</td>\n",
              "      <td>Portugal</td>\n",
              "      <td>PT</td>\n",
              "      <td>-9.099043</td>\n",
              "      <td>38.747518</td>\n",
              "    </tr>\n",
              "  </tbody>\n",
              "</table>\n",
              "<p>500 rows × 9 columns</p>\n",
              "</div>"
            ],
            "text/plain": [
              "                    data  ...  longitude\n",
              "0    2020-05-23 00:21:14  ... -22.522600\n",
              "1    2020-03-22 22:57:51  ... -23.606067\n",
              "2    2020-04-14 00:11:33  ...  38.747518\n",
              "3    2020-05-25 20:45:43  ... -23.550000\n",
              "4    2020-04-15 10:34:39  ... -23.975947\n",
              "..                   ...  ...        ...\n",
              "495  2020-04-07 16:14:13  ...  -9.932246\n",
              "496  2020-03-26 18:02:28  ... -22.942800\n",
              "497  2020-03-18 05:28:16  ...  43.648000\n",
              "498  2020-03-03 21:27:11  ... -23.550000\n",
              "499  2020-01-21 13:18:03  ...  38.747518\n",
              "\n",
              "[500 rows x 9 columns]"
            ]
          },
          "metadata": {
            "tags": []
          },
          "execution_count": 18
        }
      ]
    },
    {
      "cell_type": "code",
      "metadata": {
        "id": "BM1iZz4Y7UL4"
      },
      "source": [
        ""
      ],
      "execution_count": null,
      "outputs": []
    }
  ]
}